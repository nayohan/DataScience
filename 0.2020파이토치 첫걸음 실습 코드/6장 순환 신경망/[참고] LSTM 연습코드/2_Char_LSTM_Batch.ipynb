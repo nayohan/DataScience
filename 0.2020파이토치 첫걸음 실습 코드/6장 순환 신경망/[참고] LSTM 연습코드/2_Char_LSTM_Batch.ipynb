{
 "cells": [
  {
   "cell_type": "code",
   "execution_count": 2,
   "metadata": {
    "colab": {},
    "colab_type": "code",
    "id": "1skF3eRZDTPk"
   },
   "outputs": [],
   "source": [
    "# 이번 코드는 Batch_First 모드로 구현했습니다.\n",
    "\n",
    "import torch \n",
    "import torch.nn as nn\n",
    "import torch.optim as optim\n",
    "import numpy as np"
   ]
  },
  {
   "cell_type": "code",
   "execution_count": null,
   "metadata": {},
   "outputs": [],
   "source": []
  },
  {
   "cell_type": "code",
   "execution_count": 3,
   "metadata": {
    "colab": {
     "base_uri": "https://localhost:8080/",
     "height": 34
    },
    "colab_type": "code",
    "executionInfo": {
     "elapsed": 721,
     "status": "ok",
     "timestamp": 1559549037486,
     "user": {
      "displayName": "Choi Gunho",
      "photoUrl": "",
      "userId": "04388737836176863066"
     },
     "user_tz": -540
    },
    "id": "VjbTqHEvDTPu",
    "outputId": "db5d43ec-8473-4d44-e86c-d89e2650e018"
   },
   "outputs": [
    {
     "data": {
      "text/plain": [
       "35"
      ]
     },
     "execution_count": 3,
     "metadata": {},
     "output_type": "execute_result"
    }
   ],
   "source": [
    "# Preprocessing string data\n",
    "# alphabet(0-25), space(26), start(27), end(28) -> 29 chars (0-28)\n",
    "\n",
    "string = \"hello pytorch. how long can a rnn cell remember? show me your limit!\"\n",
    "chars = \"abcdefghijklmnopqrstuvwxyz ?!.,:;01\"\n",
    "char_list = [i for i in chars]\n",
    "char_len = len(char_list)\n",
    "\n",
    "char_len"
   ]
  },
  {
   "cell_type": "code",
   "execution_count": 4,
   "metadata": {
    "colab": {},
    "colab_type": "code",
    "id": "dHOzcFMJDTP5"
   },
   "outputs": [],
   "source": [
    "# String to onehot vector\n",
    "# a -> [1 0 0 ... 0 0]\n",
    "\n",
    "def string_to_onehot(string):\n",
    "    start = np.zeros(shape=char_len ,dtype=int)\n",
    "    end = np.zeros(shape=char_len ,dtype=int)\n",
    "    start[-2] = 1\n",
    "    end[-1] = 1\n",
    "    for i in string:\n",
    "        idx = char_list.index(i)\n",
    "        zero = np.zeros(shape=char_len ,dtype=int)\n",
    "        zero[idx]=1\n",
    "        start = np.vstack([start,zero])\n",
    "    output = np.vstack([start,end])\n",
    "    return output"
   ]
  },
  {
   "cell_type": "code",
   "execution_count": 5,
   "metadata": {
    "colab": {},
    "colab_type": "code",
    "id": "cZ4Qiz8SDTP8"
   },
   "outputs": [],
   "source": [
    "# Onehot vector to word\n",
    "# [1 0 0 ... 0 0] -> a \n",
    "\n",
    "def onehot_to_word(onehot_1):\n",
    "    onehot = torch.Tensor.numpy(onehot_1)\n",
    "    return char_list[onehot.argmax()]"
   ]
  },
  {
   "cell_type": "code",
   "execution_count": 6,
   "metadata": {
    "colab": {
     "base_uri": "https://localhost:8080/",
     "height": 34
    },
    "colab_type": "code",
    "executionInfo": {
     "elapsed": 928,
     "status": "ok",
     "timestamp": 1559549037737,
     "user": {
      "displayName": "Choi Gunho",
      "photoUrl": "",
      "userId": "04388737836176863066"
     },
     "user_tz": -540
    },
    "id": "8Qg3dEcdDTP_",
    "outputId": "96766e14-15aa-4192-d421-89b61b40b702"
   },
   "outputs": [
    {
     "name": "stdout",
     "output_type": "stream",
     "text": [
      "torch.Size([70, 35])\n"
     ]
    }
   ],
   "source": [
    "# 하이퍼파라미터 설정\n",
    "# 이번코드는 배치사이즈가 1보다 큰 경우에 대해 만들었습니다.\n",
    "batch_size = 5\n",
    "\n",
    "# seq_len는 바꿔도 학습은 되지만 테스트시 편의성을 위해 1로 설정했습니다.\n",
    "seq_len = 1\n",
    "\n",
    "# num_layers는 자유롭게 바꿀 수 있습니다.\n",
    "num_layers = 3\n",
    "input_size = char_len\n",
    "hidden_size = 35 \n",
    "lr = 0.01\n",
    "num_epochs = 1000\n",
    "\n",
    "one_hot = torch.from_numpy(string_to_onehot(string)).type_as(torch.FloatTensor())\n",
    "\n",
    "print(one_hot.size())"
   ]
  },
  {
   "cell_type": "code",
   "execution_count": 7,
   "metadata": {
    "colab": {},
    "colab_type": "code",
    "id": "MYIumx3bDTQD"
   },
   "outputs": [],
   "source": [
    "# RNN with 1 hidden layer\n",
    "\n",
    "class RNN(nn.Module):\n",
    "    def __init__(self, input_size, hidden_size,num_layers):\n",
    "        super(RNN, self).__init__()\n",
    "        self.input_size = input_size\n",
    "        self.hidden_size = hidden_size\n",
    "        self.num_layers = num_layers\n",
    "        self.lstm = nn.LSTM(input_size, hidden_size, num_layers, batch_first=True)\n",
    "        \n",
    "    def forward(self,input,hidden,cell):\n",
    "        output,(hidden,cell) = self.lstm(input,(hidden,cell))\n",
    "        return output,hidden,cell\n",
    "    \n",
    "    def init_hidden_cell(self):\n",
    "        hidden = torch.zeros(num_layers, batch_size, hidden_size)\n",
    "        cell = torch.zeros(num_layers, batch_size, hidden_size)\n",
    "        return hidden,cell\n",
    "    \n",
    "rnn = RNN(input_size,hidden_size, num_layers)"
   ]
  },
  {
   "cell_type": "code",
   "execution_count": 8,
   "metadata": {
    "colab": {},
    "colab_type": "code",
    "id": "7Ik03eJSDTQG"
   },
   "outputs": [],
   "source": [
    "# Loss function & Optimizer\n",
    "\n",
    "loss_func = nn.MSELoss()\n",
    "optimizer = torch.optim.Adam(rnn.parameters(), lr=lr)"
   ]
  },
  {
   "cell_type": "code",
   "execution_count": 9,
   "metadata": {
    "colab": {
     "base_uri": "https://localhost:8080/",
     "height": 68
    },
    "colab_type": "code",
    "executionInfo": {
     "elapsed": 910,
     "status": "ok",
     "timestamp": 1559549037743,
     "user": {
      "displayName": "Choi Gunho",
      "photoUrl": "",
      "userId": "04388737836176863066"
     },
     "user_tz": -540
    },
    "id": "K_QtY_c0DTQJ",
    "outputId": "1b47518d-243c-4f41-a793-b062dcaf8fab",
    "scrolled": true
   },
   "outputs": [
    {
     "name": "stdout",
     "output_type": "stream",
     "text": [
      "torch.Size([5, 1, 35])\n",
      "torch.Size([3, 5, 35]) torch.Size([3, 5, 35])\n",
      "torch.Size([5, 1, 35]) torch.Size([3, 5, 35]) torch.Size([3, 5, 35])\n"
     ]
    }
   ],
   "source": [
    "j=0\n",
    "input_data = one_hot[j:j+batch_size].view(batch_size,seq_len,input_size)\n",
    "print(input_data.size())\n",
    "\n",
    "hidden,cell = rnn.init_hidden_cell()\n",
    "print(hidden.size(),cell.size())\n",
    "\n",
    "output,hidden,cell = rnn(input_data,hidden,cell)\n",
    "print(output.size(),hidden.size(),cell.size())\n",
    "\n"
   ]
  },
  {
   "cell_type": "code",
   "execution_count": 10,
   "metadata": {
    "colab": {
     "base_uri": "https://localhost:8080/",
     "height": 1717
    },
    "colab_type": "code",
    "executionInfo": {
     "elapsed": 81208,
     "status": "ok",
     "timestamp": 1559549118047,
     "user": {
      "displayName": "Choi Gunho",
      "photoUrl": "",
      "userId": "04388737836176863066"
     },
     "user_tz": -540
    },
    "id": "V71ND6PXD9CM",
    "outputId": "e4adb43b-7727-46f2-f926-b923a4d5288a"
   },
   "outputs": [
    {
     "name": "stdout",
     "output_type": "stream",
     "text": [
      "tensor(2.2067, grad_fn=<AddBackward0>)\n",
      "tensor(1.6961, grad_fn=<AddBackward0>)\n",
      "tensor(1.6082, grad_fn=<AddBackward0>)\n",
      "tensor(1.4676, grad_fn=<AddBackward0>)\n",
      "tensor(1.2355, grad_fn=<AddBackward0>)\n",
      "tensor(0.8852, grad_fn=<AddBackward0>)\n",
      "tensor(0.6370, grad_fn=<AddBackward0>)\n",
      "tensor(0.3572, grad_fn=<AddBackward0>)\n",
      "tensor(0.1866, grad_fn=<AddBackward0>)\n",
      "tensor(0.1073, grad_fn=<AddBackward0>)\n",
      "tensor(0.0738, grad_fn=<AddBackward0>)\n",
      "tensor(0.0515, grad_fn=<AddBackward0>)\n",
      "tensor(0.0376, grad_fn=<AddBackward0>)\n",
      "tensor(0.0292, grad_fn=<AddBackward0>)\n",
      "tensor(0.0238, grad_fn=<AddBackward0>)\n",
      "tensor(0.0202, grad_fn=<AddBackward0>)\n",
      "tensor(0.0179, grad_fn=<AddBackward0>)\n",
      "tensor(0.0184, grad_fn=<AddBackward0>)\n",
      "tensor(0.0158, grad_fn=<AddBackward0>)\n",
      "tensor(0.0142, grad_fn=<AddBackward0>)\n",
      "tensor(0.0132, grad_fn=<AddBackward0>)\n",
      "tensor(0.0125, grad_fn=<AddBackward0>)\n",
      "tensor(0.0119, grad_fn=<AddBackward0>)\n",
      "tensor(0.0114, grad_fn=<AddBackward0>)\n",
      "tensor(0.0110, grad_fn=<AddBackward0>)\n",
      "tensor(0.0107, grad_fn=<AddBackward0>)\n",
      "tensor(0.0104, grad_fn=<AddBackward0>)\n",
      "tensor(0.0101, grad_fn=<AddBackward0>)\n",
      "tensor(0.0099, grad_fn=<AddBackward0>)\n",
      "tensor(0.0097, grad_fn=<AddBackward0>)\n",
      "tensor(0.0095, grad_fn=<AddBackward0>)\n",
      "tensor(0.0094, grad_fn=<AddBackward0>)\n",
      "tensor(0.0092, grad_fn=<AddBackward0>)\n",
      "tensor(0.0091, grad_fn=<AddBackward0>)\n",
      "tensor(0.0090, grad_fn=<AddBackward0>)\n",
      "tensor(0.0089, grad_fn=<AddBackward0>)\n",
      "tensor(0.0088, grad_fn=<AddBackward0>)\n",
      "tensor(0.0087, grad_fn=<AddBackward0>)\n",
      "tensor(0.0086, grad_fn=<AddBackward0>)\n",
      "tensor(0.0085, grad_fn=<AddBackward0>)\n",
      "tensor(0.0088, grad_fn=<AddBackward0>)\n",
      "tensor(0.0092, grad_fn=<AddBackward0>)\n",
      "tensor(0.0085, grad_fn=<AddBackward0>)\n",
      "tensor(0.0084, grad_fn=<AddBackward0>)\n",
      "tensor(0.0082, grad_fn=<AddBackward0>)\n",
      "tensor(0.0082, grad_fn=<AddBackward0>)\n",
      "tensor(0.0081, grad_fn=<AddBackward0>)\n",
      "tensor(0.0080, grad_fn=<AddBackward0>)\n",
      "tensor(0.0080, grad_fn=<AddBackward0>)\n",
      "tensor(0.0080, grad_fn=<AddBackward0>)\n",
      "tensor(0.0079, grad_fn=<AddBackward0>)\n",
      "tensor(0.0079, grad_fn=<AddBackward0>)\n",
      "tensor(0.0079, grad_fn=<AddBackward0>)\n",
      "tensor(0.0078, grad_fn=<AddBackward0>)\n",
      "tensor(0.0078, grad_fn=<AddBackward0>)\n",
      "tensor(0.0078, grad_fn=<AddBackward0>)\n",
      "tensor(0.0078, grad_fn=<AddBackward0>)\n",
      "tensor(0.0077, grad_fn=<AddBackward0>)\n",
      "tensor(0.0077, grad_fn=<AddBackward0>)\n",
      "tensor(0.0077, grad_fn=<AddBackward0>)\n",
      "tensor(0.0077, grad_fn=<AddBackward0>)\n",
      "tensor(0.0076, grad_fn=<AddBackward0>)\n",
      "tensor(0.0076, grad_fn=<AddBackward0>)\n",
      "tensor(0.0076, grad_fn=<AddBackward0>)\n",
      "tensor(0.0076, grad_fn=<AddBackward0>)\n",
      "tensor(0.0077, grad_fn=<AddBackward0>)\n",
      "tensor(0.0076, grad_fn=<AddBackward0>)\n",
      "tensor(0.0076, grad_fn=<AddBackward0>)\n",
      "tensor(0.0075, grad_fn=<AddBackward0>)\n",
      "tensor(0.0075, grad_fn=<AddBackward0>)\n",
      "tensor(0.0075, grad_fn=<AddBackward0>)\n",
      "tensor(0.0075, grad_fn=<AddBackward0>)\n",
      "tensor(0.0075, grad_fn=<AddBackward0>)\n",
      "tensor(0.0075, grad_fn=<AddBackward0>)\n",
      "tensor(0.0075, grad_fn=<AddBackward0>)\n",
      "tensor(0.0074, grad_fn=<AddBackward0>)\n",
      "tensor(0.0075, grad_fn=<AddBackward0>)\n",
      "tensor(0.0074, grad_fn=<AddBackward0>)\n",
      "tensor(0.0074, grad_fn=<AddBackward0>)\n",
      "tensor(0.0074, grad_fn=<AddBackward0>)\n",
      "tensor(0.0074, grad_fn=<AddBackward0>)\n",
      "tensor(0.0074, grad_fn=<AddBackward0>)\n",
      "tensor(0.0074, grad_fn=<AddBackward0>)\n",
      "tensor(0.0074, grad_fn=<AddBackward0>)\n",
      "tensor(0.0073, grad_fn=<AddBackward0>)\n",
      "tensor(0.0074, grad_fn=<AddBackward0>)\n",
      "tensor(0.0074, grad_fn=<AddBackward0>)\n",
      "tensor(0.0073, grad_fn=<AddBackward0>)\n",
      "tensor(0.0073, grad_fn=<AddBackward0>)\n",
      "tensor(0.0073, grad_fn=<AddBackward0>)\n",
      "tensor(0.0073, grad_fn=<AddBackward0>)\n",
      "tensor(0.0073, grad_fn=<AddBackward0>)\n",
      "tensor(0.0073, grad_fn=<AddBackward0>)\n",
      "tensor(0.0073, grad_fn=<AddBackward0>)\n",
      "tensor(0.0073, grad_fn=<AddBackward0>)\n",
      "tensor(0.0073, grad_fn=<AddBackward0>)\n",
      "tensor(0.0072, grad_fn=<AddBackward0>)\n",
      "tensor(0.0072, grad_fn=<AddBackward0>)\n",
      "tensor(0.0072, grad_fn=<AddBackward0>)\n",
      "tensor(0.0072, grad_fn=<AddBackward0>)\n"
     ]
    }
   ],
   "source": [
    "unroll_len = one_hot.size()[0]//seq_len -1\n",
    "for i in range(num_epochs):\n",
    "    optimizer.zero_grad()\n",
    "    hidden,cell = rnn.init_hidden_cell()\n",
    "    \n",
    "    loss = 0\n",
    "    for j in range(unroll_len-batch_size+1):\n",
    "        \n",
    "        # batch size에 맞게 one-hot 벡터를 스택 합니다.\n",
    "        # 예를 들어 batch size가 3이면 pytorch에서 pyt를 one-hot 벡터로 바꿔서 쌓고\n",
    "        # 목표값으로 yto를 one-hot 벡터로 바꿔서 쌓는 과정입니다.\n",
    "        input_data = torch.stack([one_hot[j+k:j+k+seq_len] for k in range(batch_size)],dim=0)\n",
    "        label = torch.stack([one_hot[j+k+1:j+k+seq_len+1] for k in range(batch_size)],dim=0)\n",
    "        \n",
    "        input_data = input_data\n",
    "        label = label\n",
    "        \n",
    "        output, hidden, cell = rnn(input_data,hidden,cell)\n",
    "        loss += loss_func(output.view(1,-1),label.view(1,-1))\n",
    "        \n",
    "    loss.backward()\n",
    "    optimizer.step()\n",
    "\n",
    "    if i % 10 == 0:\n",
    "        print(loss)"
   ]
  },
  {
   "cell_type": "code",
   "execution_count": 11,
   "metadata": {
    "colab": {
     "base_uri": "https://localhost:8080/",
     "height": 54
    },
    "colab_type": "code",
    "executionInfo": {
     "elapsed": 822,
     "status": "ok",
     "timestamp": 1559552063939,
     "user": {
      "displayName": "Choi Gunho",
      "photoUrl": "",
      "userId": "04388737836176863066"
     },
     "user_tz": -540
    },
    "id": "LyafHep4DTQP",
    "outputId": "ab4ce432-7817-4ff0-870d-14423d432f75"
   },
   "outputs": [
    {
     "name": "stdout",
     "output_type": "stream",
     "text": [
      "hello pytorch. how long can a rnn cell remember? show me your limit!1"
     ]
    }
   ],
   "source": [
    "hidden,cell = rnn.init_hidden_cell()\n",
    "\n",
    "for j in range(unroll_len-batch_size+1):\n",
    "    input_data = torch.stack([one_hot[j+k:j+k+seq_len] for k in range(batch_size)],dim=0)\n",
    "    label = torch.stack([one_hot[j+k+1:j+k+seq_len+1] for k in range(batch_size)],dim=0)\n",
    "\n",
    "    input_data = input_data\n",
    "    label = label\n",
    "    \n",
    "    output, hidden, cell = rnn(input_data,hidden,cell)\n",
    "    for k in range(batch_size):\n",
    "        print(onehot_to_word(output[k].data),end=\"\")\n",
    "        if j < unroll_len-batch_size:\n",
    "            break\n"
   ]
  },
  {
   "cell_type": "code",
   "execution_count": null,
   "metadata": {
    "colab": {},
    "colab_type": "code",
    "id": "pwQHzX-gEIoD"
   },
   "outputs": [],
   "source": []
  }
 ],
 "metadata": {
  "colab": {
   "collapsed_sections": [],
   "name": "2_Char_LSTM_Batch.ipynb",
   "provenance": [],
   "version": "0.3.2"
  },
  "kernelspec": {
   "display_name": "Python 3",
   "language": "python",
   "name": "python3"
  },
  "language_info": {
   "codemirror_mode": {
    "name": "ipython",
    "version": 3
   },
   "file_extension": ".py",
   "mimetype": "text/x-python",
   "name": "python",
   "nbconvert_exporter": "python",
   "pygments_lexer": "ipython3",
   "version": "3.7.6"
  }
 },
 "nbformat": 4,
 "nbformat_minor": 1
}
