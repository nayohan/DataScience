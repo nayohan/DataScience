{
 "cells": [
  {
   "cell_type": "markdown",
   "metadata": {},
   "source": [
    "# 단순 선형회귀 분석 (최소제곱법)"
   ]
  },
  {
   "cell_type": "code",
   "execution_count": 1,
   "metadata": {},
   "outputs": [],
   "source": [
    "from IPython.core.interactiveshell import InteractiveShell\n",
    "InteractiveShell.ast_node_interactivity = \"all\"\n",
    "\n",
    "import numpy as np\n",
    "import matplotlib.pyplot as plt\n",
    "%matplotlib inline"
   ]
  },
  {
   "cell_type": "code",
   "execution_count": 2,
   "metadata": {
    "scrolled": true
   },
   "outputs": [
    {
     "name": "stdout",
     "output_type": "stream",
     "text": [
      "x의 평균값 :  5.0\n",
      "y의 평균값 :  90.5\n",
      "분자 :  46.0\n",
      "분모 :  20.0\n",
      "기울기 a:  2.3\n",
      "기울기 b:  79.0\n"
     ]
    }
   ],
   "source": [
    "x = [2, 4, 6, 8]\n",
    "y = [81, 93, 91, 97]\n",
    "mx = np.mean(x)\n",
    "my = np.mean(y)\n",
    "print(\"x의 평균값 : \", mx)\n",
    "print(\"y의 평균값 : \", my)\n",
    "\n",
    "divisor = sum([(mx - i)**2 for i in x]) #분모\n",
    "def top(x, mx, y, my):\n",
    "    d = 0\n",
    "    for i in range(len(x)):\n",
    "        d += (x[i] - mx) * (y[i] - my)\n",
    "    return d\n",
    "dividend = top(x,mx,y,my) #분자 \n",
    "\n",
    "print(\"분자 : \", dividend)\n",
    "print(\"분모 : \", divisor)\n",
    "\n",
    "a = dividend / divisor\n",
    "b = my - (mx*a)\n",
    "\n",
    "print(\"기울기 a: \", a)\n",
    "print(\"기울기 b: \", b)\n",
    "#모든 값에 대한 "
   ]
  },
  {
   "cell_type": "code",
   "execution_count": 3,
   "metadata": {},
   "outputs": [
    {
     "data": {
      "text/plain": [
       "[<matplotlib.lines.Line2D at 0x2051841c788>]"
      ]
     },
     "execution_count": 3,
     "metadata": {},
     "output_type": "execute_result"
    },
    {
     "data": {
      "text/plain": [
       "[<matplotlib.lines.Line2D at 0x20517f5c288>]"
      ]
     },
     "execution_count": 3,
     "metadata": {},
     "output_type": "execute_result"
    },
    {
     "data": {
      "text/plain": [
       "[<matplotlib.lines.Line2D at 0x20518472a48>]"
      ]
     },
     "execution_count": 3,
     "metadata": {},
     "output_type": "execute_result"
    },
    {
     "data": {
      "image/png": "[encoded data removed]",
      "text/plain": [
       "<Figure size 432x288 with 1 Axes>"
      ]
     },
     "metadata": {
      "needs_background": "light"
     },
     "output_type": "display_data"
    }
   ],
   "source": [
    "ins = np.linspace(1,10, num=10)\n",
    "ans = np.dot(a,ins)+b\n",
    "plt.plot(ins, ans, 'r')\n",
    "plt.plot(ins, ans, 'r.')\n",
    "plt.plot(x, y, 'b.')\n",
    "plt.show()"
   ]
  },
  {
   "cell_type": "markdown",
   "metadata": {},
   "source": [
    "# 단순 선형회귀분석 예제2 (평균제곱오차법)"
   ]
  },
  {
   "cell_type": "code",
   "execution_count": 4,
   "metadata": {
    "scrolled": true
   },
   "outputs": [
    {
     "name": "stdout",
     "output_type": "stream",
     "text": [
      "공부시간=2, 실제점수=81, 예측점수=82\n",
      "공부시간=4, 실제점수=93, 예측점수=88\n",
      "공부시간=6, 실제점수=91, 예측점수=94\n",
      "공부시간=8, 실제점수=97, 예측점수=100\n",
      "rmse 최종값: 3.3166247903554\n",
      "기울기 a =  3\n",
      "y절편 b =  76\n"
     ]
    }
   ],
   "source": [
    "#기울기a와 절편b\n",
    "ab = [3, 76]\n",
    "ab_old = ab\n",
    "\n",
    "# x와 y\n",
    "data = [[2,81], [4,93], [6,91], [8,97]]\n",
    "x = [i[0] for i in data]\n",
    "y = [i[1] for i in data]\n",
    "\n",
    "#작동 시킬 함수\n",
    "def predict(x):\n",
    "    return ab[0]*x + ab[1]\n",
    "\n",
    "#rmse함수 ->  손실함수 -> 실제점수와 예측점수가 얼마나 차이가 있는지 알려주는 함수\n",
    "def rmse(p,a):\n",
    "    return np.sqrt(((p-a) **2).mean())\n",
    "\n",
    "def rmse_val(predict_result, y):\n",
    "    return rmse(np.array(predict_result), np.array(y))\n",
    "\n",
    "predict_result = []\n",
    "\n",
    "for i in range(len(x)):\n",
    "    predict_result.append(predict(x[i]))\n",
    "    print(\"공부시간=%.f, 실제점수=%.f, 예측점수=%.f\" %(x[i], y[i], predict(x[i])))\n",
    "print(\"rmse 최종값: \" + str(rmse_val(predict_result, y)))\n",
    "\n",
    "print(\"기울기 a = \", ab[0])\n",
    "print(\"y절편 b = \", ab[1])"
   ]
  },
  {
   "cell_type": "markdown",
   "metadata": {},
   "source": [
    "# 경사하강법 (평균제곱오차법 이용)"
   ]
  },
  {
   "cell_type": "code",
   "execution_count": 5,
   "metadata": {
    "scrolled": true
   },
   "outputs": [],
   "source": [
    "#작동 시킬 함수\n",
    "def predict(x):\n",
    "    return ab[0]*x + ab[1]\n",
    "\n",
    "def rmse(p,a):\n",
    "    return np.sqrt(((p-a) **2).mean())\n",
    "\n",
    "def rmse_val(predict_result, y):\n",
    "    return rmse(np.array(predict_result), np.array(y))\n",
    "\n",
    "#미분용 함수\n",
    "def numerical_gradient(f, x, y):\n",
    "    h = 1e-4\n",
    "    print(\"x\",x)\n",
    "    x+h\n",
    "    print(\"fxh1\",f(x+h,y))\n",
    "    print(\"fxh2\",f(x-h,y))\n",
    "    print(2*h)\n",
    "    print(\"grad:\",(f(x+h,y) -f(x-h,y)) / (2*h))\n",
    "    return (f(x+h,y) -f(x-h,y)) / (2*h)"
   ]
  },
  {
   "cell_type": "code",
   "execution_count": 6,
   "metadata": {
    "scrolled": true
   },
   "outputs": [],
   "source": [
    "#경사 하강법     # 함수, x,y데이터, 기울기, 학습률, 학습횟수\n",
    "def gradient_descent(f, init_data, ab, lr=0.01, step_num=100):\n",
    "    np_data = np.array(init_data, \"float64\")\n",
    "    np_ab = np.array([ab], \"float64\")\n",
    "    #print(np_ab)\n",
    "    predict_result = []\n",
    "    #print(init_data)\n",
    "    x = np.array([i[0] for i in init_data],\"float64\")\n",
    "    y = np.array([i[1] for i in init_data],\"float64\")\n",
    "    \n",
    "    for i in range(step_num):\n",
    "        #미분을 해야할 함수를 업데이트 -> 기존의 x를 업데이트만 하면 필요없지만 반복문에서 a,b를 업데이트하는중\n",
    "        predict_result = []\n",
    "        def predict(x):\n",
    "            return ab[0]*x + ab[1]\n",
    "        for i in range(len(x)):\n",
    "            predict_result.append(predict(x[i]))\n",
    "        print(predict_result)\n",
    "        predict_result = np.array(predict_result, \"float64\")\n",
    "\n",
    "        #미분을 통해 기울기 값을 찾아옴\n",
    "        grad = numerical_gradient(f, predict_result, y)\n",
    "\n",
    "        \n",
    "        #학습률 * 기울기값을 기존 a,b의 값을 업데이트\n",
    "        ab -= lr* np.mean(grad)\n",
    "    print(\"rmse 최종값: \" + str(rmse_val(predict_result, y)))\n",
    "    return ab.flatten().tolist()"
   ]
  },
  {
   "cell_type": "code",
   "execution_count": 14,
   "metadata": {},
   "outputs": [
    {
     "name": "stdout",
     "output_type": "stream",
     "text": [
      "초기 기울기:  [-2, 30]\n",
      "rmse 최종값: 71.21095421351971\n",
      "[26.0, 22.0, 18.0, 14.0]\n",
      "x [26. 22. 18. 14.]\n",
      "fxh1 71.21085521189869\n",
      "fxh2 71.21105321514351\n",
      "0.0002\n",
      "grad: -0.9900162240938926\n",
      "rmse 최종값: 71.21095421351971\n",
      "최종 기울기:  [-1.990099837759061, 30.00990016224094]\n"
     ]
    }
   ],
   "source": [
    "#학습할 변수\n",
    "ab = [-2, 30]\n",
    "data = [[2,81], [4,93], [6,91], [8,97]]\n",
    "x = [i[0] for i in data]\n",
    "y = [i[1] for i in data]\n",
    "\n",
    "predict_result = []\n",
    "for i in range(len(x)):\n",
    "    predict_result.append(predict(x[i]))\n",
    "    \n",
    "#기존 데이터\n",
    "print(\"초기 기울기: \", ab)\n",
    "print(\"rmse 최종값: \" + str(rmse_val(predict_result, y)))\n",
    "\n",
    "# 경사하강법 적용후\n",
    "\n",
    "new_ab = gradient_descent(rmse_val, data, ab, lr=0.01, step_num=1)\n",
    "print(\"최종 기울기: \", new_ab)\n",
    "\n",
    "#rmse함수를 미분을 통해 경사하강시키면 손실함수 즉 예측과 실제값의 오차가 갈수록 줄어들게 되고, 값으로는 a와 b를 업데이트 함."
   ]
  },
  {
   "cell_type": "code",
   "execution_count": 15,
   "metadata": {},
   "outputs": [
    {
     "name": "stdout",
     "output_type": "stream",
     "text": [
      "[2, 4, 6, 8]\n",
      "[2.0001 4.0001 6.0001 8.0001]\n"
     ]
    }
   ],
   "source": [
    "x = [2,4,6,8]\n",
    "print(x)\n",
    "h = 1e-4\n",
    "x= np.array(x,\"float64\")+h\n",
    "print(x)"
   ]
  },
  {
   "cell_type": "code",
   "execution_count": 9,
   "metadata": {},
   "outputs": [
    {
     "name": "stdout",
     "output_type": "stream",
     "text": [
      "[25.9998 21.9998 17.9998 13.9998]\n"
     ]
    }
   ],
   "source": [
    "predict_result = []\n",
    "for i in range(len(x)):\n",
    "    predict_result.append(predict(x[i]))\n",
    "predict_result = np.array(predict_result, \"float64\")\n",
    "print(predict_result)"
   ]
  },
  {
   "cell_type": "code",
   "execution_count": 10,
   "metadata": {},
   "outputs": [
    {
     "name": "stdout",
     "output_type": "stream",
     "text": [
      "-2 30\n"
     ]
    }
   ],
   "source": [
    "print(ab[0], ab[1])"
   ]
  },
  {
   "cell_type": "code",
   "execution_count": 11,
   "metadata": {
    "scrolled": true
   },
   "outputs": [
    {
     "data": {
      "text/plain": [
       "71.2111522167701"
      ]
     },
     "execution_count": 11,
     "metadata": {},
     "output_type": "execute_result"
    }
   ],
   "source": [
    "rmse_val(predict_result, y)"
   ]
  },
  {
   "cell_type": "code",
   "execution_count": 12,
   "metadata": {},
   "outputs": [
    {
     "data": {
      "text/plain": [
       "71.2111522167701"
      ]
     },
     "execution_count": 12,
     "metadata": {},
     "output_type": "execute_result"
    }
   ],
   "source": [
    "rmse(np.array(predict_result), np.array(y))"
   ]
  },
  {
   "cell_type": "markdown",
   "metadata": {},
   "source": [
    "# 학습한 결과"
   ]
  },
  {
   "cell_type": "code",
   "execution_count": 16,
   "metadata": {
    "scrolled": false
   },
   "outputs": [
    {
     "name": "stdout",
     "output_type": "stream",
     "text": [
      "기존    :  [-2, 30]\n",
      "학습 후 :  [-1.990099837759061, 30.00990016224094]\n"
     ]
    },
    {
     "data": {
      "text/plain": [
       "[<matplotlib.lines.Line2D at 0x205185b0248>]"
      ]
     },
     "execution_count": 16,
     "metadata": {},
     "output_type": "execute_result"
    },
    {
     "data": {
      "text/plain": [
       "[<matplotlib.lines.Line2D at 0x2051849ccc8>]"
      ]
     },
     "execution_count": 16,
     "metadata": {},
     "output_type": "execute_result"
    },
    {
     "data": {
      "text/plain": [
       "[<matplotlib.lines.Line2D at 0x205185b7f08>]"
      ]
     },
     "execution_count": 16,
     "metadata": {},
     "output_type": "execute_result"
    },
    {
     "data": {
      "text/plain": [
       "[<matplotlib.lines.Line2D at 0x205185c1048>]"
      ]
     },
     "execution_count": 16,
     "metadata": {},
     "output_type": "execute_result"
    },
    {
     "data": {
      "image/png": "[encoded data removed]",
      "text/plain": [
       "<Figure size 432x288 with 1 Axes>"
      ]
     },
     "metadata": {
      "needs_background": "light"
     },
     "output_type": "display_data"
    }
   ],
   "source": [
    "print(\"기존    : \",ab)\n",
    "print(\"학습 후 : \",new_ab)\n",
    "ins = np.linspace(1,10, num=10)\n",
    "ans = np.dot(ab[0],ins)+ab[1]\n",
    "new_ans = np.dot(new_ab[0],ins)+new_ab[1]\n",
    "plt.plot(ins, ans, 'k')\n",
    "plt.plot(ins, new_ans, 'r')\n",
    "plt.plot(ins, new_ans, 'r.')\n",
    "plt.plot(x, y, 'b.')\n",
    "plt.show()"
   ]
  },
  {
   "cell_type": "code",
   "execution_count": 201,
   "metadata": {},
   "outputs": [
    {
     "name": "stdout",
     "output_type": "stream",
     "text": [
      "기존    :  [1, 10]\n",
      "학습 후 :  [13.511488429951534, 22.511488429951534]\n"
     ]
    },
    {
     "data": {
      "text/plain": [
       "[<matplotlib.lines.Line2D at 0x15444a72d88>]"
      ]
     },
     "execution_count": 201,
     "metadata": {},
     "output_type": "execute_result"
    },
    {
     "data": {
      "text/plain": [
       "[<matplotlib.lines.Line2D at 0x1544499d988>]"
      ]
     },
     "execution_count": 201,
     "metadata": {},
     "output_type": "execute_result"
    },
    {
     "data": {
      "text/plain": [
       "[<matplotlib.lines.Line2D at 0x15444496dc8>]"
      ]
     },
     "execution_count": 201,
     "metadata": {},
     "output_type": "execute_result"
    },
    {
     "data": {
      "text/plain": [
       "[<matplotlib.lines.Line2D at 0x154449d3288>]"
      ]
     },
     "execution_count": 201,
     "metadata": {},
     "output_type": "execute_result"
    },
    {
     "data": {
      "image/png": "[encoded data removed]",
      "text/plain": [
       "<Figure size 432x288 with 1 Axes>"
      ]
     },
     "metadata": {
      "needs_background": "light"
     },
     "output_type": "display_data"
    }
   ],
   "source": [
    "print(\"기존    : \",ab)\n",
    "print(\"학습 후 : \",new_ab)\n",
    "ins = np.linspace(1,10, num=10)\n",
    "ans = np.dot(ab[0],ins)+ab[1]\n",
    "new_ans = np.dot(new_ab[0],ins)+new_ab[1]\n",
    "plt.plot(ins, ans, 'k')\n",
    "plt.plot(ins, new_ans, 'r')\n",
    "plt.plot(ins, new_ans, 'r.')\n",
    "plt.plot(x, y, 'b.')\n",
    "plt.show()"
   ]
  },
  {
   "cell_type": "code",
   "execution_count": 203,
   "metadata": {
    "scrolled": false
   },
   "outputs": [
    {
     "name": "stdout",
     "output_type": "stream",
     "text": [
      "기존    :  [-6, 40]\n",
      "학습 후 :  [7.415351742589454, 53.41535174258945]\n"
     ]
    },
    {
     "data": {
      "text/plain": [
       "[<matplotlib.lines.Line2D at 0x1544454e6c8>]"
      ]
     },
     "execution_count": 203,
     "metadata": {},
     "output_type": "execute_result"
    },
    {
     "data": {
      "text/plain": [
       "[<matplotlib.lines.Line2D at 0x15444545a88>]"
      ]
     },
     "execution_count": 203,
     "metadata": {},
     "output_type": "execute_result"
    },
    {
     "data": {
      "text/plain": [
       "[<matplotlib.lines.Line2D at 0x154444dadc8>]"
      ]
     },
     "execution_count": 203,
     "metadata": {},
     "output_type": "execute_result"
    },
    {
     "data": {
      "text/plain": [
       "[<matplotlib.lines.Line2D at 0x154444aac08>]"
      ]
     },
     "execution_count": 203,
     "metadata": {},
     "output_type": "execute_result"
    },
    {
     "data": {
      "image/png": "[encoded data removed]",
      "text/plain": [
       "<Figure size 432x288 with 1 Axes>"
      ]
     },
     "metadata": {
      "needs_background": "light"
     },
     "output_type": "display_data"
    }
   ],
   "source": [
    "print(\"기존    : \",ab)\n",
    "print(\"학습 후 : \",new_ab)\n",
    "ins = np.linspace(1,10, num=10)\n",
    "ans = np.dot(ab[0],ins)+ab[1]\n",
    "new_ans = np.dot(new_ab[0],ins)+new_ab[1]\n",
    "plt.plot(ins, ans, 'k')\n",
    "plt.plot(ins, new_ans, 'r')\n",
    "plt.plot(ins, new_ans, 'r.')\n",
    "plt.plot(x, y, 'b.')\n",
    "plt.show()"
   ]
  },
  {
   "cell_type": "markdown",
   "metadata": {},
   "source": [
    "#####  다양한 경우에서 학습이 잘이루어지는 것을 확인할 수 있다. "
   ]
  },
  {
   "cell_type": "code",
   "execution_count": 13,
   "metadata": {},
   "outputs": [
    {
     "name": "stdout",
     "output_type": "stream",
     "text": [
      "기존    :  [-2, 30]\n",
      "학습 후 :  [-1.0099837759061074, 30.990016224093893]\n"
     ]
    },
    {
     "data": {
      "text/plain": [
       "[<matplotlib.lines.Line2D at 0x205185412c8>]"
      ]
     },
     "execution_count": 13,
     "metadata": {},
     "output_type": "execute_result"
    },
    {
     "data": {
      "text/plain": [
       "[<matplotlib.lines.Line2D at 0x205185266c8>]"
      ]
     },
     "execution_count": 13,
     "metadata": {},
     "output_type": "execute_result"
    },
    {
     "data": {
      "text/plain": [
       "[<matplotlib.lines.Line2D at 0x2051851a488>]"
      ]
     },
     "execution_count": 13,
     "metadata": {},
     "output_type": "execute_result"
    },
    {
     "data": {
      "text/plain": [
       "[<matplotlib.lines.Line2D at 0x2051851a8c8>]"
      ]
     },
     "execution_count": 13,
     "metadata": {},
     "output_type": "execute_result"
    },
    {
     "data": {
      "image/png": "[encoded data removed]",
      "text/plain": [
       "<Figure size 432x288 with 1 Axes>"
      ]
     },
     "metadata": {
      "needs_background": "light"
     },
     "output_type": "display_data"
    }
   ],
   "source": [
    "print(\"기존    : \",ab)\n",
    "print(\"학습 후 : \",new_ab)\n",
    "ins = np.linspace(1,10, num=10)\n",
    "ans = np.dot(ab[0],ins)+ab[1]\n",
    "new_ans = np.dot(new_ab[0],ins)+new_ab[1]\n",
    "plt.plot(ins, ans, 'k')\n",
    "plt.plot(ins, new_ans, 'r')\n",
    "plt.plot(ins, new_ans, 'r.')\n",
    "plt.plot(x, y, 'b.')\n",
    "plt.show()"
   ]
  },
  {
   "cell_type": "markdown",
   "metadata": {},
   "source": [
    "# 201601769 나요한"
   ]
  },
  {
   "cell_type": "code",
   "execution_count": null,
   "metadata": {},
   "outputs": [],
   "source": []
  },
  {
   "cell_type": "code",
   "execution_count": null,
   "metadata": {},
   "outputs": [],
   "source": []
  },
  {
   "cell_type": "code",
   "execution_count": null,
   "metadata": {},
   "outputs": [],
   "source": []
  },
  {
   "cell_type": "code",
   "execution_count": null,
   "metadata": {},
   "outputs": [],
   "source": []
  },
  {
   "cell_type": "code",
   "execution_count": null,
   "metadata": {},
   "outputs": [],
   "source": []
  }
 ],
 "metadata": {
  "kernelspec": {
   "display_name": "Python 3",
   "language": "python",
   "name": "python3"
  },
  "language_info": {
   "codemirror_mode": {
    "name": "ipython",
    "version": 3
   },
   "file_extension": ".py",
   "mimetype": "text/x-python",
   "name": "python",
   "nbconvert_exporter": "python",
   "pygments_lexer": "ipython3",
   "version": "3.6.9"
  }
 },
 "nbformat": 4,
 "nbformat_minor": 4
}
