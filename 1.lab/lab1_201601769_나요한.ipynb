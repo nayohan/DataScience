{
 "cells": [
  {
   "cell_type": "code",
   "execution_count": 22,
   "metadata": {},
   "outputs": [
    {
     "name": "stdout",
     "output_type": "stream",
     "text": [
      "['apple', 'banana', 'pineapple'] ['zoom', 'teams', 'youtube'] ['Nahyeong', 'Yohan', '140']\n"
     ]
    },
    {
     "data": {
      "text/plain": [
       "list"
      ]
     },
     "execution_count": 22,
     "metadata": {},
     "output_type": "execute_result"
    }
   ],
   "source": [
    "list_a = [\"apple\", \"banana\", \"pineapple\"]\n",
    "list_b = [\"zoom\", \"teams\", \"youtube\"]\n",
    "list_c = [\"Nahyeong\", \"Yohan\", \"140\"]\n",
    "print(list_a, list_b, list_c)\n",
    "type(list_a)"
   ]
  },
  {
   "cell_type": "code",
   "execution_count": 26,
   "metadata": {},
   "outputs": [
    {
     "name": "stdout",
     "output_type": "stream",
     "text": [
      "['apple', 'banana', 'pineapple', 'zoom', 'teams', 'youtube', 'Nahyeong', 'Yohan', '140']\n"
     ]
    }
   ],
   "source": [
    "list = list_a + list_b + list_c\n",
    "print(list)"
   ]
  },
  {
   "cell_type": "code",
   "execution_count": 27,
   "metadata": {},
   "outputs": [
    {
     "name": "stdout",
     "output_type": "stream",
     "text": [
      "apple\n",
      "banana\n",
      "pineapple\n",
      "zoom\n",
      "teams\n",
      "youtube\n",
      "Nahyeong\n",
      "Yohan\n",
      "140\n"
     ]
    }
   ],
   "source": [
    "for i in range(len(list)):\n",
    "    print(list[i])"
   ]
  },
  {
   "cell_type": "code",
   "execution_count": 34,
   "metadata": {},
   "outputs": [],
   "source": [
    "import csv\n",
    "f = open(\"lab1.csv\", \"w\", newline='', encoding='utf-8')\n",
    "wr = csv.writer(f)\n",
    "wr.writerow(list)\n",
    "f.close()"
   ]
  },
  {
   "cell_type": "code",
   "execution_count": 37,
   "metadata": {},
   "outputs": [
    {
     "name": "stdout",
     "output_type": "stream",
     "text": [
      "['apple', 'banana', 'pineapple', 'zoom', 'teams', 'youtube', 'Nahyeong', 'Yohan', '140']\n"
     ]
    }
   ],
   "source": [
    "f = open(\"lab1.csv\", \"r\", encoding='utf-8')\n",
    "rd = csv.reader(f)\n",
    "for line in rd:\n",
    "    print(line)\n",
    "f.close()"
   ]
  }
 ],
 "metadata": {
  "kernelspec": {
   "display_name": "Python 3",
   "language": "python",
   "name": "python3"
  },
  "language_info": {
   "codemirror_mode": {
    "name": "ipython",
    "version": 3
   },
   "file_extension": ".py",
   "mimetype": "text/x-python",
   "name": "python",
   "nbconvert_exporter": "python",
   "pygments_lexer": "ipython3",
   "version": "3.7.6"
  }
 },
 "nbformat": 4,
 "nbformat_minor": 4
}
