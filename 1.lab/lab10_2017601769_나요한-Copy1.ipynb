{
 "cells": [
  {
   "cell_type": "markdown",
   "metadata": {},
   "source": [
    "# 단순 선형회귀 분석 (최소제곱법)"
   ]
  },
  {
   "cell_type": "code",
   "execution_count": 9,
   "metadata": {},
   "outputs": [],
   "source": [
    "from IPython.core.interactiveshell import InteractiveShell\n",
    "InteractiveShell.ast_node_interactivity = \"all\"\n",
    "\n",
    "import numpy as np\n",
    "import matplotlib.pyplot as plt\n",
    "%matplotlib inline"
   ]
  },
  {
   "cell_type": "code",
   "execution_count": 10,
   "metadata": {
    "scrolled": true
   },
   "outputs": [
    {
     "name": "stdout",
     "output_type": "stream",
     "text": [
      "x의 평균값 :  5.0\n",
      "y의 평균값 :  90.5\n",
      "분자 :  46.0\n",
      "분모 :  20.0\n",
      "기울기 a:  2.3\n",
      "기울기 b:  79.0\n"
     ]
    }
   ],
   "source": [
    "x = [2, 4, 6, 8]\n",
    "y = [81, 93, 91, 97]\n",
    "mx = np.mean(x)\n",
    "my = np.mean(y)\n",
    "print(\"x의 평균값 : \", mx)\n",
    "print(\"y의 평균값 : \", my)\n",
    "\n",
    "divisor = sum([(mx - i)**2 for i in x]) #분모\n",
    "def top(x, mx, y, my):\n",
    "    d = 0\n",
    "    for i in range(len(x)):\n",
    "        d += (x[i] - mx) * (y[i] - my)\n",
    "    return d\n",
    "dividend = top(x,mx,y,my) #분자\n",
    "\n",
    "print(\"분자 : \", dividend)\n",
    "print(\"분모 : \", divisor)\n",
    "\n",
    "a = dividend / divisor\n",
    "b = my - (mx*a)\n",
    "\n",
    "print(\"기울기 a: \", a)\n",
    "print(\"기울기 b: \", b)"
   ]
  },
  {
   "cell_type": "code",
   "execution_count": 11,
   "metadata": {},
   "outputs": [
    {
     "data": {
      "text/plain": [
       "[<matplotlib.lines.Line2D at 0x268666f3308>]"
      ]
     },
     "execution_count": 11,
     "metadata": {},
     "output_type": "execute_result"
    },
    {
     "data": {
      "text/plain": [
       "[<matplotlib.lines.Line2D at 0x2686664f748>]"
      ]
     },
     "execution_count": 11,
     "metadata": {},
     "output_type": "execute_result"
    },
    {
     "data": {
      "text/plain": [
       "[<matplotlib.lines.Line2D at 0x268665ed208>]"
      ]
     },
     "execution_count": 11,
     "metadata": {},
     "output_type": "execute_result"
    },
    {
     "data": {
      "image/png": "[encoded data removed]",
      "text/plain": [
       "<Figure size 432x288 with 1 Axes>"
      ]
     },
     "metadata": {
      "needs_background": "light"
     },
     "output_type": "display_data"
    }
   ],
   "source": [
    "ins = np.linspace(1,10, num=10)\n",
    "ans = np.dot(a,ins)+b\n",
    "plt.plot(ins, ans, 'r')\n",
    "plt.plot(ins, ans, 'r.')\n",
    "plt.plot(x, y, 'b.')\n",
    "plt.show()"
   ]
  },
  {
   "cell_type": "markdown",
   "metadata": {},
   "source": [
    "# 단순 선형회귀분석 예제2 (평균제곱오차법)"
   ]
  },
  {
   "cell_type": "code",
   "execution_count": 12,
   "metadata": {
    "scrolled": true
   },
   "outputs": [
    {
     "name": "stdout",
     "output_type": "stream",
     "text": [
      "공부시간=2, 실제점수=81, 예측점수=82\n",
      "공부시간=4, 실제점수=93, 예측점수=88\n",
      "공부시간=6, 실제점수=91, 예측점수=94\n",
      "공부시간=8, 실제점수=97, 예측점수=100\n",
      "rmse 최종값: 3.3166247903554\n",
      "기울기 a =  3\n",
      "y절편 b =  76\n"
     ]
    }
   ],
   "source": [
    "#기울기a와 절편b\n",
    "ab = [3, 76]\n",
    "ab_old = ab\n",
    "\n",
    "# x와 y\n",
    "data = [[2,81], [4,93], [6,91], [8,97]]\n",
    "x = [i[0] for i in data]\n",
    "y = [i[1] for i in data]\n",
    "\n",
    "#작동 시킬 함수\n",
    "def predict(x):\n",
    "    return ab[0]*x + ab[1]\n",
    "\n",
    "#rmse함수 ->  손실함수 -> 실제점수와 예측점수가 얼마나 차이가 있는지 알려주는 함수\n",
    "def rmse(p,a):\n",
    "    return np.sqrt(((p-a) **2).mean())\n",
    "\n",
    "def rmse_val(predict_result, y):\n",
    "    return rmse(np.array(predict_result), np.array(y))\n",
    "\n",
    "predict_result = []\n",
    "\n",
    "for i in range(len(x)):\n",
    "    predict_result.append(predict(x[i]))\n",
    "    print(\"공부시간=%.f, 실제점수=%.f, 예측점수=%.f\" %(x[i], y[i], predict(x[i])))\n",
    "print(\"rmse 최종값: \" + str(rmse_val(predict_result, y)))\n",
    "\n",
    "print(\"기울기 a = \", ab[0])\n",
    "print(\"y절편 b = \", ab[1])"
   ]
  },
  {
   "cell_type": "markdown",
   "metadata": {},
   "source": [
    "# 경사하강법 (평균제곱오차법 이용)"
   ]
  },
  {
   "cell_type": "code",
   "execution_count": 22,
   "metadata": {
    "scrolled": true
   },
   "outputs": [],
   "source": [
    "#작동 시킬 함수\n",
    "def predict(w,x,b):\n",
    "    return np.array(np.dot(w, x) + b, \"float64\")\n",
    "\n",
    "def rmse(p,a):\n",
    "    return np.sqrt(((p-a) **2).mean())\n",
    "\n",
    "def rmse_val(w, x, b, y):\n",
    "    return rmse(predict(w, x, b), np.array(y))\n",
    "\n",
    "def nㅇumerical_gradient(f, w, x):\n",
    "    h = 1e-4\n",
    "    print(\"x\",x)\n",
    "    x+h\n",
    "    print(\"fxh1\",f(x+h,y))\n",
    "    print(\"fxh2\",f(x-h,y))\n",
    "    print(2*h)\n",
    "    print(\"grad:\",(f(x+h,y) -f(x-h,y)) / (2*h))\n",
    "    return (f(w, x[idx], b, y) -f(x-h,y)) / (2*h)\n",
    "\n",
    "#미분용 합수\n",
    "def numerical_gradient(f, w, x, b, y):\n",
    "    h = 1e-4\n",
    "    grad = np.zeros_like(x)\n",
    "\n",
    "    for idx in range(x.size):\n",
    "        tmp_val = x[idx]\n",
    "        x[idx] = tmp_val + h\n",
    "        print(\"w:\", w, \"x[idx]:\", x[idx], \"b:\", b)\n",
    "        fxh1 = f(w, x[idx], b, y)\n",
    "        print(\"fxh1 :\",fxh1)\n",
    "        x[idx] = tmp_val - h\n",
    "        fxh2 = f(w, x[idx], b, y)\n",
    "        print(\"fxh2 :\",fxh2)\n",
    "      \n",
    "        grad[idx] = (fxh1 - fxh2) / (2*h)\n",
    "        x[idx] = tmp_val\n",
    "    #return (f(x+h,y) -f(x-h,y)) / (2*h)\n",
    "    \n",
    "    print(\"grad:\",grad)\n",
    "    return grad"
   ]
  },
  {
   "cell_type": "code",
   "execution_count": 23,
   "metadata": {
    "scrolled": true
   },
   "outputs": [],
   "source": [
    "#경사 하강법     # 함수, x,y데이터, 기울기, 학습률, 학습횟수\n",
    "def gradient_descent(f, init_data, ab, lr=0.01, step_num=100):\n",
    "    np_data = np.asarray(init_data, \"float64\")\n",
    "    np_ab = np.asarray([ab], \"float64\")\n",
    "    #print(np_ab)\n",
    "    predict_result = []\n",
    "    #print(init_data)\n",
    "    x = np.asarray([i[0] for i in init_data],\"float64\")\n",
    "    y = np.asarray([i[1] for i in init_data],\"float64\")\n",
    "    \n",
    "    for i in range(step_num):       \n",
    "        print(\"predict:\",predict( ab[0], x, ab[1]))\n",
    "        #미분을 통해 기울기 값을 찾아옴\n",
    "        grad = numerical_gradient(f, ab[0], x, ab[1], y)\n",
    "        #학습률 * 기울기값을 기존 a,b의 값을 업데이트\n",
    "        ab += lr* np.mean(grad)\n",
    "\n",
    "    print(\"rmse 최종값: \" + str(rmse_val(ab[0], x, ab[1], b)))\n",
    "    return ab.flatten().tolist() "
   ]
  },
  {
   "cell_type": "code",
   "execution_count": 24,
   "metadata": {
    "scrolled": true
   },
   "outputs": [
    {
     "name": "stdout",
     "output_type": "stream",
     "text": [
      "초기 기울기:  [-6, 40]\n",
      "rmse 최종값: 82.66196223173026\n",
      "predict: [28. 16.  4. -8.]\n",
      "w: -6 x[idx]: 2.0001 b: 40\n",
      "fxh1 : 62.77798181177857\n",
      "fxh2 : 62.776787114028075\n",
      "w: -6 x[idx]: 4.0001 b: 40\n",
      "fxh1 : 74.73345569662892\n",
      "fxh2 : 74.73225943566807\n",
      "w: -6 x[idx]: 6.0001 b: 40\n",
      "fxh1 : 86.70123298062144\n",
      "fxh2 : 86.70003575754741\n",
      "w: -6 x[idx]: 8.0001 b: 40\n",
      "fxh1 : 98.67683720286132\n",
      "fxh2 : 98.67563934609191\n",
      "grad: [5.97348875 5.9813048  5.98611537 5.98928385]\n",
      "rmse 최종값: 33.1047338392824\n",
      "최종 기울기:  [-0.01745180652056888, 45.98254819347943]\n"
     ]
    }
   ],
   "source": [
    "#학습할 변수\n",
    "ab = [-6, 40]\n",
    "data = [[2,81], [4,93], [6,91], [8,97]]\n",
    "x = [i[0] for i in data]\n",
    "y = [i[1] for i in data]\n",
    "\n",
    "#기존 데이터\n",
    "print(\"초기 기울기: \", ab)\n",
    "\n",
    "print(\"rmse 최종값: \" + str(rmse_val(ab[0], x, ab[1], y)))\n",
    "\n",
    "# 경사하강법 적용후\n",
    "new_ab = gradient_descent(rmse_val, data, ab, lr=1, step_num=1)\n",
    "print(\"최종 기울기: \", new_ab)\n",
    "\n",
    "#rmse함수를 미분을 통해 경사하강시키면 손실함수 즉 예측과 실제값의 오차가 갈수록 줄어들게 되고, 값으로는 a와 b를 업데이트 함."
   ]
  },
  {
   "cell_type": "code",
   "execution_count": 25,
   "metadata": {},
   "outputs": [
    {
     "name": "stdout",
     "output_type": "stream",
     "text": [
      "[2.0001 4.0001 6.0001 8.0001]\n",
      "[27.9994 15.9994  3.9994 -8.0006]\n"
     ]
    }
   ],
   "source": [
    "x = [2,4,6,8]\n",
    "h = 1e-4\n",
    "x = np.asarray(x, \"float64\")+h\n",
    "print(x)\n",
    "\n",
    "predict_result = predict(ab[0], x, ab[1])\n",
    "print(predict_result)"
   ]
  },
  {
   "cell_type": "code",
   "execution_count": 26,
   "metadata": {},
   "outputs": [
    {
     "name": "stdout",
     "output_type": "stream",
     "text": [
      "-6 40\n"
     ]
    }
   ],
   "source": [
    "print(ab[0], ab[1])"
   ]
  },
  {
   "cell_type": "code",
   "execution_count": 27,
   "metadata": {},
   "outputs": [
    {
     "data": {
      "text/plain": [
       "array([27.9994, 15.9994,  3.9994, -8.0006])"
      ]
     },
     "execution_count": 27,
     "metadata": {},
     "output_type": "execute_result"
    }
   ],
   "source": [
    "np.array(predict_result)"
   ]
  },
  {
   "cell_type": "code",
   "execution_count": 28,
   "metadata": {},
   "outputs": [
    {
     "data": {
      "text/plain": [
       "array([27.9994, 15.9994,  3.9994, -8.0006])"
      ]
     },
     "execution_count": 28,
     "metadata": {},
     "output_type": "execute_result"
    }
   ],
   "source": [
    "predict(ab[0], x, ab[1])"
   ]
  },
  {
   "cell_type": "code",
   "execution_count": 29,
   "metadata": {
    "scrolled": true
   },
   "outputs": [
    {
     "data": {
      "text/plain": [
       "82.66254653928827"
      ]
     },
     "execution_count": 29,
     "metadata": {},
     "output_type": "execute_result"
    }
   ],
   "source": [
    "rmse(np.array(predict_result), np.array(y))"
   ]
  },
  {
   "cell_type": "code",
   "execution_count": null,
   "metadata": {},
   "outputs": [],
   "source": []
  },
  {
   "cell_type": "markdown",
   "metadata": {},
   "source": [
    "# 학습한 결과"
   ]
  },
  {
   "cell_type": "code",
   "execution_count": 30,
   "metadata": {
    "scrolled": true
   },
   "outputs": [
    {
     "name": "stdout",
     "output_type": "stream",
     "text": [
      "기존    :  [-6, 40]\n",
      "학습 후 :  [-0.01745180652056888, 45.98254819347943]\n"
     ]
    },
    {
     "data": {
      "text/plain": [
       "[<matplotlib.lines.Line2D at 0x26866778308>]"
      ]
     },
     "execution_count": 30,
     "metadata": {},
     "output_type": "execute_result"
    },
    {
     "data": {
      "text/plain": [
       "[<matplotlib.lines.Line2D at 0x26866746748>]"
      ]
     },
     "execution_count": 30,
     "metadata": {},
     "output_type": "execute_result"
    },
    {
     "data": {
      "text/plain": [
       "[<matplotlib.lines.Line2D at 0x26866721108>]"
      ]
     },
     "execution_count": 30,
     "metadata": {},
     "output_type": "execute_result"
    },
    {
     "data": {
      "text/plain": [
       "[<matplotlib.lines.Line2D at 0x2686677ffc8>]"
      ]
     },
     "execution_count": 30,
     "metadata": {},
     "output_type": "execute_result"
    },
    {
     "data": {
      "image/png": "[encoded data removed]",
      "text/plain": [
       "<Figure size 432x288 with 1 Axes>"
      ]
     },
     "metadata": {
      "needs_background": "light"
     },
     "output_type": "display_data"
    }
   ],
   "source": [
    "print(\"기존    : \",ab)\n",
    "print(\"학습 후 : \",new_ab)\n",
    "ins = np.linspace(1,10, num=10)\n",
    "ans = np.dot(ab[0],ins)+ab[1]\n",
    "new_ans = np.dot(new_ab[0],ins)+new_ab[1]\n",
    "plt.plot(ins, ans, 'k')\n",
    "plt.plot(ins, new_ans, 'r')\n",
    "plt.plot(ins, new_ans, 'r.')\n",
    "plt.plot(x, y, 'b.')\n",
    "plt.show()"
   ]
  },
  {
   "cell_type": "code",
   "execution_count": 201,
   "metadata": {},
   "outputs": [
    {
     "name": "stdout",
     "output_type": "stream",
     "text": [
      "기존    :  [1, 10]\n",
      "학습 후 :  [13.511488429951534, 22.511488429951534]\n"
     ]
    },
    {
     "data": {
      "text/plain": [
       "[<matplotlib.lines.Line2D at 0x15444a72d88>]"
      ]
     },
     "execution_count": 201,
     "metadata": {},
     "output_type": "execute_result"
    },
    {
     "data": {
      "text/plain": [
       "[<matplotlib.lines.Line2D at 0x1544499d988>]"
      ]
     },
     "execution_count": 201,
     "metadata": {},
     "output_type": "execute_result"
    },
    {
     "data": {
      "text/plain": [
       "[<matplotlib.lines.Line2D at 0x15444496dc8>]"
      ]
     },
     "execution_count": 201,
     "metadata": {},
     "output_type": "execute_result"
    },
    {
     "data": {
      "text/plain": [
       "[<matplotlib.lines.Line2D at 0x154449d3288>]"
      ]
     },
     "execution_count": 201,
     "metadata": {},
     "output_type": "execute_result"
    },
    {
     "data": {
      "image/png": "[encoded data removed]",
      "text/plain": [
       "<Figure size 432x288 with 1 Axes>"
      ]
     },
     "metadata": {
      "needs_background": "light"
     },
     "output_type": "display_data"
    }
   ],
   "source": [
    "print(\"기존    : \",ab)\n",
    "print(\"학습 후 : \",new_ab)\n",
    "ins = np.linspace(1,10, num=10)\n",
    "ans = np.dot(ab[0],ins)+ab[1]\n",
    "new_ans = np.dot(new_ab[0],ins)+new_ab[1]\n",
    "plt.plot(ins, ans, 'k')\n",
    "plt.plot(ins, new_ans, 'r')\n",
    "plt.plot(ins, new_ans, 'r.')\n",
    "plt.plot(x, y, 'b.')\n",
    "plt.show()"
   ]
  },
  {
   "cell_type": "code",
   "execution_count": 203,
   "metadata": {
    "scrolled": false
   },
   "outputs": [
    {
     "name": "stdout",
     "output_type": "stream",
     "text": [
      "기존    :  [-6, 40]\n",
      "학습 후 :  [7.415351742589454, 53.41535174258945]\n"
     ]
    },
    {
     "data": {
      "text/plain": [
       "[<matplotlib.lines.Line2D at 0x1544454e6c8>]"
      ]
     },
     "execution_count": 203,
     "metadata": {},
     "output_type": "execute_result"
    },
    {
     "data": {
      "text/plain": [
       "[<matplotlib.lines.Line2D at 0x15444545a88>]"
      ]
     },
     "execution_count": 203,
     "metadata": {},
     "output_type": "execute_result"
    },
    {
     "data": {
      "text/plain": [
       "[<matplotlib.lines.Line2D at 0x154444dadc8>]"
      ]
     },
     "execution_count": 203,
     "metadata": {},
     "output_type": "execute_result"
    },
    {
     "data": {
      "text/plain": [
       "[<matplotlib.lines.Line2D at 0x154444aac08>]"
      ]
     },
     "execution_count": 203,
     "metadata": {},
     "output_type": "execute_result"
    },
    {
     "data": {
      "image/png": "[encoded data removed]",
      "text/plain": [
       "<Figure size 432x288 with 1 Axes>"
      ]
     },
     "metadata": {
      "needs_background": "light"
     },
     "output_type": "display_data"
    }
   ],
   "source": [
    "print(\"기존    : \",ab)\n",
    "print(\"학습 후 : \",new_ab)\n",
    "ins = np.linspace(1,10, num=10)\n",
    "ans = np.dot(ab[0],ins)+ab[1]\n",
    "new_ans = np.dot(new_ab[0],ins)+new_ab[1]\n",
    "plt.plot(ins, ans, 'k')\n",
    "plt.plot(ins, new_ans, 'r')\n",
    "plt.plot(ins, new_ans, 'r.')\n",
    "plt.plot(x, y, 'b.')\n",
    "plt.show()"
   ]
  },
  {
   "cell_type": "markdown",
   "metadata": {},
   "source": [
    "#####  다양한 경우에서 학습이 잘이루어지는 것을 확인할 수 있다. "
   ]
  },
  {
   "cell_type": "markdown",
   "metadata": {},
   "source": [
    "# 201601769 나요한"
   ]
  },
  {
   "cell_type": "code",
   "execution_count": 8,
   "metadata": {},
   "outputs": [
    {
     "name": "stdout",
     "output_type": "stream",
     "text": [
      "기존    :  [-6, 40]\n"
     ]
    },
    {
     "ename": "NameError",
     "evalue": "name 'new_ab' is not defined",
     "output_type": "error",
     "traceback": [
      "\u001b[1;31m---------------------------------------------------------------------------\u001b[0m",
      "\u001b[1;31mNameError\u001b[0m                                 Traceback (most recent call last)",
      "\u001b[1;32m<ipython-input-8-e999584e00d6>\u001b[0m in \u001b[0;36m<module>\u001b[1;34m\u001b[0m\n\u001b[0;32m      1\u001b[0m \u001b[0mprint\u001b[0m\u001b[1;33m(\u001b[0m\u001b[1;34m\"기존    : \"\u001b[0m\u001b[1;33m,\u001b[0m\u001b[0mab\u001b[0m\u001b[1;33m)\u001b[0m\u001b[1;33m\u001b[0m\u001b[1;33m\u001b[0m\u001b[0m\n\u001b[1;32m----> 2\u001b[1;33m \u001b[0mprint\u001b[0m\u001b[1;33m(\u001b[0m\u001b[1;34m\"학습 후 : \"\u001b[0m\u001b[1;33m,\u001b[0m\u001b[0mnew_ab\u001b[0m\u001b[1;33m)\u001b[0m\u001b[1;33m\u001b[0m\u001b[1;33m\u001b[0m\u001b[0m\n\u001b[0m\u001b[0;32m      3\u001b[0m \u001b[0mins\u001b[0m \u001b[1;33m=\u001b[0m \u001b[0mnp\u001b[0m\u001b[1;33m.\u001b[0m\u001b[0mlinspace\u001b[0m\u001b[1;33m(\u001b[0m\u001b[1;36m1\u001b[0m\u001b[1;33m,\u001b[0m\u001b[1;36m10\u001b[0m\u001b[1;33m,\u001b[0m \u001b[0mnum\u001b[0m\u001b[1;33m=\u001b[0m\u001b[1;36m10\u001b[0m\u001b[1;33m)\u001b[0m\u001b[1;33m\u001b[0m\u001b[1;33m\u001b[0m\u001b[0m\n\u001b[0;32m      4\u001b[0m \u001b[0mans\u001b[0m \u001b[1;33m=\u001b[0m \u001b[0mnp\u001b[0m\u001b[1;33m.\u001b[0m\u001b[0mdot\u001b[0m\u001b[1;33m(\u001b[0m\u001b[0mab\u001b[0m\u001b[1;33m[\u001b[0m\u001b[1;36m0\u001b[0m\u001b[1;33m]\u001b[0m\u001b[1;33m,\u001b[0m\u001b[0mins\u001b[0m\u001b[1;33m)\u001b[0m\u001b[1;33m+\u001b[0m\u001b[0mab\u001b[0m\u001b[1;33m[\u001b[0m\u001b[1;36m1\u001b[0m\u001b[1;33m]\u001b[0m\u001b[1;33m\u001b[0m\u001b[1;33m\u001b[0m\u001b[0m\n\u001b[0;32m      5\u001b[0m \u001b[0mnew_ans\u001b[0m \u001b[1;33m=\u001b[0m \u001b[0mnp\u001b[0m\u001b[1;33m.\u001b[0m\u001b[0mdot\u001b[0m\u001b[1;33m(\u001b[0m\u001b[0mnew_ab\u001b[0m\u001b[1;33m[\u001b[0m\u001b[1;36m0\u001b[0m\u001b[1;33m]\u001b[0m\u001b[1;33m,\u001b[0m\u001b[0mins\u001b[0m\u001b[1;33m)\u001b[0m\u001b[1;33m+\u001b[0m\u001b[0mnew_ab\u001b[0m\u001b[1;33m[\u001b[0m\u001b[1;36m1\u001b[0m\u001b[1;33m]\u001b[0m\u001b[1;33m\u001b[0m\u001b[1;33m\u001b[0m\u001b[0m\n",
      "\u001b[1;31mNameError\u001b[0m: name 'new_ab' is not defined"
     ]
    }
   ],
   "source": [
    "print(\"기존    : \",ab)\n",
    "print(\"학습 후 : \",new_ab)\n",
    "ins = np.linspace(1,10, num=10)\n",
    "ans = np.dot(ab[0],ins)+ab[1]\n",
    "new_ans = np.dot(new_ab[0],ins)+new_ab[1]\n",
    "plt.plot(ins, ans, 'k')\n",
    "plt.plot(ins, new_ans, 'r')\n",
    "plt.plot(ins, new_ans, 'r.')\n",
    "plt.plot(x, y, 'b.')\n",
    "plt.show()"
   ]
  },
  {
   "cell_type": "code",
   "execution_count": 30,
   "metadata": {},
   "outputs": [],
   "source": [
    "def step_gradient(w_cureent, b_current, points, learning_rate):\n",
    "    w_gradient = 0\n",
    "    b_gradient = 0\n",
    "    N = float(len(points))\n",
    "    for i in range(0, len(points)):\n",
    "        x = points[i,0]\n",
    "        y = points[i,1]\n",
    "        w_gradient += -(2/N) * x * (y - (w_current * x + b_current))\n",
    "        b_gradient += -(2/N) (y - (w_current * x + b_current))"
   ]
  },
  {
   "cell_type": "code",
   "execution_count": null,
   "metadata": {},
   "outputs": [],
   "source": []
  },
  {
   "cell_type": "code",
   "execution_count": null,
   "metadata": {},
   "outputs": [],
   "source": []
  },
  {
   "cell_type": "code",
   "execution_count": null,
   "metadata": {},
   "outputs": [],
   "source": []
  },
  {
   "cell_type": "code",
   "execution_count": null,
   "metadata": {},
   "outputs": [],
   "source": []
  }
 ],
 "metadata": {
  "kernelspec": {
   "display_name": "Python 3",
   "language": "python",
   "name": "python3"
  },
  "language_info": {
   "codemirror_mode": {
    "name": "ipython",
    "version": 3
   },
   "file_extension": ".py",
   "mimetype": "text/x-python",
   "name": "python",
   "nbconvert_exporter": "python",
   "pygments_lexer": "ipython3",
   "version": "3.7.6"
  }
 },
 "nbformat": 4,
 "nbformat_minor": 4
}
