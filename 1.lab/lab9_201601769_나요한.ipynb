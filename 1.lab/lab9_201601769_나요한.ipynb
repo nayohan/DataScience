{
 "cells": [
  {
   "cell_type": "markdown",
   "metadata": {},
   "source": [
    "# 신경망 클래스"
   ]
  },
  {
   "cell_type": "code",
   "execution_count": 38,
   "metadata": {},
   "outputs": [],
   "source": [
    "import numpy as np\n",
    "import scipy\n",
    "from scipy import special\n",
    "import matplotlib.pyplot as plt"
   ]
  },
  {
   "cell_type": "code",
   "execution_count": 60,
   "metadata": {},
   "outputs": [],
   "source": [
    "#신경망 클래스의 정의\n",
    "class neuralNetwork2:\n",
    "    \n",
    "    #신경망 초기화 하기\n",
    "    def __init__(self, inputnodes, hiddennodes1, hiddennodes2, outputnodes, learningrate):\n",
    "        #입력, 은닉, 출력 계층의 노드 개수 설정\n",
    "        self.inodes = inputnodes\n",
    "        self.hnodes1 = hiddennodes1\n",
    "        self.hnodes2 = hiddennodes2\n",
    "        self.onodes = outputnodes\n",
    "        \n",
    "        #가중치 행렬 wih와 who\n",
    "        #배열 내 가중치는 w_i_j로 표기, 노드i에서 다음 계층의 노드j로 연결됨을 의미\n",
    "        self.wih1 = (np.random.rand(self.hnodes1, self.inodes) - 0.5)\n",
    "        self.wh1h2 = (np.random.rand(self.hnodes2, self.hnodes1) - 0.5)\n",
    "        self.wh2o = (np.random.rand(self.onodes, self.hnodes2) - 0.5)\n",
    "        \n",
    "        #학습률\n",
    "        self.lr = learningrate\n",
    "        \n",
    "        #활성화 함수로 시그모이드 함수를 이용s\n",
    "        self.activation_function = lambda x: scipy.special.expit(x)\n",
    "        pass\n",
    "    \n",
    "    #신경망 학습시키기\n",
    "    def train(self, input_list, target_list):\n",
    "        #입력리스트들\n",
    "        inputs = np.array(input_list, ndmin=2).T\n",
    "        targets = np.array(target_list, ndmin=2).T\n",
    "    \n",
    "        #계층간 전달\n",
    "        hidden_inputs1 = np.dot(self.wih1, inputs)\n",
    "        hidden_outputs1 = self.activation_function(hidden_inputs1)\n",
    "        hidden_inputs2 = np.dot(self.wh1h2, hidden_outputs1)\n",
    "        hidden_outputs2 = self.activation_function(hidden_inputs2)\n",
    "        final_inputs = np.dot(self.wh2o, hidden_outputs2)\n",
    "        final_outputs  = self.activation_function(final_inputs)\n",
    "        \n",
    "        # (실제 값 - 계산값) 오차\n",
    "        output_errors = targets - final_outputs\n",
    "        hidden_errors2 = np.dot(self.wh2o.T, output_errors)\n",
    "        hidden_errors1 = np.dot(self.wh1h2.T, hidden_errors2)\n",
    "        \n",
    "        self.wh2o += self.lr * np.dot((output_errors * final_outputs * (1.0 -final_outputs)), np.transpose(hidden_outputs2))\n",
    "        self.wh1h2 += self.lr * np.dot((hidden_errors2 * hidden_outputs2 * (1.0 -hidden_outputs2)), np.transpose(hidden_outputs1))\n",
    "        self.wih1 += self.lr * np.dot((hidden_errors1 * hidden_outputs1 * (1.0 -hidden_outputs1)), np.transpose(inputs))\n",
    "        pass\n",
    "    \n",
    "    #신경망에 질의하기\n",
    "    def query(self, input_list):\n",
    "        inputs = np.array(input_list, ndmin=2).T\n",
    "    \n",
    "        hidden_inputs1 = np.dot(self.wih1, inputs)\n",
    "        hidden_outputs1 = self.activation_function(hidden_inputs1)\n",
    "        hidden_inputs2 = np.dot(self.wh1h2, hidden_outputs1)\n",
    "        hidden_outputs2 = self.activation_function(hidden_inputs2)\n",
    "        final_inputs = np.dot(self.wh2o, hidden_outputs2)\n",
    "        final_outputs  = self.activation_function(final_inputs)\n",
    "        return  final_outputs"
   ]
  },
  {
   "cell_type": "markdown",
   "metadata": {},
   "source": [
    "# 신경망 테스트 클래스"
   ]
  },
  {
   "cell_type": "code",
   "execution_count": 61,
   "metadata": {},
   "outputs": [],
   "source": [
    "def testNeuralNet(e):\n",
    "    test_data_file = open(\"mnist_dataset/mnist_test.csv\",\"r\")\n",
    "    test_data_list = test_data_file.readlines()\n",
    "    test_data_file.close()\n",
    "\n",
    "    #신경망의 성능의 지표가 되는 성적표를 아무 값도 가지지 않도록 초기화\n",
    "    scorecard = []\n",
    "\n",
    "    #테스트 데이터의 모음 내의 모든 레코드 탐색\n",
    "    for record in test_data_list:\n",
    "        #레코드를 쉼표에 의해 분리\n",
    "        all_values = record.split(',')\n",
    "        correct_label = int(all_values[0])\n",
    "        #print(correct_label, \"correct label\")\n",
    "        inputs = (np.asfarray(all_values[1:]) / 255.0 * 0.99) + 0.01\n",
    "        outputs = n.query(inputs)\n",
    "        label = np.argmax(outputs)\n",
    "\n",
    "        #print(label, \"network's asnwer\")\n",
    "\n",
    "        if(label == correct_label):\n",
    "            scorecard.append(1)\n",
    "        else:\n",
    "            scorecard.append(0)\n",
    "            pass\n",
    "        pass\n",
    "    \n",
    "    scorecard_array = np.asarray(scorecard)\n",
    "    print(\"epochs = \", e,\n",
    "     \"hidden_nodes1 = \", hidden_nodes1, \" hidden_nodes2 = \", hidden_nodes2,\n",
    "     \"learning_rate = \", learning_rate, \"performance = \",scorecard_array.sum() / scorecard_array.size)"
   ]
  },
  {
   "cell_type": "markdown",
   "metadata": {},
   "source": [
    "# 하이퍼파라미터"
   ]
  },
  {
   "cell_type": "code",
   "execution_count": 62,
   "metadata": {
    "scrolled": false
   },
   "outputs": [],
   "source": [
    "input_nodes = 784\n",
    "hidden_nodes1 = 300\n",
    "hidden_nodes2 = 100\n",
    "output_nodes = 10\n",
    "learning_rate = 0.005\n",
    "epochs = 5\n",
    "\n",
    "n = neuralNetwork2(input_nodes, hidden_nodes1, hidden_nodes2, output_nodes, learning_rate)\n",
    "\n",
    "#100~200\n",
    "#0.3~0.03\n",
    "#5~10"
   ]
  },
  {
   "cell_type": "markdown",
   "metadata": {},
   "source": [
    "# 신경망 학습 및 테스트"
   ]
  },
  {
   "cell_type": "code",
   "execution_count": null,
   "metadata": {
    "scrolled": true
   },
   "outputs": [],
   "source": [
    "train_data_file = open(\"mnist_dataset/mnist_train.csv\",\"r\")\n",
    "train_data_list = train_data_file.readlines()\n",
    "train_data_file.close()\n",
    "\n",
    "for e in range(epochs):\n",
    "    for record in train_data_list:\n",
    "        all_values = record.split(',')\n",
    "        inputs = (np.asfarray(all_values[1:]) / 255.0 * 0.99) + 0.01 #0~255값 -> 0.01~1사이의 값\n",
    "        targets = np.zeros(output_nodes) + 0.01 #결과값중 아닌것들은 0.01\n",
    "        targets[int(all_values[0])] = 0.99      #결과값중 맞는것은 0.99\n",
    "        n.train(inputs, targets)\n",
    "    testNeuralNet(e+1)\n",
    "   \n",
    "pass"
   ]
  },
  {
   "cell_type": "markdown",
   "metadata": {},
   "source": [
    "# 201601769 나요한"
   ]
  },
  {
   "cell_type": "markdown",
   "metadata": {},
   "source": [
    "1. 같은 에폭 가정 ->  hidden_node수 조정\n",
    "2. 같은 hidden_node일때 -> learning_rate 조정\n",
    "3. 마지막으로 epoch수 조정"
   ]
  },
  {
   "cell_type": "markdown",
   "metadata": {},
   "source": [
    "epochs =  2 hidden_nodes1 =  300  hidden_nodes2 =  200 learning_rate =  0.2 performance =  0.854\n",
    "epochs =  2 hidden_nodes1 =  300  hidden_nodes2 =  100 learning_rate =  0.2 performance =  0.8625\n",
    "epochs =  2 hidden_nodes1 =  200  hidden_nodes2 =  100 learning_rate =  0.2 performance =  0.8554\n",
    "epochs =  2 hidden_nodes1 =  100  hidden_nodes2 =  50 learning_rate =  0.2 performance =  0.8762"
   ]
  },
  {
   "cell_type": "markdown",
   "metadata": {},
   "source": [
    "epochs =  2 hidden_nodes1 =  50  hidden_nodes2 =  100 learning_rate =  0.2 performance =  0.8417\n",
    "epochs =  2 hidden_nodes1 =  100  hidden_nodes2 =  200 learning_rate =  0.2 performance =  0.8162\n",
    "epochs =  2 hidden_nodes1 =  200  hidden_nodes2 =  300 learning_rate =  0.2 performance =  0.821"
   ]
  },
  {
   "cell_type": "code",
   "execution_count": null,
   "metadata": {},
   "outputs": [],
   "source": [
    "epochs =  1 hidden_nodes1 =  100  hidden_nodes2 =  200 learning_rate =  0.2 performance =  0.809\n",
    "epochs =  2 hidden_nodes1 =  100  hidden_nodes2 =  200 learning_rate =  0.2 performance =  0.8474\n",
    "epochs =  3 hidden_nodes1 =  100  hidden_nodes2 =  200 learning_rate =  0.2 performance =  0.8403\n",
    "epochs =  4 hidden_nodes1 =  100  hidden_nodes2 =  200 learning_rate =  0.2 performance =  0.8295\n",
    "epochs =  5 hidden_nodes1 =  100  hidden_nodes2 =  200 learning_rate =  0.2 performance =  0.8477"
   ]
  },
  {
   "cell_type": "code",
   "execution_count": null,
   "metadata": {},
   "outputs": [],
   "source": [
    "epochs =  1 hidden_nodes1 =  100  hidden_nodes2 =  50 learning_rate =  0.2 performance =  0.8436\n",
    "epochs =  2 hidden_nodes1 =  100  hidden_nodes2 =  50 learning_rate =  0.2 performance =  0.8727\n",
    "epochs =  3 hidden_nodes1 =  100  hidden_nodes2 =  50 learning_rate =  0.2 performance =  0.8373\n",
    "epochs =  4 hidden_nodes1 =  100  hidden_nodes2 =  50 learning_rate =  0.2 performance =  0.8505\n",
    "epochs =  5 hidden_nodes1 =  100  hidden_nodes2 =  50 learning_rate =  0.2 performance =  0.8276"
   ]
  },
  {
   "cell_type": "code",
   "execution_count": null,
   "metadata": {},
   "outputs": [],
   "source": [
    "epochs =  1 hidden_nodes1 =  300  hidden_nodes2 =  100 learning_rate =  0.2 performance =  0.8712\n",
    "epochs =  2 hidden_nodes1 =  300  hidden_nodes2 =  100 learning_rate =  0.2 performance =  0.8465\n",
    "epochs =  3 hidden_nodes1 =  300  hidden_nodes2 =  100 learning_rate =  0.2 performance =  0.8247\n",
    "epochs =  4 hidden_nodes1 =  300  hidden_nodes2 =  100 learning_rate =  0.2 performance =  0.8365\n",
    "epochs =  5 hidden_nodes1 =  300  hidden_nodes2 =  100 learning_rate =  0.2 performance =  0.8218"
   ]
  },
  {
   "cell_type": "code",
   "execution_count": null,
   "metadata": {},
   "outputs": [],
   "source": [
    "epochs =  1 hidden_nodes1 =  100  hidden_nodes2 =  50 learning_rate =  0.05 performance =  0.934\n",
    "epochs =  2 hidden_nodes1 =  100  hidden_nodes2 =  50 learning_rate =  0.05 performance =  0.9503\n",
    "epochs =  3 hidden_nodes1 =  100  hidden_nodes2 =  50 learning_rate =  0.05 performance =  0.9529\n",
    "epochs =  4 hidden_nodes1 =  100  hidden_nodes2 =  50 learning_rate =  0.05 performance =  0.9508\n",
    "epochs =  5 hidden_nodes1 =  100  hidden_nodes2 =  50 learning_rate =  0.05 performance =  0.9453"
   ]
  },
  {
   "cell_type": "code",
   "execution_count": null,
   "metadata": {},
   "outputs": [],
   "source": [
    "epochs =  1 hidden_nodes1 =  100  hidden_nodes2 =  50 learning_rate =  0.025 performance =  0.9426\n",
    "epochs =  2 hidden_nodes1 =  100  hidden_nodes2 =  50 learning_rate =  0.025 performance =  0.9581\n",
    "epochs =  3 hidden_nodes1 =  100  hidden_nodes2 =  50 learning_rate =  0.025 performance =  0.9603\n",
    "epochs =  4 hidden_nodes1 =  100  hidden_nodes2 =  50 learning_rate =  0.025 performance =  0.964\n",
    "epochs =  5 hidden_nodes1 =  100  hidden_nodes2 =  50 learning_rate =  0.025 performance =  0.9656"
   ]
  },
  {
   "cell_type": "code",
   "execution_count": null,
   "metadata": {},
   "outputs": [],
   "source": [
    "epochs =  1 hidden_nodes1 =  100  hidden_nodes2 =  50 learning_rate =  0.01 performance =  0.9283\n",
    "epochs =  2 hidden_nodes1 =  100  hidden_nodes2 =  50 learning_rate =  0.01 performance =  0.9461\n",
    "epochs =  3 hidden_nodes1 =  100  hidden_nodes2 =  50 learning_rate =  0.01 performance =  0.9566\n",
    "epochs =  4 hidden_nodes1 =  100  hidden_nodes2 =  50 learning_rate =  0.01 performance =  0.963\n",
    "epochs =  5 hidden_nodes1 =  100  hidden_nodes2 =  50 learning_rate =  0.01 performance =  0.9675"
   ]
  },
  {
   "cell_type": "code",
   "execution_count": null,
   "metadata": {},
   "outputs": [],
   "source": [
    "epochs =  1 hidden_nodes1 =  300  hidden_nodes2 =  100 learning_rate =  0.1 performance =  0.9342\n",
    "epochs =  2 hidden_nodes1 =  300  hidden_nodes2 =  100 learning_rate =  0.1 performance =  0.9417\n",
    "epochs =  3 hidden_nodes1 =  300  hidden_nodes2 =  100 learning_rate =  0.1 performance =  0.9194\n",
    "epochs =  4 hidden_nodes1 =  300  hidden_nodes2 =  100 learning_rate =  0.1 performance =  0.919\n",
    "epochs =  5 hidden_nodes1 =  300  hidden_nodes2 =  100 learning_rate =  0.1 performance =  0.9265"
   ]
  },
  {
   "cell_type": "code",
   "execution_count": null,
   "metadata": {},
   "outputs": [],
   "source": [
    "epochs =  1 hidden_nodes1 =  300  hidden_nodes2 =  100 learning_rate =  0.01 performance =  0.9422\n",
    "epochs =  2 hidden_nodes1 =  300  hidden_nodes2 =  100 learning_rate =  0.01 performance =  0.9611\n",
    "epochs =  3 hidden_nodes1 =  300  hidden_nodes2 =  100 learning_rate =  0.01 performance =  0.9686\n",
    "epochs =  4 hidden_nodes1 =  300  hidden_nodes2 =  100 learning_rate =  0.01 performance =  0.9729\n",
    "epochs =  5 hidden_nodes1 =  300  hidden_nodes2 =  100 learning_rate =  0.01 performance =  0.9752"
   ]
  },
  {
   "cell_type": "code",
   "execution_count": null,
   "metadata": {},
   "outputs": [],
   "source": []
  },
  {
   "cell_type": "code",
   "execution_count": null,
   "metadata": {},
   "outputs": [],
   "source": []
  }
 ],
 "metadata": {
  "kernelspec": {
   "display_name": "Python 3",
   "language": "python",
   "name": "python3"
  },
  "language_info": {
   "codemirror_mode": {
    "name": "ipython",
    "version": 3
   },
   "file_extension": ".py",
   "mimetype": "text/x-python",
   "name": "python",
   "nbconvert_exporter": "python",
   "pygments_lexer": "ipython3",
   "version": "3.7.6"
  }
 },
 "nbformat": 4,
 "nbformat_minor": 4
}
