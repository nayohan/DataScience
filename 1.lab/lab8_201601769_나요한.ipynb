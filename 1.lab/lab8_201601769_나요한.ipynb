{
 "cells": [
  {
   "cell_type": "markdown",
   "metadata": {},
   "source": [
    "# 1번 문제 : Chapter 9 (forward)"
   ]
  },
  {
   "cell_type": "code",
   "execution_count": 1,
   "metadata": {
    "scrolled": true
   },
   "outputs": [
    {
     "name": "stdout",
     "output_type": "stream",
     "text": [
      "Populating the interactive namespace from numpy and matplotlib\n"
     ]
    }
   ],
   "source": [
    "import numpy as np\n",
    "import matplotlib.pyplot as plt\n",
    "%pylab inline\n",
    "\n",
    "def sigmoid(x):\n",
    "    return 1/(1 + np.exp(-x))"
   ]
  },
  {
   "cell_type": "code",
   "execution_count": 2,
   "metadata": {
    "scrolled": false
   },
   "outputs": [
    {
     "name": "stdout",
     "output_type": "stream",
     "text": [
      "[0.9 0.1 0.8]\n",
      "forward: [1.16 0.42 0.62]\n",
      "sigmoid: [0.76133271 0.60348325 0.65021855]\n",
      "forward: [0.97594736 0.88858496 1.25461119]\n",
      "result: [0.72630335 0.70859807 0.77809706]\n"
     ]
    }
   ],
   "source": [
    "I = np.array([0.9, 0.1, 0.8])\n",
    "\n",
    "W_ih = np.array([[0.9, 0.3, 0.4], [0.2, 0.8, 0.2], [0.1, 0.5, 0.6]])\n",
    "W_ho = np.array([[0.3, 0.7, 0.5], [0.6, 0.5, 0.2], [0.8, 0.1, 0.9]])\n",
    "\n",
    "A1 = np.dot( W_ih,I)\n",
    "Z1 = sigmoid(A1)\n",
    "A2 = np.dot(W_ho, Z1)\n",
    "Z2 = sigmoid(A2)\n",
    "Y = Z2\n",
    "\n",
    "print(I)\n",
    "print(\"forward:\",A1)\n",
    "print(\"sigmoid:\",Z1)\n",
    "print(\"forward:\", A2)\n",
    "print(\"result:\", Y)"
   ]
  },
  {
   "cell_type": "markdown",
   "metadata": {},
   "source": [
    "# 2번 문제 : Chapter 12 (backward)"
   ]
  },
  {
   "cell_type": "code",
   "execution_count": 3,
   "metadata": {
    "scrolled": true
   },
   "outputs": [
    {
     "name": "stdout",
     "output_type": "stream",
     "text": [
      "E_hidden: [0.42 0.88]\n",
      "E_input: [0.32923077 1.07692308]\n"
     ]
    }
   ],
   "source": [
    "E_out = np.array([0.8, 0.5])\n",
    "W_1 = np.array([[3.0, 2.0], [1.0, 7.0]])\n",
    "#W_1 = W_1.T\n",
    "W_2 = np.array([[2.0, 3.0], [1.0, 4.0]])\n",
    "#W_2 = W_2.T\n",
    "\n",
    "def backward(W, E):\n",
    "    #E1 = W[0,0]/(W[0,0] + W[1,0]) * E[0] + W[0,1]/(W[0,1] + W[1,1]) * E[1]\n",
    "    #E2 = W[1,0]/(W[0,0] + W[1,0]) * E[0] + W[1,1]/(W[0,1] + W[1,1]) * E[1]\n",
    "    #e = np.array([E1, E2])\n",
    "    e = np.dot(W.T, E)/(np.sum(W)/2)\n",
    "    return e\n",
    "\n",
    "E_hidden = backward(W_2, E_out)\n",
    "E_input = backward(W_1, E_hidden)\n",
    "\n",
    "print(\"E_hidden:\", E_hidden)\n",
    "print(\"E_input:\", E_input)\n",
    "\n",
    "#왜 e = np.dot(W.T, E) 이걸로 하면 값이 다를까? 행렬곱을 이용한 역전파의 경우니까 다른게 나오는건가?\n",
    "#E_hidden: [0.42 0.88]\n",
    "#E_input: [0.362 0.938]\n",
    "#해결:웨이트값을 전체 더해서 /2 하니까 직접한 계산한 값과 같아짐. 3x3에서도 사용가능!"
   ]
  },
  {
   "cell_type": "markdown",
   "metadata": {},
   "source": [
    "# 3번 문제 : Chapter 15 (update)"
   ]
  },
  {
   "cell_type": "code",
   "execution_count": 4,
   "metadata": {
    "scrolled": true
   },
   "outputs": [
    {
     "name": "stdout",
     "output_type": "stream",
     "text": [
      "----  I  ---------------\n",
      "[-0.56765115  0.08109302]\n",
      "---- W_1 ---------------\n",
      "[[1. 2.]\n",
      " [1. 7.]]\n",
      "---- W_2 ---------------\n",
      "[[2. 3.]\n",
      " [1. 4.]]\n",
      "----E_h uppdate_val --------\n",
      "[-0.00265023 -0.00190637]\n",
      "---- W_2 Answer ------------\n",
      "[[2.00265023 3.00190637]\n",
      " [1.00265023 4.00190637]]\n",
      "----E_i Update_val --------\n",
      "[ 0.00572609 -0.00178343]\n",
      "---- W_1 Answer ------------\n",
      "[[0.99427391 2.00178343]\n",
      " [0.99427391 7.00178343]]\n"
     ]
    }
   ],
   "source": [
    "import math\n",
    "\n",
    "def sigmoid(x):\n",
    "    return 1 / (1+ np.exp(-x))\n",
    "\n",
    "def logit(x):\n",
    "    return np.log(x/(1-x))\n",
    "x = np.linspace(0.01, 0.99, num= 100)\n",
    "#plt.plot(logit(x))\n",
    "\n",
    "def forward(W, I):\n",
    "    A1 = np.dot(W,I)\n",
    "    return sigmoid(A1)\n",
    "\n",
    "def backward(W, E):\n",
    "    e = np.dot(W.T, E)/(np.sum(W)/2)\n",
    "    return e\n",
    "\n",
    "O_j = np.array([0.4, 0.5])\n",
    "E_k = np.array([0.8, 0.5])\n",
    "W_1 = np.array([[1.0, 2.0], [1.0, 7.0]])\n",
    "W_2 = np.array([[2.0, 3.0], [1.0, 4.0]])\n",
    "I = np.dot(np.linalg.inv(W_1),logit(O_j))\n",
    "\n",
    "print(\"----  I  ---------------\")\n",
    "print(I)\n",
    "print(\"---- W_1 ---------------\")\n",
    "print(W_1)\n",
    "print(\"---- W_2 ---------------\")\n",
    "print(W_2)\n",
    "\n",
    "O_j = forward(W_1, I)\n",
    "O_k = forward(W_2, O_j)\n",
    "lr = 0.1\n",
    "\n",
    "Update_val = lr*(-E_k * forward(W_2, O_j)*(1- forward(W_2, O_j)) *O_j.T)\n",
    "W_2 = W_2 - Update_val\n",
    "\n",
    "print(\"----E_h uppdate_val --------\")\n",
    "print(Update_val)\n",
    "print(\"---- W_2 Answer ------------\")\n",
    "print(W_2)\n",
    "\n",
    "E_j = np.dot(W_2.T, E_k)/(np.sum(W_2)/2)\n",
    "Update_val = lr*(-E_j * O_j*(1- O_j) * I.T)\n",
    "W_1 = W_1 - Update_val\n",
    "\n",
    "print(\"----E_i Update_val --------\")\n",
    "print(Update_val)\n",
    "print(\"---- W_1 Answer ------------\")\n",
    "print(W_1)\n",
    "\n",
    "#inverse sigmoid통과시켜서를 써서 입력값 초기값\n",
    "#입력값이 없어서 W_1값을 업데이트 할수 없는데 어떻게 해야할까?\n",
    "# 해결: 시그모이드 역함수인 logit함수와 W역행렬계산을 통해 인풋값을 알아내고, 다시 업데이트를 함."
   ]
  },
  {
   "cell_type": "markdown",
   "metadata": {},
   "source": [
    "# 4번 문제 : 3x2x3 순전파"
   ]
  },
  {
   "cell_type": "code",
   "execution_count": 5,
   "metadata": {
    "scrolled": true
   },
   "outputs": [
    {
     "name": "stdout",
     "output_type": "stream",
     "text": [
      "[[0.72213297]\n",
      " [0.77521169]]\n"
     ]
    }
   ],
   "source": [
    "input = np.array([0.9, 0.8], ndmin=2).T\n",
    "#print(input.shape)\n",
    "Winput_hidden = np.matrix([[0.9, 0.4], [0.2, 0.2], [0.1, 0.6]])\n",
    "#print(Winput_hidden.shape)\n",
    "Whidden_output = np.matrix([[0.3, 0.7, 0.5], [0.8, 0.1, 0.9]])\n",
    "#print(Whidden_output.shape)\n",
    "\n",
    "O_j = forward(Winput_hidden, input)\n",
    "O_k = forward(Whidden_output, O_j)\n",
    "\n",
    "print(O_k)"
   ]
  },
  {
   "cell_type": "markdown",
   "metadata": {},
   "source": [
    "# 5번 문제 : 가중치 업데이트"
   ]
  },
  {
   "cell_type": "code",
   "execution_count": 8,
   "metadata": {},
   "outputs": [
    {
     "name": "stdout",
     "output_type": "stream",
     "text": [
      "---- 처음 출력값 --------\n",
      "[[0.72630335]\n",
      " [0.70859807]\n",
      " [0.77809706]]\n",
      "---- W_2 Answer ------------\n",
      "[[0.31084074 0.7085931  0.50925857]\n",
      " [0.61098232 0.50870533 0.20937949]\n",
      " [0.80278553 0.102208   0.90237899]]\n",
      "---- W_1 Answer ------------\n",
      "[[0.91317408 0.30146379 0.41171029]\n",
      " [0.21894585 0.80210509 0.21684076]\n",
      " [0.11132724 0.50125858 0.61006866]]\n",
      "---- 최종 출력값 --------\n",
      "[[0.73182933]\n",
      " [0.7140752 ]\n",
      " [0.7802667 ]]\n",
      "---- 보기 편하게 --------\n",
      "[[73]\n",
      " [71]\n",
      " [78]]\n"
     ]
    }
   ],
   "source": [
    "I = np.array([0.9, 0.1, 0.8], ndmin=2).T \n",
    "#print(I.shape)\n",
    "W_ij = np.array([[0.9, 0.3, 0.4], [0.2, 0.8, 0.2], [0.1, 0.5, 0.6]])\n",
    "#print(W_ih.shape)\n",
    "W_jk = np.array([[0.3, 0.7, 0.5], [0.6, 0.5, 0.2], [0.8, 0.1, 0.9]])\n",
    "#print(W_ho.shape)\n",
    "targets = np.matrix([[0.01],[0.01], [0.99]])\n",
    "#print(targets.shape)\n",
    "\n",
    "def sigmoid(x):\n",
    "    return 1 / (1+ np.exp(-x))\n",
    "\n",
    "def forward(W, I):\n",
    "    A1 = np.dot(W,I)\n",
    "    return sigmoid(A1)\n",
    "\n",
    "O_j = forward(W_ij, I)\n",
    "O_k = forward(W_jk, O_j)\n",
    "print(\"---- 처음 출력값 --------\")\n",
    "print(O_k)\n",
    "\n",
    "lr = 0.1\n",
    "step = 1\n",
    "\n",
    "# 가중치 업데이트 ------------------------------\n",
    "for i in range(step): \n",
    "    #hidden <- output\n",
    "    E_k = np.array(np.abs(targets - O_k))\n",
    "    Update_val = lr*(-E_k * O_k*(1- O_k) *O_j.T)\n",
    "    W_jk = W_jk - Update_val\n",
    "    #input <- hidden\n",
    "    E_j = np.dot(W_ij.T, E_k)/(np.sum(W_ij)/2)\n",
    "    Update_val = lr*(-E_j * O_j*(1- O_j) * I.T)\n",
    "    W_ij = W_ij - Update_val\n",
    "# ----------------------------------------------\n",
    "\n",
    "print(\"---- W_2 Answer ------------\")\n",
    "print(W_jk)\n",
    "print(\"---- W_1 Answer ------------\")\n",
    "print(W_ij)\n",
    "\n",
    "O_j = forward(W_ij, I)\n",
    "O_k = forward(W_jk, O_j)\n",
    "\n",
    "print(\"---- 최종 출력값 --------\")\n",
    "print(O_k)\n",
    "print(\"---- 보기 편하게 --------\")\n",
    "print((O_k*100).astype(int)) #보기편하게 정수형으로 변환 /100하면 실제값\n",
    "\n",
    "#hidden 레이어로 갈때 정규화를 해라. 1.3이 모두다 되게 해라.??\n",
    "#2번에서 matrix 나누는 부분만 추가를\n",
    "#그림을 보고 1,1 어떤 rate값이 분모를 가는지 적용."
   ]
  },
  {
   "cell_type": "markdown",
   "metadata": {},
   "source": [
    "# 201601769 나요한\n"
   ]
  },
  {
   "cell_type": "code",
   "execution_count": null,
   "metadata": {},
   "outputs": [],
   "source": []
  }
 ],
 "metadata": {
  "kernelspec": {
   "display_name": "Python 3",
   "language": "python",
   "name": "python3"
  },
  "language_info": {
   "codemirror_mode": {
    "name": "ipython",
    "version": 3
   },
   "file_extension": ".py",
   "mimetype": "text/x-python",
   "name": "python",
   "nbconvert_exporter": "python",
   "pygments_lexer": "ipython3",
   "version": "3.7.6"
  }
 },
 "nbformat": 4,
 "nbformat_minor": 4
}
