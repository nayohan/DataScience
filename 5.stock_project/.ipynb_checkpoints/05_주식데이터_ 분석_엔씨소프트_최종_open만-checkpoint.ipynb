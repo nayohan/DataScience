{
 "cells": [
  {
   "cell_type": "code",
   "execution_count": 3,
   "metadata": {},
   "outputs": [],
   "source": [
    "import torch\n",
    "import torch.optim as optim\n",
    "import numpy as np\n",
    "import matplotlib.pyplot as plt\n",
    "import pandas as pd\n",
    "from torch.utils.data import Dataset, DataLoader\n",
    "from torch.optim import lr_scheduler\n",
    "from datetime import datetime, timedelta"
   ]
  },
  {
   "cell_type": "markdown",
   "metadata": {},
   "source": [
    "# 주식데이터 불러오기"
   ]
  },
  {
   "cell_type": "markdown",
   "metadata": {},
   "source": [
    "### 종목코드와 링크 생성"
   ]
  },
  {
   "cell_type": "code",
   "execution_count": 4,
   "metadata": {},
   "outputs": [],
   "source": [
    "code_df = pd.read_html('http://kind.krx.co.kr/corpgeneral/corpList.do?method=download&searchType=13', header=0)[0]\n",
    "code_df.종목코드 = code_df.종목코드.map('{:06d}'.format)"
   ]
  },
  {
   "cell_type": "code",
   "execution_count": 5,
   "metadata": {},
   "outputs": [
    {
     "name": "stdout",
     "output_type": "stream",
     "text": [
      "<class 'pandas.core.frame.DataFrame'>\n",
      "RangeIndex: 2355 entries, 0 to 2354\n",
      "Data columns (total 2 columns):\n",
      " #   Column  Non-Null Count  Dtype \n",
      "---  ------  --------------  ----- \n",
      " 0   name    2355 non-null   object\n",
      " 1   code    2355 non-null   object\n",
      "dtypes: object(2)\n",
      "memory usage: 36.9+ KB\n"
     ]
    }
   ],
   "source": [
    "#상장된 기업들목록에서 회사명과 종목코드만 가져옴\n",
    "code_df = code_df[['회사명', '종목코드']]\n",
    "code_df = code_df.rename(columns={'회사명':'name', '종목코드':'code'})\n",
    "code_df.info()"
   ]
  },
  {
   "cell_type": "code",
   "execution_count": 6,
   "metadata": {
    "scrolled": true
   },
   "outputs": [
    {
     "name": "stdout",
     "output_type": "stream",
     "text": [
      "요청 URL = http://finance.naver.com/item/sise_day.nhn?code=036570\n"
     ]
    }
   ],
   "source": [
    "#회사명을 넣으면, code_df를 뒤져서 종목코드를 찾고, 네이버주식url에 덧대서 출력해주는 함수\n",
    "def get_url(item_name, code_df):\n",
    "    code = code_df.query(\"name=='{}'\".format(item_name))['code'].to_string(index=False)\n",
    "    code = code[1:7]\n",
    "    url = 'http://finance.naver.com/item/sise_day.nhn?code={code}'.format(code=code)\n",
    "    print(\"요청 URL = {}\".format(url))\n",
    "    return url\n",
    "\n",
    "item_name = '엔씨소프트'\n",
    "url = get_url(item_name, code_df)"
   ]
  },
  {
   "cell_type": "markdown",
   "metadata": {},
   "source": [
    "### 날짜별 종가, 전일비, 시가, 고가, 저가, 거래량 불러오기"
   ]
  },
  {
   "cell_type": "code",
   "execution_count": 7,
   "metadata": {
    "scrolled": true
   },
   "outputs": [],
   "source": [
    "def convert_col_name_kor_eng(df):  \n",
    "    df = df.rename(columns= {'날짜': 'date', '종가': 'close', '전일비': 'diff', '시가': 'open', '고가': 'high', '저가': 'low', '거래량': 'volume'}) \n",
    "    df[['close', 'diff', 'open', 'high', 'low', 'volume']] = df[['close', 'diff', 'open', 'high', 'low', 'volume']].astype(int) \n",
    "    df['date'] = pd.to_datetime(df['date'])\n",
    "    df = df.sort_values(by=['date'], ascending=True) \n",
    "    df.head()\n",
    "    return df\n",
    "\n",
    "def get_dataset(num_date):\n",
    "    df = pd.DataFrame()\n",
    "    for page in range(1,num_date+1):\n",
    "        pg_url = '{url}&page={page}'.format(url=url, page=page)\n",
    "        df = df.append(pd.read_html(pg_url, header=0)[0], ignore_index=True)\n",
    "    df = df.dropna()\n",
    "    df = convert_col_name_kor_eng(df)\n",
    "    return df\n",
    "\n",
    "df = get_dataset(493)"
   ]
  },
  {
   "cell_type": "code",
   "execution_count": 8,
   "metadata": {},
   "outputs": [
    {
     "name": "stdout",
     "output_type": "stream",
     "text": [
      "<class 'pandas.core.frame.DataFrame'>\n",
      "Int64Index: 4927 entries, 7391 to 1\n",
      "Data columns (total 7 columns):\n",
      " #   Column  Non-Null Count  Dtype         \n",
      "---  ------  --------------  -----         \n",
      " 0   date    4927 non-null   datetime64[ns]\n",
      " 1   close   4927 non-null   int32         \n",
      " 2   diff    4927 non-null   int32         \n",
      " 3   open    4927 non-null   int32         \n",
      " 4   high    4927 non-null   int32         \n",
      " 5   low     4927 non-null   int32         \n",
      " 6   volume  4927 non-null   int32         \n",
      "dtypes: datetime64[ns](1), int32(6)\n",
      "memory usage: 192.5 KB\n"
     ]
    }
   ],
   "source": [
    "df.info()"
   ]
  },
  {
   "cell_type": "markdown",
   "metadata": {},
   "source": [
    "### 데이터프레임 -> 넘파이"
   ]
  },
  {
   "cell_type": "code",
   "execution_count": 9,
   "metadata": {},
   "outputs": [
    {
     "name": "stdout",
     "output_type": "stream",
     "text": [
      "<class 'pandas.core.frame.DataFrame'>\n",
      "Int64Index: 4927 entries, 7391 to 1\n",
      "Data columns (total 6 columns):\n",
      " #   Column  Non-Null Count  Dtype\n",
      "---  ------  --------------  -----\n",
      " 0   close   4927 non-null   int32\n",
      " 1   diff    4927 non-null   int32\n",
      " 2   open    4927 non-null   int32\n",
      " 3   high    4927 non-null   int32\n",
      " 4   low     4927 non-null   int32\n",
      " 5   volume  4927 non-null   int32\n",
      "dtypes: int32(6)\n",
      "memory usage: 154.0 KB\n"
     ]
    }
   ],
   "source": [
    "df = df.drop(['date'], axis=1)\n",
    "df_size = len(df)\n",
    "df.info()"
   ]
  },
  {
   "cell_type": "code",
   "execution_count": 10,
   "metadata": {},
   "outputs": [
    {
     "name": "stdout",
     "output_type": "stream",
     "text": [
      "4927\n"
     ]
    }
   ],
   "source": [
    "print(df_size)"
   ]
  },
  {
   "cell_type": "code",
   "execution_count": 11,
   "metadata": {},
   "outputs": [],
   "source": [
    "train_set = df[0:int(df_size*0.7)]\n",
    "test_set = df[int(df_size*0.7):]"
   ]
  },
  {
   "cell_type": "code",
   "execution_count": 12,
   "metadata": {},
   "outputs": [],
   "source": [
    "train = train_set.to_numpy()\n",
    "test = test_set.to_numpy()"
   ]
  },
  {
   "cell_type": "code",
   "execution_count": 13,
   "metadata": {},
   "outputs": [
    {
     "name": "stdout",
     "output_type": "stream",
     "text": [
      "(3448, 6)\n",
      "(1479, 6)\n",
      "[87800  9400 87800 87800 87800   206]\n",
      "[98300 10500 98300 98300 98300 92439]\n"
     ]
    }
   ],
   "source": [
    "print(train.shape)\n",
    "print(test.shape)\n",
    "print(train[1])\n",
    "print(train[2])"
   ]
  },
  {
   "cell_type": "markdown",
   "metadata": {},
   "source": [
    "# 데이터 전처리"
   ]
  },
  {
   "cell_type": "markdown",
   "metadata": {},
   "source": [
    "#### minmax정규화, RNN용 shape으로 변경"
   ]
  },
  {
   "cell_type": "code",
   "execution_count": 14,
   "metadata": {},
   "outputs": [],
   "source": [
    "def minmax_scaler(data):\n",
    "    #print(np.min(data,0))\n",
    "    numerator = data - np.min(data,0)\n",
    "    #print(numerator.shape)\n",
    "    denominator = np.max(data,0) - np.min(data,0)\n",
    "    #print(numerator.shape)\n",
    "    return numerator / (denominator + 1e-7)\n",
    "\n",
    "def build_dataset(time_series, seq_length):\n",
    "    train_size = int(len(time_series - seq_length))\n",
    "    dataX = []\n",
    "    dataY = []\n",
    "\n",
    "    for i in range(0, len(time_series)-seq_length-1):\n",
    "        _x = time_series[i:i + seq_length,2]\n",
    "        _y = time_series[i + seq_length + 1,[0]]\n",
    "        dataX.append(_x)\n",
    "        dataY.append(_y)\n",
    "        \n",
    "    return np.array(dataX), np.array(dataY)\n",
    "#2차원 배열 -> 넘파이배열로 변경시 자료의 사이즈가 맞지 않으면 object타입으로 처리해서 3차원배열로 인식하지 않는다."
   ]
  },
  {
   "cell_type": "code",
   "execution_count": 15,
   "metadata": {},
   "outputs": [
    {
     "name": "stdout",
     "output_type": "stream",
     "text": [
      "(3448, 6)\n",
      "(1479, 6)\n"
     ]
    }
   ],
   "source": [
    "train = minmax_scaler(train)\n",
    "test_min = np.min(test, 0)\n",
    "test_max = np.max(test, 0)\n",
    "test_denom = test_max - test_min\n",
    "test_minmax = (test-test_min) / (test_denom + 1e-7)#minmax_scaler(test) \n",
    "\n",
    "print(train_set.shape)\n",
    "print(test_set.shape)"
   ]
  },
  {
   "cell_type": "code",
   "execution_count": 16,
   "metadata": {},
   "outputs": [
    {
     "data": {
      "text/plain": [
       "(3448,)"
      ]
     },
     "execution_count": 16,
     "metadata": {},
     "output_type": "execute_result"
    }
   ],
   "source": [
    "train[:,2].shape"
   ]
  },
  {
   "cell_type": "code",
   "execution_count": 17,
   "metadata": {},
   "outputs": [
    {
     "data": {
      "text/plain": [
       "array([0.1547286 , 0.18102966, 0.21040851, ..., 0.43900392, 0.43480694,\n",
       "       0.43900392])"
      ]
     },
     "execution_count": 17,
     "metadata": {},
     "output_type": "execute_result"
    }
   ],
   "source": [
    "train[:,2]"
   ]
  },
  {
   "cell_type": "code",
   "execution_count": 18,
   "metadata": {
    "scrolled": true
   },
   "outputs": [
    {
     "data": {
      "text/plain": [
       "(1479, 6)"
      ]
     },
     "execution_count": 18,
     "metadata": {},
     "output_type": "execute_result"
    }
   ],
   "source": [
    "test_minmax.shape"
   ]
  },
  {
   "cell_type": "code",
   "execution_count": 19,
   "metadata": {},
   "outputs": [],
   "source": [
    "seq_length = 7"
   ]
  },
  {
   "cell_type": "code",
   "execution_count": 20,
   "metadata": {
    "scrolled": true
   },
   "outputs": [
    {
     "name": "stdout",
     "output_type": "stream",
     "text": [
      "(3440, 7) (3440, 1)\n",
      "(1471, 7) (1471, 1)\n"
     ]
    }
   ],
   "source": [
    "trainX, trainY = build_dataset(train, seq_length)\n",
    "testX, testY = build_dataset(test_minmax, seq_length)\n",
    "print(trainX.shape, trainY.shape)\n",
    "print(testX.shape, testY.shape)"
   ]
  },
  {
   "cell_type": "code",
   "execution_count": 21,
   "metadata": {},
   "outputs": [
    {
     "name": "stdout",
     "output_type": "stream",
     "text": [
      "(3440, 7, 1)\n",
      "(1471, 7, 1)\n"
     ]
    }
   ],
   "source": [
    "trainX = trainX.reshape(-1, 7, 1)\n",
    "testX = testX.reshape(-1, 7, 1)\n",
    "print(trainX.shape)\n",
    "print(testX.shape)"
   ]
  },
  {
   "cell_type": "markdown",
   "metadata": {},
   "source": [
    "### 넘파이 -> 텐서"
   ]
  },
  {
   "cell_type": "code",
   "execution_count": 22,
   "metadata": {},
   "outputs": [],
   "source": [
    "class data_loader(Dataset):\n",
    "    def __init__(self, samples, labels, t):\n",
    "        self.samples = samples\n",
    "        self.labels = labels\n",
    "        self.T = t\n",
    "\n",
    "    def __getitem__(self, index):\n",
    "        sample, target = self.samples[index], self.labels[index]\n",
    "        if self.T:\n",
    "            return self.T(sample), target\n",
    "        else:\n",
    "            return sample, target\n",
    "\n",
    "    def __len__(self):\n",
    "        return len(self.samples)"
   ]
  },
  {
   "cell_type": "code",
   "execution_count": 23,
   "metadata": {},
   "outputs": [],
   "source": [
    "def load(batch_size):\n",
    "    transform = None\n",
    "    train_set = data_loader(trainX, trainY, transform)\n",
    "    train_loader = DataLoader(train_set, batch_size=batch_size, shuffle=True, drop_last=True)\n",
    "    test_set = data_loader(testX, testY, transform)\n",
    "    test_loader = DataLoader(test_set, batch_size=batch_size, shuffle=False)\n",
    "    return train_loader, test_loader"
   ]
  },
  {
   "cell_type": "code",
   "execution_count": 24,
   "metadata": {},
   "outputs": [
    {
     "name": "stdout",
     "output_type": "stream",
     "text": [
      "cuda:0\n"
     ]
    }
   ],
   "source": [
    "device = torch.device(\"cuda:0\" if torch.cuda.is_available() else \"cpu\")\n",
    "print(device)"
   ]
  },
  {
   "cell_type": "markdown",
   "metadata": {},
   "source": [
    "# 학습 모델"
   ]
  },
  {
   "cell_type": "code",
   "execution_count": 47,
   "metadata": {},
   "outputs": [],
   "source": [
    "data_dim = 1\n",
    "hidden_dim = 10\n",
    "output_dim = 1\n",
    "lr = 0.0001\n",
    "epoch = 1000\n",
    "\n",
    "batch_size=128\n",
    "layers=2"
   ]
  },
  {
   "cell_type": "code",
   "execution_count": 48,
   "metadata": {},
   "outputs": [],
   "source": [
    "train_loader, test_loader= load(batch_size=batch_size)"
   ]
  },
  {
   "cell_type": "code",
   "execution_count": 49,
   "metadata": {},
   "outputs": [],
   "source": [
    "class Net(torch.nn.Module):\n",
    "    def __init__(self, input_dim, hidden_dim, output_dim, layers):\n",
    "        super(Net, self).__init__()\n",
    "        self.rnn = torch.nn.LSTM(input_dim, hidden_dim, num_layers=layers, batch_first=True)\n",
    "        \n",
    "        self.fc = torch.nn.Sequential(\n",
    "            torch.nn.Linear(hidden_dim, output_dim)#, bias=True)\n",
    "        )\n",
    "    def forward(self, x):\n",
    "        x, _status  = self.rnn(x)\n",
    "        x = self.fc(x[:,-1])\n",
    "        return x\n",
    "              \n",
    "model = Net(data_dim, hidden_dim, output_dim, layers).to(device)"
   ]
  },
  {
   "cell_type": "code",
   "execution_count": 50,
   "metadata": {},
   "outputs": [],
   "source": [
    "loss_func = torch.nn.MSELoss()\n",
    "optimizer = optim.Adam(model.parameters(), lr=lr)\n",
    "scheduler = lr_scheduler.ReduceLROnPlateau(optimizer, threshold=1, patience=1, mode='min')"
   ]
  },
  {
   "cell_type": "code",
   "execution_count": 51,
   "metadata": {
    "scrolled": true
   },
   "outputs": [
    {
     "name": "stdout",
     "output_type": "stream",
     "text": [
      "0 tensor(0.0541, device='cuda:0', grad_fn=<MseLossBackward>)\n",
      "1 tensor(0.0606, device='cuda:0', grad_fn=<MseLossBackward>)\n",
      "2 tensor(0.0567, device='cuda:0', grad_fn=<MseLossBackward>)\n",
      "3 tensor(0.0518, device='cuda:0', grad_fn=<MseLossBackward>)\n",
      "4 tensor(0.0474, device='cuda:0', grad_fn=<MseLossBackward>)\n",
      "5 tensor(0.0460, device='cuda:0', grad_fn=<MseLossBackward>)\n",
      "6 tensor(0.0367, device='cuda:0', grad_fn=<MseLossBackward>)\n",
      "7 tensor(0.0392, device='cuda:0', grad_fn=<MseLossBackward>)\n",
      "8 tensor(0.0376, device='cuda:0', grad_fn=<MseLossBackward>)\n",
      "9 tensor(0.0632, device='cuda:0', grad_fn=<MseLossBackward>)\n",
      "10 tensor(0.0455, device='cuda:0', grad_fn=<MseLossBackward>)\n",
      "11 tensor(0.0430, device='cuda:0', grad_fn=<MseLossBackward>)\n",
      "12 tensor(0.0405, device='cuda:0', grad_fn=<MseLossBackward>)\n",
      "13 tensor(0.0394, device='cuda:0', grad_fn=<MseLossBackward>)\n",
      "14 tensor(0.0389, device='cuda:0', grad_fn=<MseLossBackward>)\n",
      "15 tensor(0.0489, device='cuda:0', grad_fn=<MseLossBackward>)\n",
      "16 tensor(0.0297, device='cuda:0', grad_fn=<MseLossBackward>)\n",
      "17 tensor(0.0357, device='cuda:0', grad_fn=<MseLossBackward>)\n",
      "18 tensor(0.0370, device='cuda:0', grad_fn=<MseLossBackward>)\n",
      "19 tensor(0.0280, device='cuda:0', grad_fn=<MseLossBackward>)\n",
      "20 tensor(0.0319, device='cuda:0', grad_fn=<MseLossBackward>)\n",
      "21 tensor(0.0260, device='cuda:0', grad_fn=<MseLossBackward>)\n",
      "22 tensor(0.0228, device='cuda:0', grad_fn=<MseLossBackward>)\n",
      "23 tensor(0.0182, device='cuda:0', grad_fn=<MseLossBackward>)\n",
      "24 tensor(0.0138, device='cuda:0', grad_fn=<MseLossBackward>)\n",
      "25 tensor(0.0112, device='cuda:0', grad_fn=<MseLossBackward>)\n",
      "26 tensor(0.0074, device='cuda:0', grad_fn=<MseLossBackward>)\n",
      "27 tensor(0.0050, device='cuda:0', grad_fn=<MseLossBackward>)\n",
      "28 tensor(0.0042, device='cuda:0', grad_fn=<MseLossBackward>)\n",
      "29 tensor(0.0024, device='cuda:0', grad_fn=<MseLossBackward>)\n",
      "30 tensor(0.0016, device='cuda:0', grad_fn=<MseLossBackward>)\n",
      "31 tensor(0.0016, device='cuda:0', grad_fn=<MseLossBackward>)\n",
      "32 tensor(0.0011, device='cuda:0', grad_fn=<MseLossBackward>)\n",
      "33 tensor(0.0014, device='cuda:0', grad_fn=<MseLossBackward>)\n",
      "34 tensor(0.0009, device='cuda:0', grad_fn=<MseLossBackward>)\n",
      "35 tensor(0.0013, device='cuda:0', grad_fn=<MseLossBackward>)\n",
      "36 tensor(0.0013, device='cuda:0', grad_fn=<MseLossBackward>)\n",
      "37 tensor(0.0016, device='cuda:0', grad_fn=<MseLossBackward>)\n",
      "38 tensor(0.0021, device='cuda:0', grad_fn=<MseLossBackward>)\n",
      "39 tensor(0.0008, device='cuda:0', grad_fn=<MseLossBackward>)\n",
      "40 tensor(0.0026, device='cuda:0', grad_fn=<MseLossBackward>)\n",
      "41 tensor(0.0014, device='cuda:0', grad_fn=<MseLossBackward>)\n",
      "42 tensor(0.0018, device='cuda:0', grad_fn=<MseLossBackward>)\n",
      "43 tensor(0.0009, device='cuda:0', grad_fn=<MseLossBackward>)\n",
      "44 tensor(0.0016, device='cuda:0', grad_fn=<MseLossBackward>)\n",
      "45 tensor(0.0010, device='cuda:0', grad_fn=<MseLossBackward>)\n",
      "46 tensor(0.0011, device='cuda:0', grad_fn=<MseLossBackward>)\n",
      "47 tensor(0.0015, device='cuda:0', grad_fn=<MseLossBackward>)\n",
      "48 tensor(0.0027, device='cuda:0', grad_fn=<MseLossBackward>)\n",
      "49 tensor(0.0011, device='cuda:0', grad_fn=<MseLossBackward>)\n",
      "50 tensor(0.0007, device='cuda:0', grad_fn=<MseLossBackward>)\n",
      "51 tensor(0.0016, device='cuda:0', grad_fn=<MseLossBackward>)\n",
      "52 tensor(0.0009, device='cuda:0', grad_fn=<MseLossBackward>)\n",
      "53 tensor(0.0012, device='cuda:0', grad_fn=<MseLossBackward>)\n",
      "54 tensor(0.0033, device='cuda:0', grad_fn=<MseLossBackward>)\n",
      "55 tensor(0.0033, device='cuda:0', grad_fn=<MseLossBackward>)\n",
      "56 tensor(0.0014, device='cuda:0', grad_fn=<MseLossBackward>)\n",
      "57 tensor(0.0012, device='cuda:0', grad_fn=<MseLossBackward>)\n",
      "58 tensor(0.0014, device='cuda:0', grad_fn=<MseLossBackward>)\n",
      "59 tensor(0.0011, device='cuda:0', grad_fn=<MseLossBackward>)\n",
      "60 tensor(0.0012, device='cuda:0', grad_fn=<MseLossBackward>)\n",
      "61 tensor(0.0015, device='cuda:0', grad_fn=<MseLossBackward>)\n",
      "62 tensor(0.0012, device='cuda:0', grad_fn=<MseLossBackward>)\n",
      "63 tensor(0.0013, device='cuda:0', grad_fn=<MseLossBackward>)\n",
      "64 tensor(0.0015, device='cuda:0', grad_fn=<MseLossBackward>)\n",
      "65 tensor(0.0024, device='cuda:0', grad_fn=<MseLossBackward>)\n",
      "66 tensor(0.0009, device='cuda:0', grad_fn=<MseLossBackward>)\n",
      "67 tensor(0.0009, device='cuda:0', grad_fn=<MseLossBackward>)\n",
      "68 tensor(0.0012, device='cuda:0', grad_fn=<MseLossBackward>)\n",
      "69 tensor(0.0010, device='cuda:0', grad_fn=<MseLossBackward>)\n",
      "70 tensor(0.0012, device='cuda:0', grad_fn=<MseLossBackward>)\n",
      "71 tensor(0.0019, device='cuda:0', grad_fn=<MseLossBackward>)\n",
      "72 tensor(0.0012, device='cuda:0', grad_fn=<MseLossBackward>)\n",
      "73 tensor(0.0025, device='cuda:0', grad_fn=<MseLossBackward>)\n",
      "74 tensor(0.0011, device='cuda:0', grad_fn=<MseLossBackward>)\n",
      "75 tensor(0.0011, device='cuda:0', grad_fn=<MseLossBackward>)\n",
      "76 tensor(0.0021, device='cuda:0', grad_fn=<MseLossBackward>)\n",
      "77 tensor(0.0011, device='cuda:0', grad_fn=<MseLossBackward>)\n",
      "78 tensor(0.0009, device='cuda:0', grad_fn=<MseLossBackward>)\n",
      "79 tensor(0.0011, device='cuda:0', grad_fn=<MseLossBackward>)\n",
      "80 tensor(0.0016, device='cuda:0', grad_fn=<MseLossBackward>)\n",
      "81 tensor(0.0018, device='cuda:0', grad_fn=<MseLossBackward>)\n",
      "82 tensor(0.0009, device='cuda:0', grad_fn=<MseLossBackward>)\n",
      "83 tensor(0.0011, device='cuda:0', grad_fn=<MseLossBackward>)\n",
      "84 tensor(0.0015, device='cuda:0', grad_fn=<MseLossBackward>)\n",
      "85 tensor(0.0024, device='cuda:0', grad_fn=<MseLossBackward>)\n",
      "86 tensor(0.0020, device='cuda:0', grad_fn=<MseLossBackward>)\n",
      "87 tensor(0.0039, device='cuda:0', grad_fn=<MseLossBackward>)\n",
      "88 tensor(0.0027, device='cuda:0', grad_fn=<MseLossBackward>)\n",
      "89 tensor(0.0025, device='cuda:0', grad_fn=<MseLossBackward>)\n",
      "90 tensor(0.0012, device='cuda:0', grad_fn=<MseLossBackward>)\n",
      "91 tensor(0.0010, device='cuda:0', grad_fn=<MseLossBackward>)\n",
      "92 tensor(0.0012, device='cuda:0', grad_fn=<MseLossBackward>)\n",
      "93 tensor(0.0010, device='cuda:0', grad_fn=<MseLossBackward>)\n",
      "94 tensor(0.0009, device='cuda:0', grad_fn=<MseLossBackward>)\n",
      "95 tensor(0.0026, device='cuda:0', grad_fn=<MseLossBackward>)\n",
      "96 tensor(0.0007, device='cuda:0', grad_fn=<MseLossBackward>)\n",
      "97 tensor(0.0011, device='cuda:0', grad_fn=<MseLossBackward>)\n",
      "98 tensor(0.0013, device='cuda:0', grad_fn=<MseLossBackward>)\n",
      "99 tensor(0.0013, device='cuda:0', grad_fn=<MseLossBackward>)\n",
      "100 tensor(0.0026, device='cuda:0', grad_fn=<MseLossBackward>)\n",
      "101 tensor(0.0010, device='cuda:0', grad_fn=<MseLossBackward>)\n",
      "102 tensor(0.0012, device='cuda:0', grad_fn=<MseLossBackward>)\n",
      "103 tensor(0.0009, device='cuda:0', grad_fn=<MseLossBackward>)\n",
      "104 tensor(0.0012, device='cuda:0', grad_fn=<MseLossBackward>)\n",
      "105 tensor(0.0020, device='cuda:0', grad_fn=<MseLossBackward>)\n",
      "106 tensor(0.0032, device='cuda:0', grad_fn=<MseLossBackward>)\n",
      "107 tensor(0.0015, device='cuda:0', grad_fn=<MseLossBackward>)\n",
      "108 tensor(0.0012, device='cuda:0', grad_fn=<MseLossBackward>)\n",
      "109 tensor(0.0009, device='cuda:0', grad_fn=<MseLossBackward>)\n",
      "110 tensor(0.0014, device='cuda:0', grad_fn=<MseLossBackward>)\n",
      "111 tensor(0.0008, device='cuda:0', grad_fn=<MseLossBackward>)\n",
      "112 tensor(0.0010, device='cuda:0', grad_fn=<MseLossBackward>)\n",
      "113 tensor(0.0010, device='cuda:0', grad_fn=<MseLossBackward>)\n",
      "114 tensor(0.0010, device='cuda:0', grad_fn=<MseLossBackward>)\n",
      "115 tensor(0.0011, device='cuda:0', grad_fn=<MseLossBackward>)\n",
      "116 tensor(0.0011, device='cuda:0', grad_fn=<MseLossBackward>)\n",
      "117 tensor(0.0029, device='cuda:0', grad_fn=<MseLossBackward>)\n",
      "118 tensor(0.0027, device='cuda:0', grad_fn=<MseLossBackward>)\n",
      "119 tensor(0.0011, device='cuda:0', grad_fn=<MseLossBackward>)\n",
      "120 tensor(0.0015, device='cuda:0', grad_fn=<MseLossBackward>)\n",
      "121 tensor(0.0030, device='cuda:0', grad_fn=<MseLossBackward>)\n",
      "122 tensor(0.0010, device='cuda:0', grad_fn=<MseLossBackward>)\n",
      "123 tensor(0.0010, device='cuda:0', grad_fn=<MseLossBackward>)\n",
      "124 tensor(0.0007, device='cuda:0', grad_fn=<MseLossBackward>)\n",
      "125 tensor(0.0012, device='cuda:0', grad_fn=<MseLossBackward>)\n",
      "126 tensor(0.0008, device='cuda:0', grad_fn=<MseLossBackward>)\n",
      "127 tensor(0.0024, device='cuda:0', grad_fn=<MseLossBackward>)\n",
      "128 tensor(0.0011, device='cuda:0', grad_fn=<MseLossBackward>)\n",
      "129 tensor(0.0021, device='cuda:0', grad_fn=<MseLossBackward>)\n",
      "130 tensor(0.0028, device='cuda:0', grad_fn=<MseLossBackward>)\n",
      "131 tensor(0.0008, device='cuda:0', grad_fn=<MseLossBackward>)\n"
     ]
    },
    {
     "name": "stdout",
     "output_type": "stream",
     "text": [
      "132 tensor(0.0011, device='cuda:0', grad_fn=<MseLossBackward>)\n",
      "133 tensor(0.0021, device='cuda:0', grad_fn=<MseLossBackward>)\n",
      "134 tensor(0.0013, device='cuda:0', grad_fn=<MseLossBackward>)\n",
      "135 tensor(0.0025, device='cuda:0', grad_fn=<MseLossBackward>)\n",
      "136 tensor(0.0008, device='cuda:0', grad_fn=<MseLossBackward>)\n",
      "137 tensor(0.0019, device='cuda:0', grad_fn=<MseLossBackward>)\n",
      "138 tensor(0.0040, device='cuda:0', grad_fn=<MseLossBackward>)\n",
      "139 tensor(0.0011, device='cuda:0', grad_fn=<MseLossBackward>)\n",
      "140 tensor(0.0016, device='cuda:0', grad_fn=<MseLossBackward>)\n",
      "141 tensor(0.0025, device='cuda:0', grad_fn=<MseLossBackward>)\n",
      "142 tensor(0.0011, device='cuda:0', grad_fn=<MseLossBackward>)\n",
      "143 tensor(0.0009, device='cuda:0', grad_fn=<MseLossBackward>)\n",
      "144 tensor(0.0009, device='cuda:0', grad_fn=<MseLossBackward>)\n",
      "145 tensor(0.0008, device='cuda:0', grad_fn=<MseLossBackward>)\n",
      "146 tensor(0.0020, device='cuda:0', grad_fn=<MseLossBackward>)\n",
      "147 tensor(0.0006, device='cuda:0', grad_fn=<MseLossBackward>)\n",
      "148 tensor(0.0015, device='cuda:0', grad_fn=<MseLossBackward>)\n",
      "149 tensor(0.0029, device='cuda:0', grad_fn=<MseLossBackward>)\n",
      "150 tensor(0.0011, device='cuda:0', grad_fn=<MseLossBackward>)\n",
      "151 tensor(0.0011, device='cuda:0', grad_fn=<MseLossBackward>)\n",
      "152 tensor(0.0013, device='cuda:0', grad_fn=<MseLossBackward>)\n",
      "153 tensor(0.0010, device='cuda:0', grad_fn=<MseLossBackward>)\n",
      "154 tensor(0.0012, device='cuda:0', grad_fn=<MseLossBackward>)\n",
      "155 tensor(0.0008, device='cuda:0', grad_fn=<MseLossBackward>)\n",
      "156 tensor(0.0007, device='cuda:0', grad_fn=<MseLossBackward>)\n",
      "157 tensor(0.0009, device='cuda:0', grad_fn=<MseLossBackward>)\n",
      "158 tensor(0.0009, device='cuda:0', grad_fn=<MseLossBackward>)\n",
      "159 tensor(0.0009, device='cuda:0', grad_fn=<MseLossBackward>)\n",
      "160 tensor(0.0011, device='cuda:0', grad_fn=<MseLossBackward>)\n",
      "161 tensor(0.0009, device='cuda:0', grad_fn=<MseLossBackward>)\n",
      "162 tensor(0.0014, device='cuda:0', grad_fn=<MseLossBackward>)\n",
      "163 tensor(0.0010, device='cuda:0', grad_fn=<MseLossBackward>)\n",
      "164 tensor(0.0012, device='cuda:0', grad_fn=<MseLossBackward>)\n",
      "165 tensor(0.0009, device='cuda:0', grad_fn=<MseLossBackward>)\n",
      "166 tensor(0.0011, device='cuda:0', grad_fn=<MseLossBackward>)\n",
      "167 tensor(0.0008, device='cuda:0', grad_fn=<MseLossBackward>)\n",
      "168 tensor(0.0010, device='cuda:0', grad_fn=<MseLossBackward>)\n",
      "169 tensor(0.0006, device='cuda:0', grad_fn=<MseLossBackward>)\n",
      "170 tensor(0.0008, device='cuda:0', grad_fn=<MseLossBackward>)\n",
      "171 tensor(0.0009, device='cuda:0', grad_fn=<MseLossBackward>)\n",
      "172 tensor(0.0010, device='cuda:0', grad_fn=<MseLossBackward>)\n",
      "173 tensor(0.0007, device='cuda:0', grad_fn=<MseLossBackward>)\n",
      "174 tensor(0.0023, device='cuda:0', grad_fn=<MseLossBackward>)\n",
      "175 tensor(0.0031, device='cuda:0', grad_fn=<MseLossBackward>)\n",
      "176 tensor(0.0011, device='cuda:0', grad_fn=<MseLossBackward>)\n",
      "177 tensor(0.0007, device='cuda:0', grad_fn=<MseLossBackward>)\n",
      "178 tensor(0.0012, device='cuda:0', grad_fn=<MseLossBackward>)\n",
      "179 tensor(0.0028, device='cuda:0', grad_fn=<MseLossBackward>)\n",
      "180 tensor(0.0009, device='cuda:0', grad_fn=<MseLossBackward>)\n",
      "181 tensor(0.0008, device='cuda:0', grad_fn=<MseLossBackward>)\n",
      "182 tensor(0.0009, device='cuda:0', grad_fn=<MseLossBackward>)\n",
      "183 tensor(0.0024, device='cuda:0', grad_fn=<MseLossBackward>)\n",
      "184 tensor(0.0009, device='cuda:0', grad_fn=<MseLossBackward>)\n",
      "185 tensor(0.0009, device='cuda:0', grad_fn=<MseLossBackward>)\n",
      "186 tensor(0.0014, device='cuda:0', grad_fn=<MseLossBackward>)\n",
      "187 tensor(0.0009, device='cuda:0', grad_fn=<MseLossBackward>)\n",
      "188 tensor(0.0008, device='cuda:0', grad_fn=<MseLossBackward>)\n",
      "189 tensor(0.0022, device='cuda:0', grad_fn=<MseLossBackward>)\n",
      "190 tensor(0.0011, device='cuda:0', grad_fn=<MseLossBackward>)\n",
      "191 tensor(0.0010, device='cuda:0', grad_fn=<MseLossBackward>)\n",
      "192 tensor(0.0029, device='cuda:0', grad_fn=<MseLossBackward>)\n",
      "193 tensor(0.0014, device='cuda:0', grad_fn=<MseLossBackward>)\n",
      "194 tensor(0.0014, device='cuda:0', grad_fn=<MseLossBackward>)\n",
      "195 tensor(0.0009, device='cuda:0', grad_fn=<MseLossBackward>)\n",
      "196 tensor(0.0008, device='cuda:0', grad_fn=<MseLossBackward>)\n",
      "197 tensor(0.0014, device='cuda:0', grad_fn=<MseLossBackward>)\n",
      "198 tensor(0.0008, device='cuda:0', grad_fn=<MseLossBackward>)\n",
      "199 tensor(0.0007, device='cuda:0', grad_fn=<MseLossBackward>)\n",
      "200 tensor(0.0022, device='cuda:0', grad_fn=<MseLossBackward>)\n",
      "201 tensor(0.0011, device='cuda:0', grad_fn=<MseLossBackward>)\n",
      "202 tensor(0.0006, device='cuda:0', grad_fn=<MseLossBackward>)\n",
      "203 tensor(0.0009, device='cuda:0', grad_fn=<MseLossBackward>)\n",
      "204 tensor(0.0006, device='cuda:0', grad_fn=<MseLossBackward>)\n",
      "205 tensor(0.0012, device='cuda:0', grad_fn=<MseLossBackward>)\n",
      "206 tensor(0.0015, device='cuda:0', grad_fn=<MseLossBackward>)\n",
      "207 tensor(0.0013, device='cuda:0', grad_fn=<MseLossBackward>)\n",
      "208 tensor(0.0010, device='cuda:0', grad_fn=<MseLossBackward>)\n",
      "209 tensor(0.0008, device='cuda:0', grad_fn=<MseLossBackward>)\n",
      "210 tensor(0.0011, device='cuda:0', grad_fn=<MseLossBackward>)\n",
      "211 tensor(0.0008, device='cuda:0', grad_fn=<MseLossBackward>)\n",
      "212 tensor(0.0009, device='cuda:0', grad_fn=<MseLossBackward>)\n",
      "213 tensor(0.0017, device='cuda:0', grad_fn=<MseLossBackward>)\n",
      "214 tensor(0.0010, device='cuda:0', grad_fn=<MseLossBackward>)\n",
      "215 tensor(0.0008, device='cuda:0', grad_fn=<MseLossBackward>)\n",
      "216 tensor(0.0009, device='cuda:0', grad_fn=<MseLossBackward>)\n",
      "217 tensor(0.0008, device='cuda:0', grad_fn=<MseLossBackward>)\n",
      "218 tensor(0.0007, device='cuda:0', grad_fn=<MseLossBackward>)\n",
      "219 tensor(0.0005, device='cuda:0', grad_fn=<MseLossBackward>)\n",
      "220 tensor(0.0009, device='cuda:0', grad_fn=<MseLossBackward>)\n",
      "221 tensor(0.0010, device='cuda:0', grad_fn=<MseLossBackward>)\n",
      "222 tensor(0.0007, device='cuda:0', grad_fn=<MseLossBackward>)\n",
      "223 tensor(0.0008, device='cuda:0', grad_fn=<MseLossBackward>)\n",
      "224 tensor(0.0005, device='cuda:0', grad_fn=<MseLossBackward>)\n",
      "225 tensor(0.0010, device='cuda:0', grad_fn=<MseLossBackward>)\n",
      "226 tensor(0.0009, device='cuda:0', grad_fn=<MseLossBackward>)\n",
      "227 tensor(0.0006, device='cuda:0', grad_fn=<MseLossBackward>)\n",
      "228 tensor(0.0012, device='cuda:0', grad_fn=<MseLossBackward>)\n",
      "229 tensor(0.0008, device='cuda:0', grad_fn=<MseLossBackward>)\n",
      "230 tensor(0.0013, device='cuda:0', grad_fn=<MseLossBackward>)\n",
      "231 tensor(0.0008, device='cuda:0', grad_fn=<MseLossBackward>)\n",
      "232 tensor(0.0009, device='cuda:0', grad_fn=<MseLossBackward>)\n",
      "233 tensor(0.0009, device='cuda:0', grad_fn=<MseLossBackward>)\n",
      "234 tensor(0.0026, device='cuda:0', grad_fn=<MseLossBackward>)\n",
      "235 tensor(0.0008, device='cuda:0', grad_fn=<MseLossBackward>)\n",
      "236 tensor(0.0008, device='cuda:0', grad_fn=<MseLossBackward>)\n",
      "237 tensor(0.0008, device='cuda:0', grad_fn=<MseLossBackward>)\n",
      "238 tensor(0.0011, device='cuda:0', grad_fn=<MseLossBackward>)\n",
      "239 tensor(0.0023, device='cuda:0', grad_fn=<MseLossBackward>)\n",
      "240 tensor(0.0031, device='cuda:0', grad_fn=<MseLossBackward>)\n",
      "241 tensor(0.0008, device='cuda:0', grad_fn=<MseLossBackward>)\n",
      "242 tensor(0.0009, device='cuda:0', grad_fn=<MseLossBackward>)\n",
      "243 tensor(0.0010, device='cuda:0', grad_fn=<MseLossBackward>)\n",
      "244 tensor(0.0024, device='cuda:0', grad_fn=<MseLossBackward>)\n",
      "245 tensor(0.0010, device='cuda:0', grad_fn=<MseLossBackward>)\n",
      "246 tensor(0.0010, device='cuda:0', grad_fn=<MseLossBackward>)\n",
      "247 tensor(0.0014, device='cuda:0', grad_fn=<MseLossBackward>)\n",
      "248 tensor(0.0012, device='cuda:0', grad_fn=<MseLossBackward>)\n",
      "249 tensor(0.0008, device='cuda:0', grad_fn=<MseLossBackward>)\n",
      "250 tensor(0.0013, device='cuda:0', grad_fn=<MseLossBackward>)\n",
      "251 tensor(0.0007, device='cuda:0', grad_fn=<MseLossBackward>)\n",
      "252 tensor(0.0007, device='cuda:0', grad_fn=<MseLossBackward>)\n",
      "253 tensor(0.0008, device='cuda:0', grad_fn=<MseLossBackward>)\n",
      "254 tensor(0.0008, device='cuda:0', grad_fn=<MseLossBackward>)\n",
      "255 tensor(0.0006, device='cuda:0', grad_fn=<MseLossBackward>)\n",
      "256 tensor(0.0012, device='cuda:0', grad_fn=<MseLossBackward>)\n",
      "257 tensor(0.0008, device='cuda:0', grad_fn=<MseLossBackward>)\n",
      "258 tensor(0.0008, device='cuda:0', grad_fn=<MseLossBackward>)\n",
      "259 tensor(0.0007, device='cuda:0', grad_fn=<MseLossBackward>)\n",
      "260 tensor(0.0010, device='cuda:0', grad_fn=<MseLossBackward>)\n",
      "261 tensor(0.0006, device='cuda:0', grad_fn=<MseLossBackward>)\n",
      "262 tensor(0.0010, device='cuda:0', grad_fn=<MseLossBackward>)\n"
     ]
    },
    {
     "name": "stdout",
     "output_type": "stream",
     "text": [
      "263 tensor(0.0005, device='cuda:0', grad_fn=<MseLossBackward>)\n",
      "264 tensor(0.0011, device='cuda:0', grad_fn=<MseLossBackward>)\n",
      "265 tensor(0.0007, device='cuda:0', grad_fn=<MseLossBackward>)\n",
      "266 tensor(0.0008, device='cuda:0', grad_fn=<MseLossBackward>)\n",
      "267 tensor(0.0013, device='cuda:0', grad_fn=<MseLossBackward>)\n",
      "268 tensor(0.0023, device='cuda:0', grad_fn=<MseLossBackward>)\n",
      "269 tensor(0.0025, device='cuda:0', grad_fn=<MseLossBackward>)\n",
      "270 tensor(0.0008, device='cuda:0', grad_fn=<MseLossBackward>)\n",
      "271 tensor(0.0007, device='cuda:0', grad_fn=<MseLossBackward>)\n",
      "272 tensor(0.0007, device='cuda:0', grad_fn=<MseLossBackward>)\n",
      "273 tensor(0.0006, device='cuda:0', grad_fn=<MseLossBackward>)\n",
      "274 tensor(0.0010, device='cuda:0', grad_fn=<MseLossBackward>)\n",
      "275 tensor(0.0006, device='cuda:0', grad_fn=<MseLossBackward>)\n",
      "276 tensor(0.0009, device='cuda:0', grad_fn=<MseLossBackward>)\n",
      "277 tensor(0.0006, device='cuda:0', grad_fn=<MseLossBackward>)\n",
      "278 tensor(0.0018, device='cuda:0', grad_fn=<MseLossBackward>)\n",
      "279 tensor(0.0009, device='cuda:0', grad_fn=<MseLossBackward>)\n",
      "280 tensor(0.0008, device='cuda:0', grad_fn=<MseLossBackward>)\n",
      "281 tensor(0.0009, device='cuda:0', grad_fn=<MseLossBackward>)\n",
      "282 tensor(0.0016, device='cuda:0', grad_fn=<MseLossBackward>)\n",
      "283 tensor(0.0010, device='cuda:0', grad_fn=<MseLossBackward>)\n",
      "284 tensor(0.0013, device='cuda:0', grad_fn=<MseLossBackward>)\n",
      "285 tensor(0.0012, device='cuda:0', grad_fn=<MseLossBackward>)\n",
      "286 tensor(0.0007, device='cuda:0', grad_fn=<MseLossBackward>)\n",
      "287 tensor(0.0006, device='cuda:0', grad_fn=<MseLossBackward>)\n",
      "288 tensor(0.0011, device='cuda:0', grad_fn=<MseLossBackward>)\n",
      "289 tensor(0.0011, device='cuda:0', grad_fn=<MseLossBackward>)\n",
      "290 tensor(0.0009, device='cuda:0', grad_fn=<MseLossBackward>)\n",
      "291 tensor(0.0010, device='cuda:0', grad_fn=<MseLossBackward>)\n",
      "292 tensor(0.0026, device='cuda:0', grad_fn=<MseLossBackward>)\n",
      "293 tensor(0.0011, device='cuda:0', grad_fn=<MseLossBackward>)\n",
      "294 tensor(0.0015, device='cuda:0', grad_fn=<MseLossBackward>)\n",
      "295 tensor(0.0008, device='cuda:0', grad_fn=<MseLossBackward>)\n",
      "296 tensor(0.0007, device='cuda:0', grad_fn=<MseLossBackward>)\n",
      "297 tensor(0.0008, device='cuda:0', grad_fn=<MseLossBackward>)\n",
      "298 tensor(0.0007, device='cuda:0', grad_fn=<MseLossBackward>)\n",
      "299 tensor(0.0008, device='cuda:0', grad_fn=<MseLossBackward>)\n",
      "300 tensor(0.0010, device='cuda:0', grad_fn=<MseLossBackward>)\n",
      "301 tensor(0.0009, device='cuda:0', grad_fn=<MseLossBackward>)\n",
      "302 tensor(0.0009, device='cuda:0', grad_fn=<MseLossBackward>)\n",
      "303 tensor(0.0006, device='cuda:0', grad_fn=<MseLossBackward>)\n",
      "304 tensor(0.0009, device='cuda:0', grad_fn=<MseLossBackward>)\n",
      "305 tensor(0.0006, device='cuda:0', grad_fn=<MseLossBackward>)\n",
      "306 tensor(0.0016, device='cuda:0', grad_fn=<MseLossBackward>)\n",
      "307 tensor(0.0009, device='cuda:0', grad_fn=<MseLossBackward>)\n",
      "308 tensor(0.0006, device='cuda:0', grad_fn=<MseLossBackward>)\n",
      "309 tensor(0.0009, device='cuda:0', grad_fn=<MseLossBackward>)\n",
      "310 tensor(0.0007, device='cuda:0', grad_fn=<MseLossBackward>)\n",
      "311 tensor(0.0009, device='cuda:0', grad_fn=<MseLossBackward>)\n",
      "312 tensor(0.0007, device='cuda:0', grad_fn=<MseLossBackward>)\n",
      "313 tensor(0.0023, device='cuda:0', grad_fn=<MseLossBackward>)\n",
      "314 tensor(0.0008, device='cuda:0', grad_fn=<MseLossBackward>)\n",
      "315 tensor(0.0010, device='cuda:0', grad_fn=<MseLossBackward>)\n",
      "316 tensor(0.0009, device='cuda:0', grad_fn=<MseLossBackward>)\n",
      "317 tensor(0.0014, device='cuda:0', grad_fn=<MseLossBackward>)\n",
      "318 tensor(0.0025, device='cuda:0', grad_fn=<MseLossBackward>)\n",
      "319 tensor(0.0008, device='cuda:0', grad_fn=<MseLossBackward>)\n",
      "320 tensor(0.0010, device='cuda:0', grad_fn=<MseLossBackward>)\n",
      "321 tensor(0.0004, device='cuda:0', grad_fn=<MseLossBackward>)\n",
      "322 tensor(0.0007, device='cuda:0', grad_fn=<MseLossBackward>)\n",
      "323 tensor(0.0005, device='cuda:0', grad_fn=<MseLossBackward>)\n",
      "324 tensor(0.0012, device='cuda:0', grad_fn=<MseLossBackward>)\n",
      "325 tensor(0.0022, device='cuda:0', grad_fn=<MseLossBackward>)\n",
      "326 tensor(0.0005, device='cuda:0', grad_fn=<MseLossBackward>)\n",
      "327 tensor(0.0008, device='cuda:0', grad_fn=<MseLossBackward>)\n",
      "328 tensor(0.0009, device='cuda:0', grad_fn=<MseLossBackward>)\n",
      "329 tensor(0.0007, device='cuda:0', grad_fn=<MseLossBackward>)\n",
      "330 tensor(0.0006, device='cuda:0', grad_fn=<MseLossBackward>)\n",
      "331 tensor(0.0008, device='cuda:0', grad_fn=<MseLossBackward>)\n",
      "332 tensor(0.0011, device='cuda:0', grad_fn=<MseLossBackward>)\n",
      "333 tensor(0.0008, device='cuda:0', grad_fn=<MseLossBackward>)\n",
      "334 tensor(0.0006, device='cuda:0', grad_fn=<MseLossBackward>)\n",
      "335 tensor(0.0008, device='cuda:0', grad_fn=<MseLossBackward>)\n",
      "336 tensor(0.0008, device='cuda:0', grad_fn=<MseLossBackward>)\n",
      "337 tensor(0.0005, device='cuda:0', grad_fn=<MseLossBackward>)\n",
      "338 tensor(0.0007, device='cuda:0', grad_fn=<MseLossBackward>)\n",
      "339 tensor(0.0024, device='cuda:0', grad_fn=<MseLossBackward>)\n",
      "340 tensor(0.0010, device='cuda:0', grad_fn=<MseLossBackward>)\n",
      "341 tensor(0.0009, device='cuda:0', grad_fn=<MseLossBackward>)\n",
      "342 tensor(0.0014, device='cuda:0', grad_fn=<MseLossBackward>)\n",
      "343 tensor(0.0007, device='cuda:0', grad_fn=<MseLossBackward>)\n",
      "344 tensor(0.0011, device='cuda:0', grad_fn=<MseLossBackward>)\n",
      "345 tensor(0.0009, device='cuda:0', grad_fn=<MseLossBackward>)\n",
      "346 tensor(0.0010, device='cuda:0', grad_fn=<MseLossBackward>)\n",
      "347 tensor(0.0009, device='cuda:0', grad_fn=<MseLossBackward>)\n",
      "348 tensor(0.0007, device='cuda:0', grad_fn=<MseLossBackward>)\n",
      "349 tensor(0.0010, device='cuda:0', grad_fn=<MseLossBackward>)\n",
      "350 tensor(0.0007, device='cuda:0', grad_fn=<MseLossBackward>)\n",
      "351 tensor(0.0007, device='cuda:0', grad_fn=<MseLossBackward>)\n",
      "352 tensor(0.0007, device='cuda:0', grad_fn=<MseLossBackward>)\n",
      "353 tensor(0.0008, device='cuda:0', grad_fn=<MseLossBackward>)\n",
      "354 tensor(0.0007, device='cuda:0', grad_fn=<MseLossBackward>)\n",
      "355 tensor(0.0006, device='cuda:0', grad_fn=<MseLossBackward>)\n",
      "356 tensor(0.0009, device='cuda:0', grad_fn=<MseLossBackward>)\n",
      "357 tensor(0.0008, device='cuda:0', grad_fn=<MseLossBackward>)\n",
      "358 tensor(0.0007, device='cuda:0', grad_fn=<MseLossBackward>)\n",
      "359 tensor(0.0025, device='cuda:0', grad_fn=<MseLossBackward>)\n",
      "360 tensor(0.0008, device='cuda:0', grad_fn=<MseLossBackward>)\n",
      "361 tensor(0.0007, device='cuda:0', grad_fn=<MseLossBackward>)\n",
      "362 tensor(0.0025, device='cuda:0', grad_fn=<MseLossBackward>)\n",
      "363 tensor(0.0006, device='cuda:0', grad_fn=<MseLossBackward>)\n",
      "364 tensor(0.0004, device='cuda:0', grad_fn=<MseLossBackward>)\n",
      "365 tensor(0.0021, device='cuda:0', grad_fn=<MseLossBackward>)\n",
      "366 tensor(0.0012, device='cuda:0', grad_fn=<MseLossBackward>)\n",
      "367 tensor(0.0008, device='cuda:0', grad_fn=<MseLossBackward>)\n",
      "368 tensor(0.0005, device='cuda:0', grad_fn=<MseLossBackward>)\n",
      "369 tensor(0.0011, device='cuda:0', grad_fn=<MseLossBackward>)\n",
      "370 tensor(0.0007, device='cuda:0', grad_fn=<MseLossBackward>)\n",
      "371 tensor(0.0006, device='cuda:0', grad_fn=<MseLossBackward>)\n",
      "372 tensor(0.0010, device='cuda:0', grad_fn=<MseLossBackward>)\n",
      "373 tensor(0.0007, device='cuda:0', grad_fn=<MseLossBackward>)\n",
      "374 tensor(0.0006, device='cuda:0', grad_fn=<MseLossBackward>)\n",
      "375 tensor(0.0009, device='cuda:0', grad_fn=<MseLossBackward>)\n",
      "376 tensor(0.0006, device='cuda:0', grad_fn=<MseLossBackward>)\n",
      "377 tensor(0.0007, device='cuda:0', grad_fn=<MseLossBackward>)\n",
      "378 tensor(0.0025, device='cuda:0', grad_fn=<MseLossBackward>)\n",
      "379 tensor(0.0009, device='cuda:0', grad_fn=<MseLossBackward>)\n",
      "380 tensor(0.0016, device='cuda:0', grad_fn=<MseLossBackward>)\n",
      "381 tensor(0.0006, device='cuda:0', grad_fn=<MseLossBackward>)\n",
      "382 tensor(0.0013, device='cuda:0', grad_fn=<MseLossBackward>)\n",
      "383 tensor(0.0006, device='cuda:0', grad_fn=<MseLossBackward>)\n",
      "384 tensor(0.0007, device='cuda:0', grad_fn=<MseLossBackward>)\n",
      "385 tensor(0.0012, device='cuda:0', grad_fn=<MseLossBackward>)\n",
      "386 tensor(0.0008, device='cuda:0', grad_fn=<MseLossBackward>)\n",
      "387 tensor(0.0008, device='cuda:0', grad_fn=<MseLossBackward>)\n",
      "388 tensor(0.0012, device='cuda:0', grad_fn=<MseLossBackward>)\n",
      "389 tensor(0.0012, device='cuda:0', grad_fn=<MseLossBackward>)\n",
      "390 tensor(0.0013, device='cuda:0', grad_fn=<MseLossBackward>)\n",
      "391 tensor(0.0021, device='cuda:0', grad_fn=<MseLossBackward>)\n",
      "392 tensor(0.0006, device='cuda:0', grad_fn=<MseLossBackward>)\n",
      "393 tensor(0.0022, device='cuda:0', grad_fn=<MseLossBackward>)\n"
     ]
    },
    {
     "name": "stdout",
     "output_type": "stream",
     "text": [
      "394 tensor(0.0008, device='cuda:0', grad_fn=<MseLossBackward>)\n",
      "395 tensor(0.0010, device='cuda:0', grad_fn=<MseLossBackward>)\n",
      "396 tensor(0.0009, device='cuda:0', grad_fn=<MseLossBackward>)\n",
      "397 tensor(0.0022, device='cuda:0', grad_fn=<MseLossBackward>)\n",
      "398 tensor(0.0022, device='cuda:0', grad_fn=<MseLossBackward>)\n",
      "399 tensor(0.0006, device='cuda:0', grad_fn=<MseLossBackward>)\n",
      "400 tensor(0.0006, device='cuda:0', grad_fn=<MseLossBackward>)\n",
      "401 tensor(0.0007, device='cuda:0', grad_fn=<MseLossBackward>)\n",
      "402 tensor(0.0005, device='cuda:0', grad_fn=<MseLossBackward>)\n",
      "403 tensor(0.0012, device='cuda:0', grad_fn=<MseLossBackward>)\n",
      "404 tensor(0.0007, device='cuda:0', grad_fn=<MseLossBackward>)\n",
      "405 tensor(0.0010, device='cuda:0', grad_fn=<MseLossBackward>)\n",
      "406 tensor(0.0007, device='cuda:0', grad_fn=<MseLossBackward>)\n",
      "407 tensor(0.0010, device='cuda:0', grad_fn=<MseLossBackward>)\n",
      "408 tensor(0.0005, device='cuda:0', grad_fn=<MseLossBackward>)\n",
      "409 tensor(0.0006, device='cuda:0', grad_fn=<MseLossBackward>)\n",
      "410 tensor(0.0021, device='cuda:0', grad_fn=<MseLossBackward>)\n",
      "411 tensor(0.0012, device='cuda:0', grad_fn=<MseLossBackward>)\n",
      "412 tensor(0.0023, device='cuda:0', grad_fn=<MseLossBackward>)\n",
      "413 tensor(0.0008, device='cuda:0', grad_fn=<MseLossBackward>)\n",
      "414 tensor(0.0008, device='cuda:0', grad_fn=<MseLossBackward>)\n",
      "415 tensor(0.0008, device='cuda:0', grad_fn=<MseLossBackward>)\n",
      "416 tensor(0.0008, device='cuda:0', grad_fn=<MseLossBackward>)\n",
      "417 tensor(0.0009, device='cuda:0', grad_fn=<MseLossBackward>)\n",
      "418 tensor(0.0021, device='cuda:0', grad_fn=<MseLossBackward>)\n",
      "419 tensor(0.0008, device='cuda:0', grad_fn=<MseLossBackward>)\n",
      "420 tensor(0.0008, device='cuda:0', grad_fn=<MseLossBackward>)\n",
      "421 tensor(0.0027, device='cuda:0', grad_fn=<MseLossBackward>)\n",
      "422 tensor(0.0015, device='cuda:0', grad_fn=<MseLossBackward>)\n",
      "423 tensor(0.0007, device='cuda:0', grad_fn=<MseLossBackward>)\n",
      "424 tensor(0.0013, device='cuda:0', grad_fn=<MseLossBackward>)\n",
      "425 tensor(0.0007, device='cuda:0', grad_fn=<MseLossBackward>)\n",
      "426 tensor(0.0006, device='cuda:0', grad_fn=<MseLossBackward>)\n",
      "427 tensor(0.0006, device='cuda:0', grad_fn=<MseLossBackward>)\n",
      "428 tensor(0.0010, device='cuda:0', grad_fn=<MseLossBackward>)\n",
      "429 tensor(0.0008, device='cuda:0', grad_fn=<MseLossBackward>)\n",
      "430 tensor(0.0006, device='cuda:0', grad_fn=<MseLossBackward>)\n",
      "431 tensor(0.0006, device='cuda:0', grad_fn=<MseLossBackward>)\n",
      "432 tensor(0.0006, device='cuda:0', grad_fn=<MseLossBackward>)\n",
      "433 tensor(0.0007, device='cuda:0', grad_fn=<MseLossBackward>)\n",
      "434 tensor(0.0007, device='cuda:0', grad_fn=<MseLossBackward>)\n",
      "435 tensor(0.0007, device='cuda:0', grad_fn=<MseLossBackward>)\n",
      "436 tensor(0.0006, device='cuda:0', grad_fn=<MseLossBackward>)\n",
      "437 tensor(0.0008, device='cuda:0', grad_fn=<MseLossBackward>)\n",
      "438 tensor(0.0006, device='cuda:0', grad_fn=<MseLossBackward>)\n",
      "439 tensor(0.0006, device='cuda:0', grad_fn=<MseLossBackward>)\n",
      "440 tensor(0.0005, device='cuda:0', grad_fn=<MseLossBackward>)\n",
      "441 tensor(0.0007, device='cuda:0', grad_fn=<MseLossBackward>)\n",
      "442 tensor(0.0006, device='cuda:0', grad_fn=<MseLossBackward>)\n",
      "443 tensor(0.0007, device='cuda:0', grad_fn=<MseLossBackward>)\n",
      "444 tensor(0.0007, device='cuda:0', grad_fn=<MseLossBackward>)\n",
      "445 tensor(0.0007, device='cuda:0', grad_fn=<MseLossBackward>)\n",
      "446 tensor(0.0007, device='cuda:0', grad_fn=<MseLossBackward>)\n",
      "447 tensor(0.0012, device='cuda:0', grad_fn=<MseLossBackward>)\n",
      "448 tensor(0.0005, device='cuda:0', grad_fn=<MseLossBackward>)\n",
      "449 tensor(0.0006, device='cuda:0', grad_fn=<MseLossBackward>)\n",
      "450 tensor(0.0006, device='cuda:0', grad_fn=<MseLossBackward>)\n",
      "451 tensor(0.0008, device='cuda:0', grad_fn=<MseLossBackward>)\n",
      "452 tensor(0.0008, device='cuda:0', grad_fn=<MseLossBackward>)\n",
      "453 tensor(0.0007, device='cuda:0', grad_fn=<MseLossBackward>)\n",
      "454 tensor(0.0009, device='cuda:0', grad_fn=<MseLossBackward>)\n",
      "455 tensor(0.0006, device='cuda:0', grad_fn=<MseLossBackward>)\n",
      "456 tensor(0.0006, device='cuda:0', grad_fn=<MseLossBackward>)\n",
      "457 tensor(0.0006, device='cuda:0', grad_fn=<MseLossBackward>)\n",
      "458 tensor(0.0006, device='cuda:0', grad_fn=<MseLossBackward>)\n",
      "459 tensor(0.0009, device='cuda:0', grad_fn=<MseLossBackward>)\n",
      "460 tensor(0.0006, device='cuda:0', grad_fn=<MseLossBackward>)\n",
      "461 tensor(0.0007, device='cuda:0', grad_fn=<MseLossBackward>)\n",
      "462 tensor(0.0005, device='cuda:0', grad_fn=<MseLossBackward>)\n",
      "463 tensor(0.0010, device='cuda:0', grad_fn=<MseLossBackward>)\n",
      "464 tensor(0.0006, device='cuda:0', grad_fn=<MseLossBackward>)\n",
      "465 tensor(0.0006, device='cuda:0', grad_fn=<MseLossBackward>)\n",
      "466 tensor(0.0009, device='cuda:0', grad_fn=<MseLossBackward>)\n",
      "467 tensor(0.0006, device='cuda:0', grad_fn=<MseLossBackward>)\n",
      "468 tensor(0.0007, device='cuda:0', grad_fn=<MseLossBackward>)\n",
      "469 tensor(0.0025, device='cuda:0', grad_fn=<MseLossBackward>)\n",
      "470 tensor(0.0004, device='cuda:0', grad_fn=<MseLossBackward>)\n",
      "471 tensor(0.0007, device='cuda:0', grad_fn=<MseLossBackward>)\n",
      "472 tensor(0.0005, device='cuda:0', grad_fn=<MseLossBackward>)\n",
      "473 tensor(0.0008, device='cuda:0', grad_fn=<MseLossBackward>)\n",
      "474 tensor(0.0008, device='cuda:0', grad_fn=<MseLossBackward>)\n",
      "475 tensor(0.0005, device='cuda:0', grad_fn=<MseLossBackward>)\n",
      "476 tensor(0.0006, device='cuda:0', grad_fn=<MseLossBackward>)\n",
      "477 tensor(0.0007, device='cuda:0', grad_fn=<MseLossBackward>)\n",
      "478 tensor(0.0005, device='cuda:0', grad_fn=<MseLossBackward>)\n",
      "479 tensor(0.0008, device='cuda:0', grad_fn=<MseLossBackward>)\n",
      "480 tensor(0.0008, device='cuda:0', grad_fn=<MseLossBackward>)\n",
      "481 tensor(0.0007, device='cuda:0', grad_fn=<MseLossBackward>)\n",
      "482 tensor(0.0021, device='cuda:0', grad_fn=<MseLossBackward>)\n",
      "483 tensor(0.0021, device='cuda:0', grad_fn=<MseLossBackward>)\n",
      "484 tensor(0.0008, device='cuda:0', grad_fn=<MseLossBackward>)\n",
      "485 tensor(0.0005, device='cuda:0', grad_fn=<MseLossBackward>)\n",
      "486 tensor(0.0008, device='cuda:0', grad_fn=<MseLossBackward>)\n",
      "487 tensor(0.0008, device='cuda:0', grad_fn=<MseLossBackward>)\n",
      "488 tensor(0.0020, device='cuda:0', grad_fn=<MseLossBackward>)\n",
      "489 tensor(0.0008, device='cuda:0', grad_fn=<MseLossBackward>)\n",
      "490 tensor(0.0007, device='cuda:0', grad_fn=<MseLossBackward>)\n",
      "491 tensor(0.0004, device='cuda:0', grad_fn=<MseLossBackward>)\n",
      "492 tensor(0.0008, device='cuda:0', grad_fn=<MseLossBackward>)\n",
      "493 tensor(0.0007, device='cuda:0', grad_fn=<MseLossBackward>)\n",
      "494 tensor(0.0008, device='cuda:0', grad_fn=<MseLossBackward>)\n",
      "495 tensor(0.0006, device='cuda:0', grad_fn=<MseLossBackward>)\n",
      "496 tensor(0.0007, device='cuda:0', grad_fn=<MseLossBackward>)\n",
      "497 tensor(0.0005, device='cuda:0', grad_fn=<MseLossBackward>)\n",
      "498 tensor(0.0006, device='cuda:0', grad_fn=<MseLossBackward>)\n",
      "499 tensor(0.0007, device='cuda:0', grad_fn=<MseLossBackward>)\n",
      "500 tensor(0.0006, device='cuda:0', grad_fn=<MseLossBackward>)\n",
      "501 tensor(0.0009, device='cuda:0', grad_fn=<MseLossBackward>)\n",
      "502 tensor(0.0007, device='cuda:0', grad_fn=<MseLossBackward>)\n",
      "503 tensor(0.0006, device='cuda:0', grad_fn=<MseLossBackward>)\n",
      "504 tensor(0.0007, device='cuda:0', grad_fn=<MseLossBackward>)\n",
      "505 tensor(0.0027, device='cuda:0', grad_fn=<MseLossBackward>)\n",
      "506 tensor(0.0006, device='cuda:0', grad_fn=<MseLossBackward>)\n",
      "507 tensor(0.0005, device='cuda:0', grad_fn=<MseLossBackward>)\n",
      "508 tensor(0.0009, device='cuda:0', grad_fn=<MseLossBackward>)\n",
      "509 tensor(0.0023, device='cuda:0', grad_fn=<MseLossBackward>)\n",
      "510 tensor(0.0010, device='cuda:0', grad_fn=<MseLossBackward>)\n",
      "511 tensor(0.0007, device='cuda:0', grad_fn=<MseLossBackward>)\n",
      "512 tensor(0.0007, device='cuda:0', grad_fn=<MseLossBackward>)\n",
      "513 tensor(0.0006, device='cuda:0', grad_fn=<MseLossBackward>)\n",
      "514 tensor(0.0006, device='cuda:0', grad_fn=<MseLossBackward>)\n",
      "515 tensor(0.0006, device='cuda:0', grad_fn=<MseLossBackward>)\n",
      "516 tensor(0.0020, device='cuda:0', grad_fn=<MseLossBackward>)\n",
      "517 tensor(0.0008, device='cuda:0', grad_fn=<MseLossBackward>)\n",
      "518 tensor(0.0006, device='cuda:0', grad_fn=<MseLossBackward>)\n",
      "519 tensor(0.0010, device='cuda:0', grad_fn=<MseLossBackward>)\n",
      "520 tensor(0.0008, device='cuda:0', grad_fn=<MseLossBackward>)\n",
      "521 tensor(0.0006, device='cuda:0', grad_fn=<MseLossBackward>)\n",
      "522 tensor(0.0026, device='cuda:0', grad_fn=<MseLossBackward>)\n",
      "523 tensor(0.0004, device='cuda:0', grad_fn=<MseLossBackward>)\n",
      "524 tensor(0.0007, device='cuda:0', grad_fn=<MseLossBackward>)\n"
     ]
    },
    {
     "name": "stdout",
     "output_type": "stream",
     "text": [
      "525 tensor(0.0008, device='cuda:0', grad_fn=<MseLossBackward>)\n",
      "526 tensor(0.0027, device='cuda:0', grad_fn=<MseLossBackward>)\n",
      "527 tensor(0.0008, device='cuda:0', grad_fn=<MseLossBackward>)\n",
      "528 tensor(0.0026, device='cuda:0', grad_fn=<MseLossBackward>)\n",
      "529 tensor(0.0008, device='cuda:0', grad_fn=<MseLossBackward>)\n",
      "530 tensor(0.0008, device='cuda:0', grad_fn=<MseLossBackward>)\n",
      "531 tensor(0.0029, device='cuda:0', grad_fn=<MseLossBackward>)\n",
      "532 tensor(0.0007, device='cuda:0', grad_fn=<MseLossBackward>)\n",
      "533 tensor(0.0008, device='cuda:0', grad_fn=<MseLossBackward>)\n",
      "534 tensor(0.0010, device='cuda:0', grad_fn=<MseLossBackward>)\n",
      "535 tensor(0.0009, device='cuda:0', grad_fn=<MseLossBackward>)\n",
      "536 tensor(0.0016, device='cuda:0', grad_fn=<MseLossBackward>)\n",
      "537 tensor(0.0010, device='cuda:0', grad_fn=<MseLossBackward>)\n",
      "538 tensor(0.0007, device='cuda:0', grad_fn=<MseLossBackward>)\n",
      "539 tensor(0.0006, device='cuda:0', grad_fn=<MseLossBackward>)\n",
      "540 tensor(0.0007, device='cuda:0', grad_fn=<MseLossBackward>)\n",
      "541 tensor(0.0005, device='cuda:0', grad_fn=<MseLossBackward>)\n",
      "542 tensor(0.0008, device='cuda:0', grad_fn=<MseLossBackward>)\n",
      "543 tensor(0.0005, device='cuda:0', grad_fn=<MseLossBackward>)\n",
      "544 tensor(0.0007, device='cuda:0', grad_fn=<MseLossBackward>)\n",
      "545 tensor(0.0008, device='cuda:0', grad_fn=<MseLossBackward>)\n",
      "546 tensor(0.0007, device='cuda:0', grad_fn=<MseLossBackward>)\n",
      "547 tensor(0.0007, device='cuda:0', grad_fn=<MseLossBackward>)\n",
      "548 tensor(0.0007, device='cuda:0', grad_fn=<MseLossBackward>)\n",
      "549 tensor(0.0008, device='cuda:0', grad_fn=<MseLossBackward>)\n",
      "550 tensor(0.0007, device='cuda:0', grad_fn=<MseLossBackward>)\n",
      "551 tensor(0.0007, device='cuda:0', grad_fn=<MseLossBackward>)\n",
      "552 tensor(0.0006, device='cuda:0', grad_fn=<MseLossBackward>)\n",
      "553 tensor(0.0016, device='cuda:0', grad_fn=<MseLossBackward>)\n",
      "554 tensor(0.0006, device='cuda:0', grad_fn=<MseLossBackward>)\n",
      "555 tensor(0.0012, device='cuda:0', grad_fn=<MseLossBackward>)\n",
      "556 tensor(0.0008, device='cuda:0', grad_fn=<MseLossBackward>)\n",
      "557 tensor(0.0007, device='cuda:0', grad_fn=<MseLossBackward>)\n",
      "558 tensor(0.0006, device='cuda:0', grad_fn=<MseLossBackward>)\n",
      "559 tensor(0.0007, device='cuda:0', grad_fn=<MseLossBackward>)\n",
      "560 tensor(0.0008, device='cuda:0', grad_fn=<MseLossBackward>)\n",
      "561 tensor(0.0007, device='cuda:0', grad_fn=<MseLossBackward>)\n",
      "562 tensor(0.0023, device='cuda:0', grad_fn=<MseLossBackward>)\n",
      "563 tensor(0.0006, device='cuda:0', grad_fn=<MseLossBackward>)\n",
      "564 tensor(0.0005, device='cuda:0', grad_fn=<MseLossBackward>)\n",
      "565 tensor(0.0007, device='cuda:0', grad_fn=<MseLossBackward>)\n",
      "566 tensor(0.0030, device='cuda:0', grad_fn=<MseLossBackward>)\n",
      "567 tensor(0.0006, device='cuda:0', grad_fn=<MseLossBackward>)\n",
      "568 tensor(0.0008, device='cuda:0', grad_fn=<MseLossBackward>)\n",
      "569 tensor(0.0006, device='cuda:0', grad_fn=<MseLossBackward>)\n",
      "570 tensor(0.0006, device='cuda:0', grad_fn=<MseLossBackward>)\n",
      "571 tensor(0.0006, device='cuda:0', grad_fn=<MseLossBackward>)\n",
      "572 tensor(0.0007, device='cuda:0', grad_fn=<MseLossBackward>)\n",
      "573 tensor(0.0005, device='cuda:0', grad_fn=<MseLossBackward>)\n",
      "574 tensor(0.0009, device='cuda:0', grad_fn=<MseLossBackward>)\n",
      "575 tensor(0.0006, device='cuda:0', grad_fn=<MseLossBackward>)\n",
      "576 tensor(0.0006, device='cuda:0', grad_fn=<MseLossBackward>)\n",
      "577 tensor(0.0006, device='cuda:0', grad_fn=<MseLossBackward>)\n",
      "578 tensor(0.0007, device='cuda:0', grad_fn=<MseLossBackward>)\n",
      "579 tensor(0.0008, device='cuda:0', grad_fn=<MseLossBackward>)\n",
      "580 tensor(0.0023, device='cuda:0', grad_fn=<MseLossBackward>)\n",
      "581 tensor(0.0006, device='cuda:0', grad_fn=<MseLossBackward>)\n",
      "582 tensor(0.0009, device='cuda:0', grad_fn=<MseLossBackward>)\n",
      "583 tensor(0.0008, device='cuda:0', grad_fn=<MseLossBackward>)\n",
      "584 tensor(0.0027, device='cuda:0', grad_fn=<MseLossBackward>)\n",
      "585 tensor(0.0007, device='cuda:0', grad_fn=<MseLossBackward>)\n",
      "586 tensor(0.0008, device='cuda:0', grad_fn=<MseLossBackward>)\n",
      "587 tensor(0.0028, device='cuda:0', grad_fn=<MseLossBackward>)\n",
      "588 tensor(0.0007, device='cuda:0', grad_fn=<MseLossBackward>)\n",
      "589 tensor(0.0006, device='cuda:0', grad_fn=<MseLossBackward>)\n",
      "590 tensor(0.0008, device='cuda:0', grad_fn=<MseLossBackward>)\n",
      "591 tensor(0.0006, device='cuda:0', grad_fn=<MseLossBackward>)\n",
      "592 tensor(0.0006, device='cuda:0', grad_fn=<MseLossBackward>)\n",
      "593 tensor(0.0007, device='cuda:0', grad_fn=<MseLossBackward>)\n",
      "594 tensor(0.0007, device='cuda:0', grad_fn=<MseLossBackward>)\n",
      "595 tensor(0.0004, device='cuda:0', grad_fn=<MseLossBackward>)\n",
      "596 tensor(0.0006, device='cuda:0', grad_fn=<MseLossBackward>)\n",
      "597 tensor(0.0006, device='cuda:0', grad_fn=<MseLossBackward>)\n",
      "598 tensor(0.0007, device='cuda:0', grad_fn=<MseLossBackward>)\n",
      "599 tensor(0.0010, device='cuda:0', grad_fn=<MseLossBackward>)\n",
      "600 tensor(0.0021, device='cuda:0', grad_fn=<MseLossBackward>)\n",
      "601 tensor(0.0008, device='cuda:0', grad_fn=<MseLossBackward>)\n",
      "602 tensor(0.0008, device='cuda:0', grad_fn=<MseLossBackward>)\n",
      "603 tensor(0.0006, device='cuda:0', grad_fn=<MseLossBackward>)\n",
      "604 tensor(0.0021, device='cuda:0', grad_fn=<MseLossBackward>)\n",
      "605 tensor(0.0005, device='cuda:0', grad_fn=<MseLossBackward>)\n",
      "606 tensor(0.0006, device='cuda:0', grad_fn=<MseLossBackward>)\n",
      "607 tensor(0.0006, device='cuda:0', grad_fn=<MseLossBackward>)\n",
      "608 tensor(0.0005, device='cuda:0', grad_fn=<MseLossBackward>)\n",
      "609 tensor(0.0007, device='cuda:0', grad_fn=<MseLossBackward>)\n",
      "610 tensor(0.0006, device='cuda:0', grad_fn=<MseLossBackward>)\n",
      "611 tensor(0.0010, device='cuda:0', grad_fn=<MseLossBackward>)\n",
      "612 tensor(0.0007, device='cuda:0', grad_fn=<MseLossBackward>)\n",
      "613 tensor(0.0007, device='cuda:0', grad_fn=<MseLossBackward>)\n",
      "614 tensor(0.0009, device='cuda:0', grad_fn=<MseLossBackward>)\n",
      "615 tensor(0.0007, device='cuda:0', grad_fn=<MseLossBackward>)\n",
      "616 tensor(0.0007, device='cuda:0', grad_fn=<MseLossBackward>)\n",
      "617 tensor(0.0007, device='cuda:0', grad_fn=<MseLossBackward>)\n",
      "618 tensor(0.0005, device='cuda:0', grad_fn=<MseLossBackward>)\n",
      "619 tensor(0.0005, device='cuda:0', grad_fn=<MseLossBackward>)\n",
      "620 tensor(0.0004, device='cuda:0', grad_fn=<MseLossBackward>)\n",
      "621 tensor(0.0006, device='cuda:0', grad_fn=<MseLossBackward>)\n",
      "622 tensor(0.0038, device='cuda:0', grad_fn=<MseLossBackward>)\n",
      "623 tensor(0.0006, device='cuda:0', grad_fn=<MseLossBackward>)\n",
      "624 tensor(0.0015, device='cuda:0', grad_fn=<MseLossBackward>)\n",
      "625 tensor(0.0011, device='cuda:0', grad_fn=<MseLossBackward>)\n",
      "626 tensor(0.0005, device='cuda:0', grad_fn=<MseLossBackward>)\n",
      "627 tensor(0.0018, device='cuda:0', grad_fn=<MseLossBackward>)\n",
      "628 tensor(0.0029, device='cuda:0', grad_fn=<MseLossBackward>)\n",
      "629 tensor(0.0005, device='cuda:0', grad_fn=<MseLossBackward>)\n",
      "630 tensor(0.0029, device='cuda:0', grad_fn=<MseLossBackward>)\n",
      "631 tensor(0.0007, device='cuda:0', grad_fn=<MseLossBackward>)\n",
      "632 tensor(0.0018, device='cuda:0', grad_fn=<MseLossBackward>)\n",
      "633 tensor(0.0008, device='cuda:0', grad_fn=<MseLossBackward>)\n",
      "634 tensor(0.0006, device='cuda:0', grad_fn=<MseLossBackward>)\n",
      "635 tensor(0.0006, device='cuda:0', grad_fn=<MseLossBackward>)\n",
      "636 tensor(0.0007, device='cuda:0', grad_fn=<MseLossBackward>)\n",
      "637 tensor(0.0007, device='cuda:0', grad_fn=<MseLossBackward>)\n",
      "638 tensor(0.0008, device='cuda:0', grad_fn=<MseLossBackward>)\n",
      "639 tensor(0.0004, device='cuda:0', grad_fn=<MseLossBackward>)\n",
      "640 tensor(0.0004, device='cuda:0', grad_fn=<MseLossBackward>)\n",
      "641 tensor(0.0010, device='cuda:0', grad_fn=<MseLossBackward>)\n",
      "642 tensor(0.0005, device='cuda:0', grad_fn=<MseLossBackward>)\n",
      "643 tensor(0.0006, device='cuda:0', grad_fn=<MseLossBackward>)\n",
      "644 tensor(0.0008, device='cuda:0', grad_fn=<MseLossBackward>)\n",
      "645 tensor(0.0005, device='cuda:0', grad_fn=<MseLossBackward>)\n",
      "646 tensor(0.0007, device='cuda:0', grad_fn=<MseLossBackward>)\n",
      "647 tensor(0.0008, device='cuda:0', grad_fn=<MseLossBackward>)\n",
      "648 tensor(0.0005, device='cuda:0', grad_fn=<MseLossBackward>)\n",
      "649 tensor(0.0005, device='cuda:0', grad_fn=<MseLossBackward>)\n",
      "650 tensor(0.0008, device='cuda:0', grad_fn=<MseLossBackward>)\n",
      "651 tensor(0.0007, device='cuda:0', grad_fn=<MseLossBackward>)\n",
      "652 tensor(0.0004, device='cuda:0', grad_fn=<MseLossBackward>)\n",
      "653 tensor(0.0009, device='cuda:0', grad_fn=<MseLossBackward>)\n",
      "654 tensor(0.0005, device='cuda:0', grad_fn=<MseLossBackward>)\n",
      "655 tensor(0.0005, device='cuda:0', grad_fn=<MseLossBackward>)\n"
     ]
    },
    {
     "name": "stdout",
     "output_type": "stream",
     "text": [
      "656 tensor(0.0009, device='cuda:0', grad_fn=<MseLossBackward>)\n",
      "657 tensor(0.0006, device='cuda:0', grad_fn=<MseLossBackward>)\n",
      "658 tensor(0.0004, device='cuda:0', grad_fn=<MseLossBackward>)\n",
      "659 tensor(0.0007, device='cuda:0', grad_fn=<MseLossBackward>)\n",
      "660 tensor(0.0006, device='cuda:0', grad_fn=<MseLossBackward>)\n",
      "661 tensor(0.0006, device='cuda:0', grad_fn=<MseLossBackward>)\n",
      "662 tensor(0.0004, device='cuda:0', grad_fn=<MseLossBackward>)\n",
      "663 tensor(0.0007, device='cuda:0', grad_fn=<MseLossBackward>)\n",
      "664 tensor(0.0007, device='cuda:0', grad_fn=<MseLossBackward>)\n",
      "665 tensor(0.0007, device='cuda:0', grad_fn=<MseLossBackward>)\n",
      "666 tensor(0.0004, device='cuda:0', grad_fn=<MseLossBackward>)\n",
      "667 tensor(0.0007, device='cuda:0', grad_fn=<MseLossBackward>)\n",
      "668 tensor(0.0022, device='cuda:0', grad_fn=<MseLossBackward>)\n",
      "669 tensor(0.0004, device='cuda:0', grad_fn=<MseLossBackward>)\n",
      "670 tensor(0.0006, device='cuda:0', grad_fn=<MseLossBackward>)\n",
      "671 tensor(0.0008, device='cuda:0', grad_fn=<MseLossBackward>)\n",
      "672 tensor(0.0006, device='cuda:0', grad_fn=<MseLossBackward>)\n",
      "673 tensor(0.0008, device='cuda:0', grad_fn=<MseLossBackward>)\n",
      "674 tensor(0.0007, device='cuda:0', grad_fn=<MseLossBackward>)\n",
      "675 tensor(0.0009, device='cuda:0', grad_fn=<MseLossBackward>)\n",
      "676 tensor(0.0006, device='cuda:0', grad_fn=<MseLossBackward>)\n",
      "677 tensor(0.0008, device='cuda:0', grad_fn=<MseLossBackward>)\n",
      "678 tensor(0.0007, device='cuda:0', grad_fn=<MseLossBackward>)\n",
      "679 tensor(0.0006, device='cuda:0', grad_fn=<MseLossBackward>)\n",
      "680 tensor(0.0005, device='cuda:0', grad_fn=<MseLossBackward>)\n",
      "681 tensor(0.0004, device='cuda:0', grad_fn=<MseLossBackward>)\n",
      "682 tensor(0.0026, device='cuda:0', grad_fn=<MseLossBackward>)\n",
      "683 tensor(0.0005, device='cuda:0', grad_fn=<MseLossBackward>)\n",
      "684 tensor(0.0005, device='cuda:0', grad_fn=<MseLossBackward>)\n",
      "685 tensor(0.0007, device='cuda:0', grad_fn=<MseLossBackward>)\n",
      "686 tensor(0.0006, device='cuda:0', grad_fn=<MseLossBackward>)\n",
      "687 tensor(0.0005, device='cuda:0', grad_fn=<MseLossBackward>)\n",
      "688 tensor(0.0006, device='cuda:0', grad_fn=<MseLossBackward>)\n",
      "689 tensor(0.0022, device='cuda:0', grad_fn=<MseLossBackward>)\n",
      "690 tensor(0.0005, device='cuda:0', grad_fn=<MseLossBackward>)\n",
      "691 tensor(0.0006, device='cuda:0', grad_fn=<MseLossBackward>)\n",
      "692 tensor(0.0004, device='cuda:0', grad_fn=<MseLossBackward>)\n",
      "693 tensor(0.0008, device='cuda:0', grad_fn=<MseLossBackward>)\n",
      "694 tensor(0.0006, device='cuda:0', grad_fn=<MseLossBackward>)\n",
      "695 tensor(0.0006, device='cuda:0', grad_fn=<MseLossBackward>)\n",
      "696 tensor(0.0006, device='cuda:0', grad_fn=<MseLossBackward>)\n",
      "697 tensor(0.0008, device='cuda:0', grad_fn=<MseLossBackward>)\n",
      "698 tensor(0.0008, device='cuda:0', grad_fn=<MseLossBackward>)\n",
      "699 tensor(0.0006, device='cuda:0', grad_fn=<MseLossBackward>)\n",
      "700 tensor(0.0005, device='cuda:0', grad_fn=<MseLossBackward>)\n",
      "701 tensor(0.0005, device='cuda:0', grad_fn=<MseLossBackward>)\n",
      "702 tensor(0.0021, device='cuda:0', grad_fn=<MseLossBackward>)\n",
      "703 tensor(0.0006, device='cuda:0', grad_fn=<MseLossBackward>)\n",
      "704 tensor(0.0005, device='cuda:0', grad_fn=<MseLossBackward>)\n",
      "705 tensor(0.0007, device='cuda:0', grad_fn=<MseLossBackward>)\n",
      "706 tensor(0.0005, device='cuda:0', grad_fn=<MseLossBackward>)\n",
      "707 tensor(0.0007, device='cuda:0', grad_fn=<MseLossBackward>)\n",
      "708 tensor(0.0009, device='cuda:0', grad_fn=<MseLossBackward>)\n",
      "709 tensor(0.0004, device='cuda:0', grad_fn=<MseLossBackward>)\n",
      "710 tensor(0.0005, device='cuda:0', grad_fn=<MseLossBackward>)\n",
      "711 tensor(0.0008, device='cuda:0', grad_fn=<MseLossBackward>)\n",
      "712 tensor(0.0004, device='cuda:0', grad_fn=<MseLossBackward>)\n",
      "713 tensor(0.0006, device='cuda:0', grad_fn=<MseLossBackward>)\n",
      "714 tensor(0.0007, device='cuda:0', grad_fn=<MseLossBackward>)\n",
      "715 tensor(0.0006, device='cuda:0', grad_fn=<MseLossBackward>)\n",
      "716 tensor(0.0006, device='cuda:0', grad_fn=<MseLossBackward>)\n",
      "717 tensor(0.0022, device='cuda:0', grad_fn=<MseLossBackward>)\n",
      "718 tensor(0.0008, device='cuda:0', grad_fn=<MseLossBackward>)\n",
      "719 tensor(0.0008, device='cuda:0', grad_fn=<MseLossBackward>)\n",
      "720 tensor(0.0030, device='cuda:0', grad_fn=<MseLossBackward>)\n",
      "721 tensor(0.0008, device='cuda:0', grad_fn=<MseLossBackward>)\n",
      "722 tensor(0.0028, device='cuda:0', grad_fn=<MseLossBackward>)\n",
      "723 tensor(0.0006, device='cuda:0', grad_fn=<MseLossBackward>)\n",
      "724 tensor(0.0008, device='cuda:0', grad_fn=<MseLossBackward>)\n",
      "725 tensor(0.0006, device='cuda:0', grad_fn=<MseLossBackward>)\n",
      "726 tensor(0.0005, device='cuda:0', grad_fn=<MseLossBackward>)\n",
      "727 tensor(0.0008, device='cuda:0', grad_fn=<MseLossBackward>)\n",
      "728 tensor(0.0008, device='cuda:0', grad_fn=<MseLossBackward>)\n",
      "729 tensor(0.0006, device='cuda:0', grad_fn=<MseLossBackward>)\n",
      "730 tensor(0.0005, device='cuda:0', grad_fn=<MseLossBackward>)\n",
      "731 tensor(0.0024, device='cuda:0', grad_fn=<MseLossBackward>)\n",
      "732 tensor(0.0006, device='cuda:0', grad_fn=<MseLossBackward>)\n",
      "733 tensor(0.0006, device='cuda:0', grad_fn=<MseLossBackward>)\n",
      "734 tensor(0.0030, device='cuda:0', grad_fn=<MseLossBackward>)\n",
      "735 tensor(0.0009, device='cuda:0', grad_fn=<MseLossBackward>)\n",
      "736 tensor(0.0007, device='cuda:0', grad_fn=<MseLossBackward>)\n",
      "737 tensor(0.0007, device='cuda:0', grad_fn=<MseLossBackward>)\n",
      "738 tensor(0.0006, device='cuda:0', grad_fn=<MseLossBackward>)\n",
      "739 tensor(0.0005, device='cuda:0', grad_fn=<MseLossBackward>)\n",
      "740 tensor(0.0007, device='cuda:0', grad_fn=<MseLossBackward>)\n",
      "741 tensor(0.0004, device='cuda:0', grad_fn=<MseLossBackward>)\n",
      "742 tensor(0.0005, device='cuda:0', grad_fn=<MseLossBackward>)\n",
      "743 tensor(0.0007, device='cuda:0', grad_fn=<MseLossBackward>)\n",
      "744 tensor(0.0009, device='cuda:0', grad_fn=<MseLossBackward>)\n",
      "745 tensor(0.0007, device='cuda:0', grad_fn=<MseLossBackward>)\n",
      "746 tensor(0.0006, device='cuda:0', grad_fn=<MseLossBackward>)\n",
      "747 tensor(0.0007, device='cuda:0', grad_fn=<MseLossBackward>)\n",
      "748 tensor(0.0007, device='cuda:0', grad_fn=<MseLossBackward>)\n",
      "749 tensor(0.0007, device='cuda:0', grad_fn=<MseLossBackward>)\n",
      "750 tensor(0.0007, device='cuda:0', grad_fn=<MseLossBackward>)\n",
      "751 tensor(0.0008, device='cuda:0', grad_fn=<MseLossBackward>)\n",
      "752 tensor(0.0006, device='cuda:0', grad_fn=<MseLossBackward>)\n",
      "753 tensor(0.0004, device='cuda:0', grad_fn=<MseLossBackward>)\n",
      "754 tensor(0.0007, device='cuda:0', grad_fn=<MseLossBackward>)\n",
      "755 tensor(0.0007, device='cuda:0', grad_fn=<MseLossBackward>)\n",
      "756 tensor(0.0016, device='cuda:0', grad_fn=<MseLossBackward>)\n",
      "757 tensor(0.0008, device='cuda:0', grad_fn=<MseLossBackward>)\n",
      "758 tensor(0.0007, device='cuda:0', grad_fn=<MseLossBackward>)\n",
      "759 tensor(0.0007, device='cuda:0', grad_fn=<MseLossBackward>)\n",
      "760 tensor(0.0006, device='cuda:0', grad_fn=<MseLossBackward>)\n",
      "761 tensor(0.0010, device='cuda:0', grad_fn=<MseLossBackward>)\n",
      "762 tensor(0.0006, device='cuda:0', grad_fn=<MseLossBackward>)\n",
      "763 tensor(0.0007, device='cuda:0', grad_fn=<MseLossBackward>)\n",
      "764 tensor(0.0004, device='cuda:0', grad_fn=<MseLossBackward>)\n",
      "765 tensor(0.0007, device='cuda:0', grad_fn=<MseLossBackward>)\n",
      "766 tensor(0.0005, device='cuda:0', grad_fn=<MseLossBackward>)\n",
      "767 tensor(0.0008, device='cuda:0', grad_fn=<MseLossBackward>)\n",
      "768 tensor(0.0005, device='cuda:0', grad_fn=<MseLossBackward>)\n",
      "769 tensor(0.0006, device='cuda:0', grad_fn=<MseLossBackward>)\n",
      "770 tensor(0.0014, device='cuda:0', grad_fn=<MseLossBackward>)\n",
      "771 tensor(0.0006, device='cuda:0', grad_fn=<MseLossBackward>)\n",
      "772 tensor(0.0005, device='cuda:0', grad_fn=<MseLossBackward>)\n",
      "773 tensor(0.0006, device='cuda:0', grad_fn=<MseLossBackward>)\n",
      "774 tensor(0.0006, device='cuda:0', grad_fn=<MseLossBackward>)\n",
      "775 tensor(0.0006, device='cuda:0', grad_fn=<MseLossBackward>)\n",
      "776 tensor(0.0005, device='cuda:0', grad_fn=<MseLossBackward>)\n",
      "777 tensor(0.0008, device='cuda:0', grad_fn=<MseLossBackward>)\n",
      "778 tensor(0.0004, device='cuda:0', grad_fn=<MseLossBackward>)\n",
      "779 tensor(0.0004, device='cuda:0', grad_fn=<MseLossBackward>)\n",
      "780 tensor(0.0005, device='cuda:0', grad_fn=<MseLossBackward>)\n",
      "781 tensor(0.0006, device='cuda:0', grad_fn=<MseLossBackward>)\n",
      "782 tensor(0.0006, device='cuda:0', grad_fn=<MseLossBackward>)\n",
      "783 tensor(0.0007, device='cuda:0', grad_fn=<MseLossBackward>)\n",
      "784 tensor(0.0006, device='cuda:0', grad_fn=<MseLossBackward>)\n",
      "785 tensor(0.0007, device='cuda:0', grad_fn=<MseLossBackward>)\n",
      "786 tensor(0.0009, device='cuda:0', grad_fn=<MseLossBackward>)\n"
     ]
    },
    {
     "name": "stdout",
     "output_type": "stream",
     "text": [
      "787 tensor(0.0005, device='cuda:0', grad_fn=<MseLossBackward>)\n",
      "788 tensor(0.0006, device='cuda:0', grad_fn=<MseLossBackward>)\n",
      "789 tensor(0.0005, device='cuda:0', grad_fn=<MseLossBackward>)\n",
      "790 tensor(0.0015, device='cuda:0', grad_fn=<MseLossBackward>)\n",
      "791 tensor(0.0007, device='cuda:0', grad_fn=<MseLossBackward>)\n",
      "792 tensor(0.0006, device='cuda:0', grad_fn=<MseLossBackward>)\n",
      "793 tensor(0.0008, device='cuda:0', grad_fn=<MseLossBackward>)\n",
      "794 tensor(0.0004, device='cuda:0', grad_fn=<MseLossBackward>)\n",
      "795 tensor(0.0004, device='cuda:0', grad_fn=<MseLossBackward>)\n",
      "796 tensor(0.0004, device='cuda:0', grad_fn=<MseLossBackward>)\n",
      "797 tensor(0.0006, device='cuda:0', grad_fn=<MseLossBackward>)\n",
      "798 tensor(0.0006, device='cuda:0', grad_fn=<MseLossBackward>)\n",
      "799 tensor(0.0007, device='cuda:0', grad_fn=<MseLossBackward>)\n",
      "800 tensor(0.0007, device='cuda:0', grad_fn=<MseLossBackward>)\n",
      "801 tensor(0.0006, device='cuda:0', grad_fn=<MseLossBackward>)\n",
      "802 tensor(0.0008, device='cuda:0', grad_fn=<MseLossBackward>)\n",
      "803 tensor(0.0006, device='cuda:0', grad_fn=<MseLossBackward>)\n",
      "804 tensor(0.0016, device='cuda:0', grad_fn=<MseLossBackward>)\n",
      "805 tensor(0.0016, device='cuda:0', grad_fn=<MseLossBackward>)\n",
      "806 tensor(0.0008, device='cuda:0', grad_fn=<MseLossBackward>)\n",
      "807 tensor(0.0007, device='cuda:0', grad_fn=<MseLossBackward>)\n",
      "808 tensor(0.0007, device='cuda:0', grad_fn=<MseLossBackward>)\n",
      "809 tensor(0.0005, device='cuda:0', grad_fn=<MseLossBackward>)\n",
      "810 tensor(0.0007, device='cuda:0', grad_fn=<MseLossBackward>)\n",
      "811 tensor(0.0006, device='cuda:0', grad_fn=<MseLossBackward>)\n",
      "812 tensor(0.0006, device='cuda:0', grad_fn=<MseLossBackward>)\n",
      "813 tensor(0.0005, device='cuda:0', grad_fn=<MseLossBackward>)\n",
      "814 tensor(0.0006, device='cuda:0', grad_fn=<MseLossBackward>)\n",
      "815 tensor(0.0006, device='cuda:0', grad_fn=<MseLossBackward>)\n",
      "816 tensor(0.0006, device='cuda:0', grad_fn=<MseLossBackward>)\n",
      "817 tensor(0.0007, device='cuda:0', grad_fn=<MseLossBackward>)\n",
      "818 tensor(0.0006, device='cuda:0', grad_fn=<MseLossBackward>)\n",
      "819 tensor(0.0006, device='cuda:0', grad_fn=<MseLossBackward>)\n",
      "820 tensor(0.0006, device='cuda:0', grad_fn=<MseLossBackward>)\n",
      "821 tensor(0.0004, device='cuda:0', grad_fn=<MseLossBackward>)\n",
      "822 tensor(0.0005, device='cuda:0', grad_fn=<MseLossBackward>)\n",
      "823 tensor(0.0006, device='cuda:0', grad_fn=<MseLossBackward>)\n",
      "824 tensor(0.0004, device='cuda:0', grad_fn=<MseLossBackward>)\n",
      "825 tensor(0.0007, device='cuda:0', grad_fn=<MseLossBackward>)\n",
      "826 tensor(0.0007, device='cuda:0', grad_fn=<MseLossBackward>)\n",
      "827 tensor(0.0004, device='cuda:0', grad_fn=<MseLossBackward>)\n",
      "828 tensor(0.0007, device='cuda:0', grad_fn=<MseLossBackward>)\n",
      "829 tensor(0.0007, device='cuda:0', grad_fn=<MseLossBackward>)\n",
      "830 tensor(0.0004, device='cuda:0', grad_fn=<MseLossBackward>)\n",
      "831 tensor(0.0007, device='cuda:0', grad_fn=<MseLossBackward>)\n",
      "832 tensor(0.0005, device='cuda:0', grad_fn=<MseLossBackward>)\n",
      "833 tensor(0.0008, device='cuda:0', grad_fn=<MseLossBackward>)\n",
      "834 tensor(0.0005, device='cuda:0', grad_fn=<MseLossBackward>)\n",
      "835 tensor(0.0004, device='cuda:0', grad_fn=<MseLossBackward>)\n",
      "836 tensor(0.0008, device='cuda:0', grad_fn=<MseLossBackward>)\n",
      "837 tensor(0.0006, device='cuda:0', grad_fn=<MseLossBackward>)\n",
      "838 tensor(0.0007, device='cuda:0', grad_fn=<MseLossBackward>)\n",
      "839 tensor(0.0013, device='cuda:0', grad_fn=<MseLossBackward>)\n",
      "840 tensor(0.0005, device='cuda:0', grad_fn=<MseLossBackward>)\n",
      "841 tensor(0.0005, device='cuda:0', grad_fn=<MseLossBackward>)\n",
      "842 tensor(0.0006, device='cuda:0', grad_fn=<MseLossBackward>)\n",
      "843 tensor(0.0005, device='cuda:0', grad_fn=<MseLossBackward>)\n",
      "844 tensor(0.0004, device='cuda:0', grad_fn=<MseLossBackward>)\n",
      "845 tensor(0.0005, device='cuda:0', grad_fn=<MseLossBackward>)\n",
      "846 tensor(0.0005, device='cuda:0', grad_fn=<MseLossBackward>)\n",
      "847 tensor(0.0014, device='cuda:0', grad_fn=<MseLossBackward>)\n",
      "848 tensor(0.0007, device='cuda:0', grad_fn=<MseLossBackward>)\n",
      "849 tensor(0.0005, device='cuda:0', grad_fn=<MseLossBackward>)\n",
      "850 tensor(0.0006, device='cuda:0', grad_fn=<MseLossBackward>)\n",
      "851 tensor(0.0027, device='cuda:0', grad_fn=<MseLossBackward>)\n",
      "852 tensor(0.0007, device='cuda:0', grad_fn=<MseLossBackward>)\n",
      "853 tensor(0.0008, device='cuda:0', grad_fn=<MseLossBackward>)\n",
      "854 tensor(0.0007, device='cuda:0', grad_fn=<MseLossBackward>)\n",
      "855 tensor(0.0007, device='cuda:0', grad_fn=<MseLossBackward>)\n",
      "856 tensor(0.0006, device='cuda:0', grad_fn=<MseLossBackward>)\n",
      "857 tensor(0.0006, device='cuda:0', grad_fn=<MseLossBackward>)\n",
      "858 tensor(0.0004, device='cuda:0', grad_fn=<MseLossBackward>)\n",
      "859 tensor(0.0003, device='cuda:0', grad_fn=<MseLossBackward>)\n",
      "860 tensor(0.0006, device='cuda:0', grad_fn=<MseLossBackward>)\n",
      "861 tensor(0.0007, device='cuda:0', grad_fn=<MseLossBackward>)\n",
      "862 tensor(0.0025, device='cuda:0', grad_fn=<MseLossBackward>)\n",
      "863 tensor(0.0004, device='cuda:0', grad_fn=<MseLossBackward>)\n",
      "864 tensor(0.0005, device='cuda:0', grad_fn=<MseLossBackward>)\n",
      "865 tensor(0.0003, device='cuda:0', grad_fn=<MseLossBackward>)\n",
      "866 tensor(0.0028, device='cuda:0', grad_fn=<MseLossBackward>)\n",
      "867 tensor(0.0006, device='cuda:0', grad_fn=<MseLossBackward>)\n",
      "868 tensor(0.0007, device='cuda:0', grad_fn=<MseLossBackward>)\n",
      "869 tensor(0.0006, device='cuda:0', grad_fn=<MseLossBackward>)\n",
      "870 tensor(0.0008, device='cuda:0', grad_fn=<MseLossBackward>)\n",
      "871 tensor(0.0005, device='cuda:0', grad_fn=<MseLossBackward>)\n",
      "872 tensor(0.0004, device='cuda:0', grad_fn=<MseLossBackward>)\n",
      "873 tensor(0.0007, device='cuda:0', grad_fn=<MseLossBackward>)\n",
      "874 tensor(0.0015, device='cuda:0', grad_fn=<MseLossBackward>)\n",
      "875 tensor(0.0007, device='cuda:0', grad_fn=<MseLossBackward>)\n",
      "876 tensor(0.0007, device='cuda:0', grad_fn=<MseLossBackward>)\n",
      "877 tensor(0.0005, device='cuda:0', grad_fn=<MseLossBackward>)\n",
      "878 tensor(0.0004, device='cuda:0', grad_fn=<MseLossBackward>)\n",
      "879 tensor(0.0006, device='cuda:0', grad_fn=<MseLossBackward>)\n",
      "880 tensor(0.0006, device='cuda:0', grad_fn=<MseLossBackward>)\n",
      "881 tensor(0.0006, device='cuda:0', grad_fn=<MseLossBackward>)\n",
      "882 tensor(0.0007, device='cuda:0', grad_fn=<MseLossBackward>)\n",
      "883 tensor(0.0008, device='cuda:0', grad_fn=<MseLossBackward>)\n",
      "884 tensor(0.0005, device='cuda:0', grad_fn=<MseLossBackward>)\n",
      "885 tensor(0.0006, device='cuda:0', grad_fn=<MseLossBackward>)\n",
      "886 tensor(0.0006, device='cuda:0', grad_fn=<MseLossBackward>)\n",
      "887 tensor(0.0005, device='cuda:0', grad_fn=<MseLossBackward>)\n",
      "888 tensor(0.0008, device='cuda:0', grad_fn=<MseLossBackward>)\n",
      "889 tensor(0.0007, device='cuda:0', grad_fn=<MseLossBackward>)\n",
      "890 tensor(0.0008, device='cuda:0', grad_fn=<MseLossBackward>)\n",
      "891 tensor(0.0005, device='cuda:0', grad_fn=<MseLossBackward>)\n",
      "892 tensor(0.0004, device='cuda:0', grad_fn=<MseLossBackward>)\n",
      "893 tensor(0.0006, device='cuda:0', grad_fn=<MseLossBackward>)\n",
      "894 tensor(0.0006, device='cuda:0', grad_fn=<MseLossBackward>)\n",
      "895 tensor(0.0026, device='cuda:0', grad_fn=<MseLossBackward>)\n",
      "896 tensor(0.0006, device='cuda:0', grad_fn=<MseLossBackward>)\n",
      "897 tensor(0.0007, device='cuda:0', grad_fn=<MseLossBackward>)\n",
      "898 tensor(0.0005, device='cuda:0', grad_fn=<MseLossBackward>)\n",
      "899 tensor(0.0005, device='cuda:0', grad_fn=<MseLossBackward>)\n",
      "900 tensor(0.0007, device='cuda:0', grad_fn=<MseLossBackward>)\n",
      "901 tensor(0.0014, device='cuda:0', grad_fn=<MseLossBackward>)\n",
      "902 tensor(0.0005, device='cuda:0', grad_fn=<MseLossBackward>)\n",
      "903 tensor(0.0007, device='cuda:0', grad_fn=<MseLossBackward>)\n",
      "904 tensor(0.0006, device='cuda:0', grad_fn=<MseLossBackward>)\n",
      "905 tensor(0.0005, device='cuda:0', grad_fn=<MseLossBackward>)\n",
      "906 tensor(0.0005, device='cuda:0', grad_fn=<MseLossBackward>)\n",
      "907 tensor(0.0004, device='cuda:0', grad_fn=<MseLossBackward>)\n",
      "908 tensor(0.0027, device='cuda:0', grad_fn=<MseLossBackward>)\n",
      "909 tensor(0.0005, device='cuda:0', grad_fn=<MseLossBackward>)\n",
      "910 tensor(0.0008, device='cuda:0', grad_fn=<MseLossBackward>)\n",
      "911 tensor(0.0003, device='cuda:0', grad_fn=<MseLossBackward>)\n",
      "912 tensor(0.0006, device='cuda:0', grad_fn=<MseLossBackward>)\n",
      "913 tensor(0.0006, device='cuda:0', grad_fn=<MseLossBackward>)\n",
      "914 tensor(0.0005, device='cuda:0', grad_fn=<MseLossBackward>)\n",
      "915 tensor(0.0006, device='cuda:0', grad_fn=<MseLossBackward>)\n",
      "916 tensor(0.0005, device='cuda:0', grad_fn=<MseLossBackward>)\n",
      "917 tensor(0.0005, device='cuda:0', grad_fn=<MseLossBackward>)\n"
     ]
    },
    {
     "name": "stdout",
     "output_type": "stream",
     "text": [
      "918 tensor(0.0009, device='cuda:0', grad_fn=<MseLossBackward>)\n",
      "919 tensor(0.0006, device='cuda:0', grad_fn=<MseLossBackward>)\n",
      "920 tensor(0.0007, device='cuda:0', grad_fn=<MseLossBackward>)\n",
      "921 tensor(0.0007, device='cuda:0', grad_fn=<MseLossBackward>)\n",
      "922 tensor(0.0006, device='cuda:0', grad_fn=<MseLossBackward>)\n",
      "923 tensor(0.0006, device='cuda:0', grad_fn=<MseLossBackward>)\n",
      "924 tensor(0.0013, device='cuda:0', grad_fn=<MseLossBackward>)\n",
      "925 tensor(0.0008, device='cuda:0', grad_fn=<MseLossBackward>)\n",
      "926 tensor(0.0006, device='cuda:0', grad_fn=<MseLossBackward>)\n",
      "927 tensor(0.0007, device='cuda:0', grad_fn=<MseLossBackward>)\n",
      "928 tensor(0.0006, device='cuda:0', grad_fn=<MseLossBackward>)\n",
      "929 tensor(0.0004, device='cuda:0', grad_fn=<MseLossBackward>)\n",
      "930 tensor(0.0005, device='cuda:0', grad_fn=<MseLossBackward>)\n",
      "931 tensor(0.0005, device='cuda:0', grad_fn=<MseLossBackward>)\n",
      "932 tensor(0.0008, device='cuda:0', grad_fn=<MseLossBackward>)\n",
      "933 tensor(0.0006, device='cuda:0', grad_fn=<MseLossBackward>)\n",
      "934 tensor(0.0006, device='cuda:0', grad_fn=<MseLossBackward>)\n",
      "935 tensor(0.0014, device='cuda:0', grad_fn=<MseLossBackward>)\n",
      "936 tensor(0.0006, device='cuda:0', grad_fn=<MseLossBackward>)\n",
      "937 tensor(0.0007, device='cuda:0', grad_fn=<MseLossBackward>)\n",
      "938 tensor(0.0005, device='cuda:0', grad_fn=<MseLossBackward>)\n",
      "939 tensor(0.0008, device='cuda:0', grad_fn=<MseLossBackward>)\n",
      "940 tensor(0.0006, device='cuda:0', grad_fn=<MseLossBackward>)\n",
      "941 tensor(0.0010, device='cuda:0', grad_fn=<MseLossBackward>)\n",
      "942 tensor(0.0013, device='cuda:0', grad_fn=<MseLossBackward>)\n",
      "943 tensor(0.0010, device='cuda:0', grad_fn=<MseLossBackward>)\n",
      "944 tensor(0.0005, device='cuda:0', grad_fn=<MseLossBackward>)\n",
      "945 tensor(0.0024, device='cuda:0', grad_fn=<MseLossBackward>)\n",
      "946 tensor(0.0007, device='cuda:0', grad_fn=<MseLossBackward>)\n",
      "947 tensor(0.0026, device='cuda:0', grad_fn=<MseLossBackward>)\n",
      "948 tensor(0.0006, device='cuda:0', grad_fn=<MseLossBackward>)\n",
      "949 tensor(0.0009, device='cuda:0', grad_fn=<MseLossBackward>)\n",
      "950 tensor(0.0026, device='cuda:0', grad_fn=<MseLossBackward>)\n",
      "951 tensor(0.0007, device='cuda:0', grad_fn=<MseLossBackward>)\n",
      "952 tensor(0.0007, device='cuda:0', grad_fn=<MseLossBackward>)\n",
      "953 tensor(0.0008, device='cuda:0', grad_fn=<MseLossBackward>)\n",
      "954 tensor(0.0006, device='cuda:0', grad_fn=<MseLossBackward>)\n",
      "955 tensor(0.0006, device='cuda:0', grad_fn=<MseLossBackward>)\n",
      "956 tensor(0.0005, device='cuda:0', grad_fn=<MseLossBackward>)\n",
      "957 tensor(0.0005, device='cuda:0', grad_fn=<MseLossBackward>)\n",
      "958 tensor(0.0008, device='cuda:0', grad_fn=<MseLossBackward>)\n",
      "959 tensor(0.0005, device='cuda:0', grad_fn=<MseLossBackward>)\n",
      "960 tensor(0.0005, device='cuda:0', grad_fn=<MseLossBackward>)\n",
      "961 tensor(0.0006, device='cuda:0', grad_fn=<MseLossBackward>)\n",
      "962 tensor(0.0006, device='cuda:0', grad_fn=<MseLossBackward>)\n",
      "963 tensor(0.0007, device='cuda:0', grad_fn=<MseLossBackward>)\n",
      "964 tensor(0.0015, device='cuda:0', grad_fn=<MseLossBackward>)\n",
      "965 tensor(0.0004, device='cuda:0', grad_fn=<MseLossBackward>)\n",
      "966 tensor(0.0024, device='cuda:0', grad_fn=<MseLossBackward>)\n",
      "967 tensor(0.0004, device='cuda:0', grad_fn=<MseLossBackward>)\n",
      "968 tensor(0.0007, device='cuda:0', grad_fn=<MseLossBackward>)\n",
      "969 tensor(0.0004, device='cuda:0', grad_fn=<MseLossBackward>)\n",
      "970 tensor(0.0010, device='cuda:0', grad_fn=<MseLossBackward>)\n",
      "971 tensor(0.0006, device='cuda:0', grad_fn=<MseLossBackward>)\n",
      "972 tensor(0.0005, device='cuda:0', grad_fn=<MseLossBackward>)\n",
      "973 tensor(0.0007, device='cuda:0', grad_fn=<MseLossBackward>)\n",
      "974 tensor(0.0008, device='cuda:0', grad_fn=<MseLossBackward>)\n",
      "975 tensor(0.0006, device='cuda:0', grad_fn=<MseLossBackward>)\n",
      "976 tensor(0.0008, device='cuda:0', grad_fn=<MseLossBackward>)\n",
      "977 tensor(0.0005, device='cuda:0', grad_fn=<MseLossBackward>)\n",
      "978 tensor(0.0011, device='cuda:0', grad_fn=<MseLossBackward>)\n",
      "979 tensor(0.0008, device='cuda:0', grad_fn=<MseLossBackward>)\n",
      "980 tensor(0.0005, device='cuda:0', grad_fn=<MseLossBackward>)\n",
      "981 tensor(0.0007, device='cuda:0', grad_fn=<MseLossBackward>)\n",
      "982 tensor(0.0028, device='cuda:0', grad_fn=<MseLossBackward>)\n",
      "983 tensor(0.0005, device='cuda:0', grad_fn=<MseLossBackward>)\n",
      "984 tensor(0.0004, device='cuda:0', grad_fn=<MseLossBackward>)\n",
      "985 tensor(0.0032, device='cuda:0', grad_fn=<MseLossBackward>)\n",
      "986 tensor(0.0006, device='cuda:0', grad_fn=<MseLossBackward>)\n",
      "987 tensor(0.0009, device='cuda:0', grad_fn=<MseLossBackward>)\n",
      "988 tensor(0.0006, device='cuda:0', grad_fn=<MseLossBackward>)\n",
      "989 tensor(0.0006, device='cuda:0', grad_fn=<MseLossBackward>)\n",
      "990 tensor(0.0007, device='cuda:0', grad_fn=<MseLossBackward>)\n",
      "991 tensor(0.0005, device='cuda:0', grad_fn=<MseLossBackward>)\n",
      "992 tensor(0.0006, device='cuda:0', grad_fn=<MseLossBackward>)\n",
      "993 tensor(0.0005, device='cuda:0', grad_fn=<MseLossBackward>)\n",
      "994 tensor(0.0005, device='cuda:0', grad_fn=<MseLossBackward>)\n",
      "995 tensor(0.0006, device='cuda:0', grad_fn=<MseLossBackward>)\n",
      "996 tensor(0.0005, device='cuda:0', grad_fn=<MseLossBackward>)\n",
      "997 tensor(0.0005, device='cuda:0', grad_fn=<MseLossBackward>)\n",
      "998 tensor(0.0008, device='cuda:0', grad_fn=<MseLossBackward>)\n",
      "999 tensor(0.0006, device='cuda:0', grad_fn=<MseLossBackward>)\n"
     ]
    }
   ],
   "source": [
    "loss_arr = []\n",
    "for i in range(epoch):\n",
    "    for j, [x, y] in enumerate(train_loader):\n",
    "        train_x = x.to(device).float()\n",
    "        train_y = y.to(device).float()\n",
    "        optimizer.zero_grad()\n",
    "        outputs = model.forward(train_x)\n",
    "        \n",
    "        #print(outputs.shape, train_y.shape)\n",
    "        #print(outputs.dtype, train_y.dtype)\n",
    "        \n",
    "        loss = loss_func(outputs, train_y)\n",
    "        #이걸 변수명을 같게하면 안되지!\n",
    "        loss.backward()\n",
    "        optimizer.step()\n",
    "        loss_arr.append(loss)\n",
    "    print(i, loss)"
   ]
  },
  {
   "cell_type": "code",
   "execution_count": 33,
   "metadata": {
    "scrolled": true
   },
   "outputs": [
    {
     "data": {
      "image/png": "[encoded data removed]",
      "text/plain": [
       "<Figure size 432x288 with 1 Axes>"
      ]
     },
     "metadata": {
      "needs_background": "light"
     },
     "output_type": "display_data"
    }
   ],
   "source": [
    "%matplotlib inline\n",
    "plt.plot(loss_arr)\n",
    "plt.show()"
   ]
  },
  {
   "cell_type": "markdown",
   "metadata": {},
   "source": [
    "## 모델 테스트"
   ]
  },
  {
   "cell_type": "code",
   "execution_count": 52,
   "metadata": {},
   "outputs": [],
   "source": [
    "testX_tensor = torch.FloatTensor(testX)\n",
    "testY_tensor = torch.FloatTensor(testY)"
   ]
  },
  {
   "cell_type": "code",
   "execution_count": 56,
   "metadata": {},
   "outputs": [],
   "source": [
    "correct = 0\n",
    "total = 0\n",
    "loss_ar = []\n",
    "\n",
    "model.eval()\n",
    "with torch.no_grad():\n",
    "    for j, [x, y] in enumerate(test_loader):\n",
    "        #test_x = x.to(device).float()\n",
    "        #test_y = y.to(device).float()\n",
    "        test_x = testX_tensor.to(device).float()\n",
    "        test_y = testY_tensor.to(device).float()\n",
    "        predicted = model.forward(test_x)\n",
    "        loss = loss_func(predicted, test_y)\n",
    "        \n",
    "        total += y.size(0)\n",
    "        #print(y.shape, predicted.shape)\n",
    "        #print(y, predicted)\n",
    "        loss_arr.append(loss)\n",
    "        #print(i, loss)\n",
    "    # 테스트 데이터 전체에 대해 위의 작업을 시행한 후 정확도를 구해줍니다.\n",
    "    #print(\"Accuracy of Test Data: {}%\".format(float(correct) * 100 / total))"
   ]
  },
  {
   "cell_type": "code",
   "execution_count": 54,
   "metadata": {},
   "outputs": [],
   "source": [
    "def show_result_graph(): \n",
    "    print(model)\n",
    "    print('batch_size :',batch_size, ' layers: ', layers)\n",
    "    plt.figure(figsize=(30,10))\n",
    "    plt.plot(predicted.cpu())\n",
    "    plt.plot(test_y.cpu())\n",
    "    plt.legend(['predicted', 'test_y'])\n",
    "    plt.grid(True)\n",
    "    #plt.xticks([20*i for i in range(0,46)])\n",
    "    plt.show()\n",
    "    "
   ]
  },
  {
   "cell_type": "code",
   "execution_count": null,
   "metadata": {},
   "outputs": [],
   "source": [
    "show_result_graph()"
   ]
  },
  {
   "cell_type": "markdown",
   "metadata": {},
   "source": [
    "### 실제 주식(원화) 값으로 변환"
   ]
  },
  {
   "cell_type": "code",
   "execution_count": 38,
   "metadata": {
    "scrolled": true
   },
   "outputs": [
    {
     "name": "stdout",
     "output_type": "stream",
     "text": [
      "(1470, 7, 1)\n",
      "(1478, 6)\n"
     ]
    },
    {
     "data": {
      "text/plain": [
       "array([174500, 173000, 170500, ..., 842000, 900000, 915000])"
      ]
     },
     "execution_count": 38,
     "metadata": {},
     "output_type": "execute_result"
    }
   ],
   "source": [
    "print(testX.shape)\n",
    "print(test_set.shape)\n",
    "test[:,2]"
   ]
  },
  {
   "cell_type": "code",
   "execution_count": 63,
   "metadata": {},
   "outputs": [],
   "source": [
    "predicted_y = predicted.cpu().numpy()\n",
    "test_y = testY_tensor.numpy()\n",
    "test_x = test[7:,2]\n",
    "calculated_predicted_y = ((predicted_y * (test_denom[0] + 1e-7)) + test_min[0]).astype('int')\n",
    "calculated_test_y = ((test_y * (test_denom[0] + 1e-7)) + test_min[0]).astype('int')\n",
    "calculated_test_x = test_x.astype('int')"
   ]
  },
  {
   "cell_type": "markdown",
   "metadata": {},
   "source": [
    "## 수익내는지 확인"
   ]
  },
  {
   "cell_type": "code",
   "execution_count": 45,
   "metadata": {},
   "outputs": [],
   "source": [
    "day = 30"
   ]
  },
  {
   "cell_type": "markdown",
   "metadata": {},
   "source": [
    "#### 1. 시가->예측종가기준으로 평가"
   ]
  },
  {
   "cell_type": "code",
   "execution_count": 42,
   "metadata": {
    "scrolled": true
   },
   "outputs": [],
   "source": [
    "def eval_open_to_predict_close(day):    \n",
    "    day_length = len(predicted_y)\n",
    "    money = 0\n",
    "    count_acc = 0\n",
    "    count_i = 0\n",
    "\n",
    "    for i in range(day_length-day, day_length):\n",
    "        count_i = count_i + 1\n",
    "        #당일 날짜 계산\n",
    "        today = datetime.today() - timedelta(days=day_length) + timedelta(days=i)\n",
    "        str_year  = today.strftime('%Y')[:2]\n",
    "        str_today = str_year + today.strftime('-%m-%d')\n",
    "        # 투자하면 벌돈 및 실제 벌돈 계산\n",
    "        expect_money = calculated_predicted_y[i] - calculated_test_x[i]\n",
    "        earn_money = calculated_test_y[i] - calculated_test_x[i]\n",
    "        #print(str_today, '시작가\\t','\\t', '종가\\t', '\\t', '수익예상')\n",
    "        #print('예상가\\t', calculated_test_x[i],'\\t', calculated_predicted_y[i], '\\t',expect_money)\n",
    "        #print('현실가\\t', calculated_test_x[i],'\\t', calculated_test_y[i], '\\t', earn_money)\n",
    "        # 수익예상이면 투자후 금액 출력\n",
    "        if (expect_money > 0):\n",
    "            money = money + earn_money\n",
    "        #print('번돈\\t', money)\n",
    "        #print('-----------------------------------------------------')\n",
    "        # 수익 예측을 정확이 했는지 판단.\n",
    "        if (expect_money >0) & (earn_money >0): count_acc = count_acc + 1\n",
    "        if (expect_money <0) & (earn_money <0): count_acc = count_acc + 1\n",
    "    print('----------------------')\n",
    "    print('시가->예측종가기준')\n",
    "    print('벌어들인돈 : {0:d}원'.format(int(money)))\n",
    "    print('정확도 : {0:.3f}%'.format(count_acc/count_i))"
   ]
  },
  {
   "cell_type": "markdown",
   "metadata": {},
   "source": [
    "##### 2.전날예측종가->예측종가기준으로 평가"
   ]
  },
  {
   "cell_type": "code",
   "execution_count": 43,
   "metadata": {
    "scrolled": true
   },
   "outputs": [],
   "source": [
    "def eval_endPredict_to_predict_close(day):    \n",
    "    day_length = len(predicted_y)\n",
    "    money = 0\n",
    "    count_acc = 0\n",
    "    count_i = 0\n",
    "\n",
    "    for i in range(day_length-day, day_length-1):\n",
    "        count_i = count_i + 1\n",
    "        #당일 날짜 계산\n",
    "        today = datetime.today() - timedelta(days=day_length) + timedelta(days=i+1)\n",
    "        str_year  = today.strftime('%Y')[:2]\n",
    "        str_today = str_year + today.strftime('-%m-%d')\n",
    "        # 투자하면 벌돈 및 실제 벌돈 계산\n",
    "        expect_money = calculated_predicted_y[i+1] - calculated_predicted_y[i]\n",
    "        earn_money = calculated_test_y[i+1] - calculated_test_y[i]\n",
    "        #print(str_today, '시작가\\t','\\t', '종가\\t', '\\t', '수익예상')\n",
    "        #print('예상가\\t', calculated_predicted_y[i],'\\t', calculated_predicted_y[i+1], '\\t',expect_money)\n",
    "        #print('현실가\\t',calculated_test_y[i],'\\t', calculated_test_y[i+1], '\\t', earn_money)\n",
    "        # 수익예상이면 투자후 금액 출력\n",
    "        if (expect_money > 0):\n",
    "            money = money + earn_money\n",
    "        #print('번돈\\t', money)\n",
    "        #print('-----------------------------------------------------')\n",
    "        # 수익 예측을 정확이 했는지 판단.\n",
    "        if (expect_money >0) & (earn_money >0): count_acc = count_acc + 1\n",
    "        if (expect_money <0) & (earn_money <0): count_acc = count_acc + 1\n",
    "    print('----------------------')\n",
    "    print('전날예측종가->예측종가')\n",
    "    print('벌어들인돈 : {0:d}원'.format(int(money)))\n",
    "    print('정확도 : {0:.3f}%'.format(count_acc/count_i))"
   ]
  },
  {
   "cell_type": "code",
   "execution_count": 39,
   "metadata": {},
   "outputs": [],
   "source": [
    "def show_train_status():\n",
    "    print(model)\n",
    "    print(loss_func)\n",
    "    print(optimizer)\n",
    "    print('batch_size : ',batch_size)\n",
    "    print('epoch : ',epoch)"
   ]
  },
  {
   "cell_type": "code",
   "execution_count": 98,
   "metadata": {
    "scrolled": true
   },
   "outputs": [
    {
     "name": "stdout",
     "output_type": "stream",
     "text": [
      "시가->예측종가기준\n",
      "벌어들인돈 : 308000원\n",
      "정확도 : 0.567%\n",
      "----------------------\n",
      "전날예측종가->예측종가\n",
      "벌어들인돈 : 194000원\n",
      "정확도 : 0.552%\n"
     ]
    }
   ],
   "source": [
    "eval_open_to_predict_close(day)\n",
    "eval_endPredict_to_predict_close(day)"
   ]
  },
  {
   "cell_type": "markdown",
   "metadata": {},
   "source": [
    "# 모델 간략화 RNN만"
   ]
  },
  {
   "cell_type": "code",
   "execution_count": 117,
   "metadata": {
    "scrolled": false
   },
   "outputs": [
    {
     "name": "stdout",
     "output_type": "stream",
     "text": [
      "Net(\n",
      "  (rnn): LSTM(1, 10, batch_first=True)\n",
      "  (fc): Sequential(\n",
      "    (0): Linear(in_features=10, out_features=1, bias=True)\n",
      "  )\n",
      ")\n",
      "MSELoss()\n",
      "Adam (\n",
      "Parameter Group 0\n",
      "    amsgrad: False\n",
      "    betas: (0.9, 0.999)\n",
      "    eps: 1e-08\n",
      "    lr: 0.0001\n",
      "    weight_decay: 0\n",
      ")\n",
      "batch_size :  3440\n",
      "epoch :  10000\n",
      "----------------------\n",
      "시가->예측종가기준\n",
      "벌어들인돈 : 424000원\n",
      "정확도 : 0.567%\n",
      "----------------------\n",
      "전날예측종가->예측종가\n",
      "벌어들인돈 : 124000원\n",
      "정확도 : 0.517%\n"
     ]
    }
   ],
   "source": [
    "predicted_y = predicted.cpu().numpy()\n",
    "test_y = testY_tensor.numpy()\n",
    "test_x = test[7:,2]\n",
    "calculated_predicted_y = ((predicted_y * (test_denom[0] + 1e-7)) + test_min[0]).astype('int')\n",
    "calculated_test_y = ((test_y * (test_denom[0] + 1e-7)) + test_min[0]).astype('int')\n",
    "calculated_test_x = test_x.astype('int')\n",
    "\n",
    "show_train_status()\n",
    "eval_open_to_predict_close(day)\n",
    "eval_endPredict_to_predict_close(day)"
   ]
  },
  {
   "cell_type": "code",
   "execution_count": 144,
   "metadata": {
    "scrolled": false
   },
   "outputs": [
    {
     "name": "stdout",
     "output_type": "stream",
     "text": [
      "Net(\n",
      "  (rnn): LSTM(1, 10, batch_first=True)\n",
      "  (fc): Sequential(\n",
      "    (0): Linear(in_features=10, out_features=1, bias=True)\n",
      "  )\n",
      ")\n",
      "MSELoss()\n",
      "Adam (\n",
      "Parameter Group 0\n",
      "    amsgrad: False\n",
      "    betas: (0.9, 0.999)\n",
      "    eps: 1e-08\n",
      "    lr: 1e-05\n",
      "    weight_decay: 0\n",
      ")\n",
      "batch_size :  128\n",
      "epoch :  10000\n",
      "----------------------\n",
      "시가->예측종가기준\n",
      "벌어들인돈 : 439000원\n",
      "정확도 : 0.600%\n",
      "----------------------\n",
      "전날예측종가->예측종가\n",
      "벌어들인돈 : -13000원\n",
      "정확도 : 0.379%\n"
     ]
    }
   ],
   "source": [
    "predicted_y = predicted.cpu().numpy()\n",
    "test_y = testY_tensor.numpy()\n",
    "test_x = test[7:,2]\n",
    "calculated_predicted_y = ((predicted_y * (test_denom[0] + 1e-7)) + test_min[0]).astype('int')\n",
    "calculated_test_y = ((test_y * (test_denom[0] + 1e-7)) + test_min[0]).astype('int')\n",
    "calculated_test_x = test_x.astype('int')\n",
    "\n",
    "show_train_status()\n",
    "eval_open_to_predict_close(day)\n",
    "eval_endPredict_to_predict_close(day)"
   ]
  },
  {
   "cell_type": "code",
   "execution_count": 46,
   "metadata": {},
   "outputs": [
    {
     "name": "stdout",
     "output_type": "stream",
     "text": [
      "Net(\n",
      "  (rnn): LSTM(1, 10, num_layers=4, batch_first=True)\n",
      "  (fc): Sequential(\n",
      "    (0): Linear(in_features=10, out_features=1, bias=True)\n",
      "  )\n",
      ")\n",
      "MSELoss()\n",
      "Adam (\n",
      "Parameter Group 0\n",
      "    amsgrad: False\n",
      "    betas: (0.9, 0.999)\n",
      "    eps: 1e-08\n",
      "    lr: 0.0001\n",
      "    weight_decay: 0\n",
      ")\n",
      "batch_size :  128\n",
      "epoch :  1000\n",
      "----------------------\n",
      "시가->예측종가기준\n",
      "벌어들인돈 : 383000원\n",
      "정확도 : 0.600%\n",
      "----------------------\n",
      "전날예측종가->예측종가\n",
      "벌어들인돈 : 78000원\n",
      "정확도 : 0.483%\n"
     ]
    },
    {
     "data": {
      "image/png": "[encoded data removed]",
      "text/plain": [
       "<Figure size 432x288 with 1 Axes>"
      ]
     },
     "metadata": {
      "needs_background": "light"
     },
     "output_type": "display_data"
    }
   ],
   "source": [
    "predicted_y = predicted.cpu().numpy()\n",
    "test_y = testY_tensor.numpy()\n",
    "test_x = test[7:,2]\n",
    "calculated_predicted_y = ((predicted_y * (test_denom[0] + 1e-7)) + test_min[0]).astype('int')\n",
    "calculated_test_y = ((test_y * (test_denom[0] + 1e-7)) + test_min[0]).astype('int')\n",
    "calculated_test_x = test_x.astype('int')\n",
    "\n",
    "show_train_status()\n",
    "eval_open_to_predict_close(day)\n",
    "eval_endPredict_to_predict_close(day)\n",
    "%matplotlib inline\n",
    "plt.plot(loss_arr)\n",
    "plt.show()"
   ]
  },
  {
   "cell_type": "code",
   "execution_count": 55,
   "metadata": {},
   "outputs": [
    {
     "name": "stdout",
     "output_type": "stream",
     "text": [
      "Net(\n",
      "  (rnn): LSTM(1, 10, num_layers=2, batch_first=True)\n",
      "  (fc): Sequential(\n",
      "    (0): Linear(in_features=10, out_features=1, bias=True)\n",
      "  )\n",
      ")\n",
      "MSELoss()\n",
      "Adam (\n",
      "Parameter Group 0\n",
      "    amsgrad: False\n",
      "    betas: (0.9, 0.999)\n",
      "    eps: 1e-08\n",
      "    lr: 0.0001\n",
      "    weight_decay: 0\n",
      ")\n",
      "batch_size :  128\n",
      "epoch :  1000\n",
      "----------------------\n",
      "시가->예측종가기준\n",
      "벌어들인돈 : 282000원\n",
      "정확도 : 0.567%\n",
      "----------------------\n",
      "전날예측종가->예측종가\n",
      "벌어들인돈 : 47000원\n",
      "정확도 : 0.448%\n"
     ]
    },
    {
     "data": {
      "image/png": "[encoded data removed]",
      "text/plain": [
       "<Figure size 432x288 with 1 Axes>"
      ]
     },
     "metadata": {
      "needs_background": "light"
     },
     "output_type": "display_data"
    }
   ],
   "source": [
    "predicted_y = predicted.cpu().numpy()\n",
    "test_y = testY_tensor.numpy()\n",
    "test_x = test[7:,2]\n",
    "calculated_predicted_y = ((predicted_y * (test_denom[0] + 1e-7)) + test_min[0]).astype('int')\n",
    "calculated_test_y = ((test_y * (test_denom[0] + 1e-7)) + test_min[0]).astype('int')\n",
    "calculated_test_x = test_x.astype('int')\n",
    "\n",
    "show_train_status()\n",
    "eval_open_to_predict_close(day)\n",
    "eval_endPredict_to_predict_close(day)\n",
    "%matplotlib inline\n",
    "plt.plot(loss_arr)\n",
    "plt.show()"
   ]
  },
  {
   "cell_type": "markdown",
   "metadata": {},
   "source": [
    "## 최종 데이터 그래프"
   ]
  },
  {
   "cell_type": "code",
   "execution_count": 40,
   "metadata": {
    "scrolled": false
   },
   "outputs": [
    {
     "data": {
      "image/png": "[encoded data removed]",
      "text/plain": [
       "<Figure size 4320x2160 with 1 Axes>"
      ]
     },
     "metadata": {
      "needs_background": "light"
     },
     "output_type": "display_data"
    }
   ],
   "source": [
    "%matplotlib qt5\n",
    "plt.figure(figsize=(30,15))\n",
    "plt.plot(calculated_predicted_y[1000:1030])\n",
    "plt.plot(calculated_test_y[1000:1030])\n",
    "plt.legend(['predicted', 'test_y'])\n",
    "plt.grid(True)\n",
    "#plt.xticks([20*i for i in range(0,46)])\n",
    "plt.show()"
   ]
  },
  {
   "cell_type": "markdown",
   "metadata": {},
   "source": [
    "## 다음 날 예측"
   ]
  },
  {
   "cell_type": "code",
   "execution_count": null,
   "metadata": {},
   "outputs": [],
   "source": [
    "model.eval()\n",
    "with torch.no_grad():\n",
    "    for j, [x, y] in enumerate(test_loader):\n",
    "        test_x = testX_tensor.to(device).float()\n",
    "        predicted = model.forward(test_x)"
   ]
  },
  {
   "cell_type": "code",
   "execution_count": null,
   "metadata": {},
   "outputs": [],
   "source": [
    "predicted_y = predicted.cpu().numpy()#.astype('int')\n",
    "test_y = testY_tensor.numpy()#.astype('int')\n",
    "test_x = test[7:,2]\n",
    "print(test_x.shape)\n",
    "\n",
    "calculated_predicted_y = (predicted_y * (test_denom[0] + 1e-7)) + test_min[0]\n",
    "calculated_test_y = (test_y * (test_denom[0] + 1e-7)) + test_min[0]\n",
    "calculated_test_x = test_x #(test_x * (test_denom[2] + 1e-7)) + test_min[2] #open에대해 적용\n",
    "\n",
    "calculated_predicted_y = calculated_predicted_y.astype('int')\n",
    "calculated_test_y = calculated_test_y.astype('int')\n",
    "calculated_test_x = calculated_test_x.astype('int')"
   ]
  },
  {
   "cell_type": "code",
   "execution_count": null,
   "metadata": {},
   "outputs": [],
   "source": [
    "#당일 날짜 계산\n",
    "today = datetime.today()# + timedelta(days=1)\n",
    "str_year  = today.strftime('%Y')[:2]\n",
    "str_today = str_year + today.strftime('-%m-%d')\n",
    "# 투자하면 벌돈 및 실제 벌돈 계산\n",
    "expect_money = calculated_predicted_y[i+1] - calculated_predicted_y[-1]\n",
    "print(str_today, '시작가\\t','\\t', '종가\\t', '\\t', '수익예상')\n",
    "print('예상가\\t', calculated_predicted_y[-1],'\\t', calculated_predicted_y[i+1], '\\t',expect_money)\n",
    "print('현실가\\t',calculated_test_y[i],'\\t')"
   ]
  },
  {
   "cell_type": "code",
   "execution_count": null,
   "metadata": {},
   "outputs": [],
   "source": []
  }
 ],
 "metadata": {
  "kernelspec": {
   "display_name": "Python 3",
   "language": "python",
   "name": "python3"
  },
  "language_info": {
   "codemirror_mode": {
    "name": "ipython",
    "version": 3
   },
   "file_extension": ".py",
   "mimetype": "text/x-python",
   "name": "python",
   "nbconvert_exporter": "python",
   "pygments_lexer": "ipython3",
   "version": "3.7.6"
  }
 },
 "nbformat": 4,
 "nbformat_minor": 4
}
