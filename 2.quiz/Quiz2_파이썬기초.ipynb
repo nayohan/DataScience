{
 "cells": [
  {
   "cell_type": "markdown",
   "metadata": {},
   "source": [
    "# 201601769 나요한"
   ]
  },
  {
   "cell_type": "code",
   "execution_count": 3,
   "metadata": {},
   "outputs": [
    {
     "name": "stdout",
     "output_type": "stream",
     "text": [
      "1\n",
      "1\n",
      "2\n",
      "2\n",
      "3\n",
      "1\n",
      "2\n",
      "1\n",
      "3\n",
      "2\n",
      "4\n",
      "2\n",
      "done looping\n"
     ]
    }
   ],
   "source": [
    "for i in [1,2]:\n",
    "    print(i)\n",
    "    for j in [1,2]:\n",
    "        print(j)\n",
    "        print(i+j)\n",
    "    print(i)\n",
    "print(\"done looping\")"
   ]
  },
  {
   "cell_type": "code",
   "execution_count": 14,
   "metadata": {},
   "outputs": [
    {
     "name": "stdout",
     "output_type": "stream",
     "text": [
      "large\n",
      "hello world\n",
      "deep intelligence\n",
      "deep learning\n",
      " intelligence\n",
      "artificial neural network\n"
     ]
    }
   ],
   "source": [
    "def my_print(message = \"hello world\"):\n",
    "    print(message)\n",
    "\n",
    "my_print(\"large\")\n",
    "my_print()\n",
    "\n",
    "def full_name(first = \"artificial\", last=\"intelligence\"):\n",
    "    return first + \" \" + last\n",
    "\n",
    "print(full_name(\"deep\"))\n",
    "print(full_name(\"deep\", \"learning\"))\n",
    "print(full_name(\"\"))\n",
    "print(full_name(last=\"neural network\"))\n"
   ]
  },
  {
   "cell_type": "code",
   "execution_count": 19,
   "metadata": {},
   "outputs": [
    {
     "name": "stdout",
     "output_type": "stream",
     "text": [
      "12\n",
      "12\n",
      "2\n",
      "4\n"
     ]
    }
   ],
   "source": [
    "single_quoted_string = 'data science'\n",
    "double_quoted_string = 'data science'\n",
    "print(len(single_quoted_string))\n",
    "print(len(double_quoted_string))\n",
    "\n",
    "tab_string = \"\\n\\t\"\n",
    "print(len(tab_string))\n",
    "\n",
    "not_tab_string = r\"\\n\\t\"\n",
    "print(len(not_tab_string))"
   ]
  },
  {
   "cell_type": "code",
   "execution_count": 24,
   "metadata": {},
   "outputs": [
    {
     "name": "stdout",
     "output_type": "stream",
     "text": [
      "3\n",
      "6\n",
      "3\n"
     ]
    }
   ],
   "source": [
    "integer_list = [1,2,3]\n",
    "heterogeneous_list = [\"string\", 0.1, True, [4,5], (6,7)]\n",
    "\n",
    "list_of_lists = [integer_list, heterogeneous_list, []]\n",
    "list_length = len(integer_list)\n",
    "list_sum = sum(integer_list)\n",
    "\n",
    "print(list_length)\n",
    "print(list_sum)"
   ]
  },
  {
   "cell_type": "code",
   "execution_count": 25,
   "metadata": {},
   "outputs": [
    {
     "name": "stdout",
     "output_type": "stream",
     "text": [
      "7\n",
      "[0, 2, 4, 6, 8]\n",
      "[7, 6, 5]\n"
     ]
    }
   ],
   "source": [
    "from IPython.core.interactiveshell import InteractiveShell\n",
    "InteractiveShell.ast_node_interactivity = \"all\"\n",
    "x = [0,1,2,3,4,5,6,7,8,9]\n",
    "print(x[-3])\n",
    "print(x[::2])\n",
    "print(x[7:4:-1])"
   ]
  },
  {
   "cell_type": "code",
   "execution_count": 26,
   "metadata": {},
   "outputs": [
    {
     "name": "stdout",
     "output_type": "stream",
     "text": [
      "1\n",
      "2\n",
      "2\n",
      "1\n"
     ]
    }
   ],
   "source": [
    "x, y = 1,2,\n",
    "print(x)\n",
    "print(y)\n",
    "\n",
    "x,y = y,x\n",
    "print(x)\n",
    "print(y)"
   ]
  },
  {
   "cell_type": "code",
   "execution_count": 31,
   "metadata": {},
   "outputs": [
    {
     "name": "stdout",
     "output_type": "stream",
     "text": [
      "[1, 2]\n",
      "(1, 2)\n",
      "5\n",
      "<class 'int'>\n"
     ]
    }
   ],
   "source": [
    "my_list = [1,2]\n",
    "my_tuple = (1,2)\n",
    "other_tuple = 3,4\n",
    "other_tuple = 5\n",
    "\n",
    "print(my_list)\n",
    "print(my_tuple)\n",
    "print(other_tuple)"
   ]
  },
  {
   "cell_type": "code",
   "execution_count": 33,
   "metadata": {},
   "outputs": [
    {
     "name": "stdout",
     "output_type": "stream",
     "text": [
      "excellent 2\n",
      "A 1\n",
      "I 1\n",
      "expert 1\n"
     ]
    }
   ],
   "source": [
    "from collections import Counter\n",
    "c = Counter([0,1,2,0])\n",
    "\n",
    "document = [\"A\", \"I\", \"expert\", \"excellent\", \"excellent\"]\n",
    "word_counts = Counter(document)\n",
    "\n",
    "for word, count in word_counts.most_common(10):\n",
    "    print(word, count)"
   ]
  },
  {
   "cell_type": "code",
   "execution_count": 34,
   "metadata": {},
   "outputs": [
    {
     "name": "stdout",
     "output_type": "stream",
     "text": [
      "[('a', 1), ('b', 2), ('c', 3)]\n",
      "('a', 'b', 'c')\n",
      "(1, 2, 3)\n"
     ]
    }
   ],
   "source": [
    "list1 = ['a','b','c']\n",
    "list2 = [1,2,3]\n",
    "ln = [pair for pair in zip(list1, list2)]\n",
    "print(ln)\n",
    "\n",
    "letters, numbers = zip(('a',1),('b',2),('c',3))\n",
    "print(letters)\n",
    "print(numbers)\n"
   ]
  },
  {
   "cell_type": "code",
   "execution_count": 38,
   "metadata": {},
   "outputs": [
    {
     "name": "stdout",
     "output_type": "stream",
     "text": [
      "<function doubler.<locals>.g at 0x0000022AD629BE58>\n",
      "8\n",
      "<function doubler.<locals>.g at 0x0000022AD629BE58>\n",
      "0\n",
      "<function doubler.<locals>.g at 0x0000022AD629BE58>\n",
      "6\n",
      "4\n",
      "0\n",
      "3\n"
     ]
    }
   ],
   "source": [
    "def doubler(f):\n",
    "    def g(x):\n",
    "        print(g)\n",
    "        return 2 * f(x)\n",
    "    return g\n",
    "\n",
    "def f1(x):\n",
    "    return x+1\n",
    "\n",
    "g = doubler(f1)\n",
    "\n",
    "print(g(3))\n",
    "print(g(-1))\n",
    "print(g(2))\n",
    "\n",
    "print(f1(3))\n",
    "print(f1(-1))\n",
    "print(f1(2))\n",
    "\n"
   ]
  },
  {
   "cell_type": "code",
   "execution_count": 41,
   "metadata": {},
   "outputs": [
    {
     "name": "stdout",
     "output_type": "stream",
     "text": [
      "unnamed args: (1, 2)\n",
      "keyword args: {'key': 'word', 'key2': 'word2', 'key3': 's'}\n"
     ]
    }
   ],
   "source": [
    "def f2(x,y):\n",
    "    return x*y\n",
    "\n",
    "g = doubler(f2)\n",
    "def magic(*args, **kwargs):\n",
    "    print(\"unnamed args:\", args)\n",
    "    print(\"keyword args:\", kwargs)\n",
    "\n",
    "magic(1,2,key = \"word\", key2 = \"word2\", key3=\"s\")\n",
    "\n",
    "def other_way_magic(x,y,z):\n",
    "    return x + y + z"
   ]
  },
  {
   "cell_type": "code",
   "execution_count": 44,
   "metadata": {},
   "outputs": [
    {
     "data": {
      "text/plain": [
       "6"
      ]
     },
     "execution_count": 44,
     "metadata": {},
     "output_type": "execute_result"
    }
   ],
   "source": [
    "x_y_list = [1,2]\n",
    "z_dict = {\"z\":3}\n",
    "\n",
    "other_way_magic(*x_y_list, **z_dict)"
   ]
  },
  {
   "cell_type": "code",
   "execution_count": 47,
   "metadata": {},
   "outputs": [
    {
     "data": {
      "text/plain": [
       "4"
      ]
     },
     "execution_count": 47,
     "metadata": {},
     "output_type": "execute_result"
    },
    {
     "data": {
      "text/plain": [
       "24"
      ]
     },
     "execution_count": 47,
     "metadata": {},
     "output_type": "execute_result"
    },
    {
     "data": {
      "text/plain": [
       "4"
      ]
     },
     "execution_count": 47,
     "metadata": {},
     "output_type": "execute_result"
    }
   ],
   "source": [
    "def doubler_correct(f):\n",
    "    def g(*args, **kwargs):\n",
    "        return 2* f(*args, **kwargs)\n",
    "    return g\n",
    "g = doubler_correct(f2)\n",
    "\n",
    "g(1,2)\n",
    "\n",
    "g(3,4)\n",
    "\n",
    "g(*x_y_list)"
   ]
  },
  {
   "cell_type": "code",
   "execution_count": null,
   "metadata": {},
   "outputs": [],
   "source": []
  },
  {
   "cell_type": "code",
   "execution_count": null,
   "metadata": {},
   "outputs": [],
   "source": []
  },
  {
   "cell_type": "code",
   "execution_count": null,
   "metadata": {},
   "outputs": [],
   "source": []
  },
  {
   "cell_type": "code",
   "execution_count": null,
   "metadata": {},
   "outputs": [],
   "source": []
  },
  {
   "cell_type": "code",
   "execution_count": null,
   "metadata": {},
   "outputs": [],
   "source": []
  },
  {
   "cell_type": "code",
   "execution_count": null,
   "metadata": {},
   "outputs": [],
   "source": []
  },
  {
   "cell_type": "code",
   "execution_count": null,
   "metadata": {},
   "outputs": [],
   "source": []
  },
  {
   "cell_type": "code",
   "execution_count": null,
   "metadata": {},
   "outputs": [],
   "source": []
  },
  {
   "cell_type": "code",
   "execution_count": null,
   "metadata": {},
   "outputs": [],
   "source": []
  },
  {
   "cell_type": "code",
   "execution_count": null,
   "metadata": {},
   "outputs": [],
   "source": []
  }
 ],
 "metadata": {
  "kernelspec": {
   "display_name": "Python 3",
   "language": "python",
   "name": "python3"
  },
  "language_info": {
   "codemirror_mode": {
    "name": "ipython",
    "version": 3
   },
   "file_extension": ".py",
   "mimetype": "text/x-python",
   "name": "python",
   "nbconvert_exporter": "python",
   "pygments_lexer": "ipython3",
   "version": "3.7.6"
  }
 },
 "nbformat": 4,
 "nbformat_minor": 4
}
