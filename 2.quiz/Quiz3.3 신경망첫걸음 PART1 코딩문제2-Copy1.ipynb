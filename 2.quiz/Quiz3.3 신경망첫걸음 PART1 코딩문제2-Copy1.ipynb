{
 "cells": [
  {
   "cell_type": "code",
   "execution_count": 9,
   "metadata": {},
   "outputs": [],
   "source": [
    "import numpy as np\n",
    "\n",
    "def sigmoid(x):\n",
    "    return 1/(1 + np.exp(-x))"
   ]
  },
  {
   "cell_type": "code",
   "execution_count": 15,
   "metadata": {},
   "outputs": [
    {
     "name": "stdout",
     "output_type": "stream",
     "text": [
      "[[0.9 0.3 0.4]\n",
      " [0.2 0.8 0.2]\n",
      " [0.1 0.5 0.6]]\n",
      "[1.16 0.42 0.62]\n",
      "[0.76133271 0.60348325 0.65021855]\n",
      "[0.97594736 0.88858496 1.25461119]\n",
      "[0.72630335 0.70859807 0.77809706]\n"
     ]
    }
   ],
   "source": [
    "I = np.array([0.9, 0.1, 0.8])\n",
    "W_i = np.array([[0.9, 0.3, 0.4], [0.2, 0.8, 0.2], [0.1, 0.5, 0.6]])\n",
    "W_h = np.array([[0.3, 0.7, 0.5], [0.6, 0.5, 0.2], [0.8, 0.1, 0.9]])\n",
    "\n",
    "A1 = np.dot( W_i,I)\n",
    "print(A1)\n",
    "Z1 = sigmoid(A1)\n",
    "print(Z1)\n",
    "A2 = np.dot(W_h, Z1)\n",
    "print(A2)\n",
    "Z2 = sigmoid(A2)\n",
    "Y = Z2\n",
    "print(Y)"
   ]
  },
  {
   "cell_type": "markdown",
   "metadata": {},
   "source": [
    "# 201601769 나요한\n"
   ]
  },
  {
   "cell_type": "code",
   "execution_count": null,
   "metadata": {},
   "outputs": [],
   "source": []
  }
 ],
 "metadata": {
  "kernelspec": {
   "display_name": "Python 3",
   "language": "python",
   "name": "python3"
  },
  "language_info": {
   "codemirror_mode": {
    "name": "ipython",
    "version": 3
   },
   "file_extension": ".py",
   "mimetype": "text/x-python",
   "name": "python",
   "nbconvert_exporter": "python",
   "pygments_lexer": "ipython3",
   "version": "3.7.6"
  }
 },
 "nbformat": 4,
 "nbformat_minor": 4
}
