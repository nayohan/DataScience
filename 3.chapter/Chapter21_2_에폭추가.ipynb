{
 "cells": [
  {
   "cell_type": "markdown",
   "metadata": {},
   "source": [
    "# 신경망 클래스"
   ]
  },
  {
   "cell_type": "code",
   "execution_count": 54,
   "metadata": {},
   "outputs": [],
   "source": [
    "import numpy as np\n",
    "import scipy\n",
    "from scipy import special\n",
    "import matplotlib.pyplot as plt"
   ]
  },
  {
   "cell_type": "code",
   "execution_count": 83,
   "metadata": {},
   "outputs": [],
   "source": [
    "#신경망 클래스의 정의\n",
    "class neuralNetwork:\n",
    "    \n",
    "    #신경망 초기화 하기\n",
    "    def __init__(self, inputnodes, hiddennodes, outputnodes, learningrate):\n",
    "        #입력, 은닉, 출력 계층의 노드 개수 설정\n",
    "        self.inodes = inputnodes\n",
    "        self.hnodes = hiddennodes\n",
    "        self.onodes = outputnodes\n",
    "        \n",
    "        #가중치 행렬 wih와 who\n",
    "        #배열 내 가중치는 w_i_j로 표기, 노드i에서 다음 계층의 노드j로 연결됨을 의미\n",
    "        self.wih = (np.random.rand(self.hnodes, self.inodes) - 0.5)\n",
    "        self.who = (np.random.rand(self.onodes, self.hnodes) - 0.5)\n",
    "        \n",
    "        #학습률\n",
    "        self.lr = learningrate\n",
    "        \n",
    "        #활성화 함수로 시그모이드 함수를 이용s\n",
    "        self.activation_function = lambda x: scipy.special.expit(x)\n",
    "        pass\n",
    "    \n",
    "    #신경망 학습시키기\n",
    "    def train(self, input_list, target_list):\n",
    "        #입력리스트들\n",
    "        inputs = np.array(input_list, ndmin=2).T\n",
    "        targets = np.array(target_list, ndmin=2).T\n",
    "    \n",
    "        #계층간 전달\n",
    "        hidden_inputs = np.dot(self.wih, inputs)\n",
    "        hidden_outputs = self.activation_function(hidden_inputs)\n",
    "        final_inputs = np.dot(self.who, hidden_outputs)\n",
    "        final_outputs  = self.activation_function(final_inputs)\n",
    "        \n",
    "        # (실제 값 - 계산값) 오차\n",
    "        output_errors = targets - final_outputs\n",
    "        hidden_errors = np.dot(self.who.T, output_errors)\n",
    "        \n",
    "        self.who += self.lr * np.dot((output_errors * final_outputs * (1.0 -final_outputs)), np.transpose(hidden_outputs))\n",
    "        self.wih += self.lr * np.dot((hidden_errors * hidden_outputs * (1.0 -hidden_outputs)), np.transpose(inputs))\n",
    "        pass\n",
    "    \n",
    "    #신경망에 질의하기\n",
    "    def query(self, input_list):\n",
    "        inputs = np.array(input_list, ndmin=2).T\n",
    "    \n",
    "        hidden_inputs = np.dot(self.wih, inputs)\n",
    "        hidden_outputs = self.activation_function(hidden_inputs)\n",
    "        final_inputs = np.dot(self.who, hidden_outputs)\n",
    "        final_outputs  = self.activation_function(final_inputs)\n",
    "    \n",
    "        return  final_outputs\n",
    "    "
   ]
  },
  {
   "cell_type": "markdown",
   "metadata": {},
   "source": [
    "# 신경망 테스트 클래스"
   ]
  },
  {
   "cell_type": "code",
   "execution_count": 87,
   "metadata": {},
   "outputs": [],
   "source": [
    "def testNeuralNet(e):\n",
    "    test_data_file = open(\"mnist_dataset/mnist_test.csv\",\"r\")\n",
    "    test_data_list = test_data_file.readlines()\n",
    "    test_data_file.close()\n",
    "\n",
    "    #신경망의 성능의 지표가 되는 성적표를 아무 값도 가지지 않도록 초기화\n",
    "    scorecard = []\n",
    "\n",
    "    #테스트 데이터의 모음 내의 모든 레코드 탐색\n",
    "    for record in test_data_list:\n",
    "        #레코드를 쉼표에 의해 분리\n",
    "        all_values = record.split(',')\n",
    "        correct_label = int(all_values[0])\n",
    "        #print(correct_label, \"correct label\")\n",
    "        inputs = (np.asfarray(all_values[1:]) / 255.0 * 0.99) + 0.01\n",
    "        outputs = n.query(inputs)\n",
    "        label = np.argmax(outputs)\n",
    "\n",
    "        #print(label, \"network's asnwer\")\n",
    "\n",
    "        if(label == correct_label):\n",
    "            scorecard.append(1)\n",
    "        else:\n",
    "            scorecard.append(0)\n",
    "            pass\n",
    "        pass\n",
    "    scorecard_array = np.asarray(scorecard)\n",
    "    print(\"epochs = \", e,\n",
    "     \"hidden_nodes = \", hidden_nodes,\n",
    "     \"learning_rate = \", learning_rate,\n",
    "     \"performance = \",scorecard_array.sum() / scorecard_array.size)"
   ]
  },
  {
   "cell_type": "markdown",
   "metadata": {},
   "source": [
    "# 하이퍼파라미터"
   ]
  },
  {
   "cell_type": "code",
   "execution_count": 88,
   "metadata": {
    "scrolled": false
   },
   "outputs": [],
   "source": [
    "input_nodes = 784\n",
    "hidden_nodes = 400\n",
    "output_nodes = 10\n",
    "learning_rate = 0.001\n",
    "epochs = 30\n",
    "\n",
    "n = neuralNetwork(input_nodes, hidden_nodes, output_nodes, learning_rate)\n",
    "\n",
    "#100~200\n",
    "#0.3~0.03\n",
    "#5~10"
   ]
  },
  {
   "cell_type": "markdown",
   "metadata": {},
   "source": [
    "# 신경망 학습 및 테스트"
   ]
  },
  {
   "cell_type": "code",
   "execution_count": 89,
   "metadata": {},
   "outputs": [
    {
     "name": "stdout",
     "output_type": "stream",
     "text": [
      "epochs =  1 hidden_nodes =  400 learning_rate =  0.001 performance =  0.8828\n",
      "epochs =  2 hidden_nodes =  400 learning_rate =  0.001 performance =  0.9074\n",
      "epochs =  3 hidden_nodes =  400 learning_rate =  0.001 performance =  0.9207\n",
      "epochs =  4 hidden_nodes =  400 learning_rate =  0.001 performance =  0.926\n",
      "epochs =  5 hidden_nodes =  400 learning_rate =  0.001 performance =  0.9295\n",
      "epochs =  6 hidden_nodes =  400 learning_rate =  0.001 performance =  0.9326\n",
      "epochs =  7 hidden_nodes =  400 learning_rate =  0.001 performance =  0.9344\n",
      "epochs =  8 hidden_nodes =  400 learning_rate =  0.001 performance =  0.9355\n",
      "epochs =  9 hidden_nodes =  400 learning_rate =  0.001 performance =  0.9369\n",
      "epochs =  10 hidden_nodes =  400 learning_rate =  0.001 performance =  0.9387\n",
      "epochs =  11 hidden_nodes =  400 learning_rate =  0.001 performance =  0.9401\n",
      "epochs =  12 hidden_nodes =  400 learning_rate =  0.001 performance =  0.942\n",
      "epochs =  13 hidden_nodes =  400 learning_rate =  0.001 performance =  0.9429\n",
      "epochs =  14 hidden_nodes =  400 learning_rate =  0.001 performance =  0.943\n",
      "epochs =  15 hidden_nodes =  400 learning_rate =  0.001 performance =  0.9441\n",
      "epochs =  16 hidden_nodes =  400 learning_rate =  0.001 performance =  0.9452\n",
      "epochs =  17 hidden_nodes =  400 learning_rate =  0.001 performance =  0.9471\n",
      "epochs =  18 hidden_nodes =  400 learning_rate =  0.001 performance =  0.9478\n",
      "epochs =  19 hidden_nodes =  400 learning_rate =  0.001 performance =  0.9485\n",
      "epochs =  20 hidden_nodes =  400 learning_rate =  0.001 performance =  0.9496\n",
      "epochs =  21 hidden_nodes =  400 learning_rate =  0.001 performance =  0.9513\n",
      "epochs =  22 hidden_nodes =  400 learning_rate =  0.001 performance =  0.9528\n",
      "epochs =  23 hidden_nodes =  400 learning_rate =  0.001 performance =  0.9533\n",
      "epochs =  24 hidden_nodes =  400 learning_rate =  0.001 performance =  0.9541\n",
      "epochs =  25 hidden_nodes =  400 learning_rate =  0.001 performance =  0.9549\n",
      "epochs =  26 hidden_nodes =  400 learning_rate =  0.001 performance =  0.9557\n",
      "epochs =  27 hidden_nodes =  400 learning_rate =  0.001 performance =  0.9563\n",
      "epochs =  28 hidden_nodes =  400 learning_rate =  0.001 performance =  0.9571\n",
      "epochs =  29 hidden_nodes =  400 learning_rate =  0.001 performance =  0.9578\n",
      "epochs =  30 hidden_nodes =  400 learning_rate =  0.001 performance =  0.9583\n"
     ]
    }
   ],
   "source": [
    "train_data_file = open(\"mnist_dataset/mnist_train.csv\",\"r\")\n",
    "train_data_list = train_data_file.readlines()\n",
    "train_data_file.close()\n",
    "\n",
    "for e in range(epochs):\n",
    "    for record in train_data_list:\n",
    "        all_values = record.split(',')\n",
    "        inputs = (np.asfarray(all_values[1:]) / 255.0 * 0.99) + 0.01 #0~255값 -> 0.01~1사이의 값\n",
    "        targets = np.zeros(output_nodes) + 0.01 #결과값중 아닌것들은 0.01\n",
    "        targets[int(all_values[0])] = 0.99      #결과값중 맞는것은 0.99\n",
    "        n.train(inputs, targets)\n",
    "    testNeuralNet(e+1)\n",
    "pass"
   ]
  },
  {
   "cell_type": "markdown",
   "metadata": {},
   "source": [
    "# 201601769 나요한"
   ]
  },
  {
   "cell_type": "markdown",
   "metadata": {},
   "source": [
    "epochs =  2 hidden_nodes =  100 learning_rate =  0.2 performance =  0.9574\n",
    "epochs =  2 hidden_nodes =  200 learning_rate =  0.2 performance =  0.9647\n",
    "epochs =  2 hidden_nodes =  300 learning_rate =  0.2 performance =  0.962\n",
    "epochs =  2 hidden_nodes =  400 learning_rate =  0.2 performance =  0.9685\n",
    "epochs =  2 hidden_nodes =  500 learning_rate =  0.2 performance =  0.9694"
   ]
  },
  {
   "cell_type": "code",
   "execution_count": null,
   "metadata": {},
   "outputs": [],
   "source": [
    "epochs =  1 hidden_nodes =  50 learning_rate =  0.2 performance =  0.9324\n",
    "epochs =  2 hidden_nodes =  50 learning_rate =  0.2 performance =  0.9428\n",
    "epochs =  3 hidden_nodes =  50 learning_rate =  0.2 performance =  0.9438\n",
    "epochs =  4 hidden_nodes =  50 learning_rate =  0.2 performance =  0.9471\n",
    "epochs =  5 hidden_nodes =  50 learning_rate =  0.2 performance =  0.9498"
   ]
  },
  {
   "cell_type": "code",
   "execution_count": null,
   "metadata": {},
   "outputs": [],
   "source": [
    "pochs =  1 hidden_nodes =  100 learning_rate =  0.2 performance =  0.9506\n",
    "epochs =  2 hidden_nodes =  100 learning_rate =  0.2 performance =  0.9551\n",
    "epochs =  3 hidden_nodes =  100 learning_rate =  0.2 performance =  0.9563\n",
    "epochs =  4 hidden_nodes =  100 learning_rate =  0.2 performance =  0.9625\n",
    "epochs =  5 hidden_nodes =  100 learning_rate =  0.2 performance =  0.9605"
   ]
  },
  {
   "cell_type": "code",
   "execution_count": null,
   "metadata": {},
   "outputs": [],
   "source": [
    "epochs =  1 hidden_nodes =  200 learning_rate =  0.2 performance =  0.9571\n",
    "epochs =  2 hidden_nodes =  200 learning_rate =  0.2 performance =  0.9633\n",
    "epochs =  3 hidden_nodes =  200 learning_rate =  0.2 performance =  0.9669\n",
    "epochs =  4 hidden_nodes =  200 learning_rate =  0.2 performance =  0.9688\n",
    "epochs =  5 hidden_nodes =  200 learning_rate =  0.2 performance =  0.9653"
   ]
  },
  {
   "cell_type": "code",
   "execution_count": null,
   "metadata": {},
   "outputs": [],
   "source": [
    "epochs =  1 hidden_nodes =  300 learning_rate =  0.2 performance =  0.9614\n",
    "epochs =  2 hidden_nodes =  300 learning_rate =  0.2 performance =  0.9646\n",
    "epochs =  3 hidden_nodes =  300 learning_rate =  0.2 performance =  0.9658\n",
    "epochs =  4 hidden_nodes =  300 learning_rate =  0.2 performance =  0.9679\n",
    "epochs =  5 hidden_nodes =  300 learning_rate =  0.2 performance =  0.9681"
   ]
  },
  {
   "cell_type": "code",
   "execution_count": null,
   "metadata": {},
   "outputs": [],
   "source": [
    "epochs =  1 hidden_nodes =  200 learning_rate =  0.1 performance =  0.9567\n",
    "epochs =  2 hidden_nodes =  200 learning_rate =  0.1 performance =  0.9676\n",
    "epochs =  3 hidden_nodes =  200 learning_rate =  0.1 performance =  0.9716\n",
    "epochs =  4 hidden_nodes =  200 learning_rate =  0.1 performance =  0.9725\n",
    "epochs =  5 hidden_nodes =  200 learning_rate =  0.1 performance =  0.9727"
   ]
  },
  {
   "cell_type": "code",
   "execution_count": null,
   "metadata": {},
   "outputs": [],
   "source": [
    "epochs =  1 hidden_nodes =  200 learning_rate =  0.05 performance =  0.9518\n",
    "epochs =  2 hidden_nodes =  200 learning_rate =  0.05 performance =  0.9634\n",
    "epochs =  3 hidden_nodes =  200 learning_rate =  0.05 performance =  0.9696\n",
    "epochs =  4 hidden_nodes =  200 learning_rate =  0.05 performance =  0.9714\n",
    "epochs =  5 hidden_nodes =  200 learning_rate =  0.05 performance =  0.9726"
   ]
  },
  {
   "cell_type": "code",
   "execution_count": null,
   "metadata": {},
   "outputs": [],
   "source": [
    "epochs =  1 hidden_nodes =  300 learning_rate =  0.025 performance =  0.9454\n",
    "epochs =  2 hidden_nodes =  300 learning_rate =  0.025 performance =  0.9605\n",
    "epochs =  3 hidden_nodes =  300 learning_rate =  0.025 performance =  0.9675\n",
    "epochs =  4 hidden_nodes =  300 learning_rate =  0.025 performance =  0.9713\n",
    "epochs =  5 hidden_nodes =  300 learning_rate =  0.025 performance =  0.9735"
   ]
  },
  {
   "cell_type": "code",
   "execution_count": null,
   "metadata": {},
   "outputs": [],
   "source": [
    "epochs =  1 hidden_nodes =  300 learning_rate =  0.001 performance =  0.874\n",
    "epochs =  2 hidden_nodes =  300 learning_rate =  0.001 performance =  0.9005\n",
    "epochs =  3 hidden_nodes =  300 learning_rate =  0.001 performance =  0.9102\n",
    "epochs =  4 hidden_nodes =  300 learning_rate =  0.001 performance =  0.9171\n",
    "epochs =  5 hidden_nodes =  300 learning_rate =  0.001 performance =  0.9218"
   ]
  },
  {
   "cell_type": "code",
   "execution_count": null,
   "metadata": {},
   "outputs": [],
   "source": [
    "epochs =  1 hidden_nodes =  400 learning_rate =  0.05 performance =  0.9536\n",
    "epochs =  2 hidden_nodes =  400 learning_rate =  0.05 performance =  0.9676\n",
    "epochs =  3 hidden_nodes =  400 learning_rate =  0.05 performance =  0.9702\n",
    "epochs =  4 hidden_nodes =  400 learning_rate =  0.05 performance =  0.9747\n",
    "epochs =  5 hidden_nodes =  400 learning_rate =  0.05 performance =  0.976"
   ]
  }
 ],
 "metadata": {
  "kernelspec": {
   "display_name": "Python 3",
   "language": "python",
   "name": "python3"
  },
  "language_info": {
   "codemirror_mode": {
    "name": "ipython",
    "version": 3
   },
   "file_extension": ".py",
   "mimetype": "text/x-python",
   "name": "python",
   "nbconvert_exporter": "python",
   "pygments_lexer": "ipython3",
   "version": "3.7.6"
  }
 },
 "nbformat": 4,
 "nbformat_minor": 4
}
