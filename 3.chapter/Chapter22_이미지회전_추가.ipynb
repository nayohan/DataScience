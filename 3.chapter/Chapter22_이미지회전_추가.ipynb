{
 "cells": [
  {
   "cell_type": "markdown",
   "metadata": {},
   "source": [
    "# HW2 나만의 손 글씨 인식 해보기"
   ]
  },
  {
   "cell_type": "code",
   "execution_count": 1,
   "metadata": {
    "scrolled": false
   },
   "outputs": [
    {
     "data": {
      "image/png": "[encoded data removed]",
      "text/plain": [
       "<Figure size 432x288 with 9 Axes>"
      ]
     },
     "metadata": {
      "needs_background": "light"
     },
     "output_type": "display_data"
    },
    {
     "data": {
      "image/png": "[encoded data removed]",
      "text/plain": [
       "<Figure size 432x288 with 1 Axes>"
      ]
     },
     "metadata": {
      "needs_background": "light"
     },
     "output_type": "display_data"
    }
   ],
   "source": [
    "%matplotlib inline\n",
    "import matplotlib.pyplot as plt\n",
    "import imageio\n",
    "import glob\n",
    "import imutils\n",
    "\n",
    "def show_image_label():\n",
    "    fig = plt.figure()\n",
    "    for image_file_name in glob.glob('my_own_images/my_id_?_?.png'):\n",
    "\n",
    "        id_order = int(image_file_name[-7:-6])\n",
    "        correct_label= int(image_file_name[-5:-4])\n",
    "        #print(\"***correct_label:\", correct_label)\n",
    "\n",
    "        image_array = imageio.imread(image_file_name)\n",
    "        image_array = image_array[:,:,0]\n",
    "        #print(image_array.shape)\n",
    "        #print(image_array)\n",
    "\n",
    "        image_data = 255.0 - image_array.reshape(784)\n",
    "        image_data = (image_data/255.0 *0.99) +0.01\n",
    "\n",
    "        ax = fig.add_subplot(1, 9, id_order)\n",
    "        ax.imshow(image_array, cmap='Greys', interpolation='None')\n",
    "        ax.set_title(correct_label)\n",
    "        ax.axis(\"off\")\n",
    "    plt.show()\n",
    "\n",
    "show_image_label()\n",
    "plt.imshow(imageio.imread('my_own_images/my.png'))\n",
    "plt.axis(\"off\")\n",
    "plt.show()"
   ]
  },
  {
   "cell_type": "markdown",
   "metadata": {},
   "source": [
    "# 신경망 학습 & 테스트 클래스"
   ]
  },
  {
   "cell_type": "code",
   "execution_count": 2,
   "metadata": {},
   "outputs": [],
   "source": [
    "import numpy as np\n",
    "import scipy\n",
    "from scipy import special\n",
    "import matplotlib.pyplot as plt"
   ]
  },
  {
   "cell_type": "code",
   "execution_count": 3,
   "metadata": {},
   "outputs": [],
   "source": [
    "#신경망 클래스의 정의\n",
    "class neuralNetwork2:\n",
    "    \n",
    "    #신경망 초기화 하기\n",
    "    def __init__(self, inputnodes, hiddennodes1, hiddennodes2, outputnodes, learningrate):\n",
    "        #입력, 은닉, 출력 계층의 노드 개수 설정\n",
    "        self.inodes = inputnodes\n",
    "        self.hnodes1 = hiddennodes1\n",
    "        self.hnodes2 = hiddennodes2\n",
    "        self.onodes = outputnodes\n",
    "        \n",
    "        #가중치 행렬 wih와 who\n",
    "        #배열 내 가중치는 w_i_j로 표기, 노드i에서 다음 계층의 노드j로 연결됨을 의미\n",
    "        self.wih1 = (np.random.rand(self.hnodes1, self.inodes) - 0.5)\n",
    "        self.wh1h2 = (np.random.rand(self.hnodes2, self.hnodes1) - 0.5)\n",
    "        self.wh2o = (np.random.rand(self.onodes, self.hnodes2) - 0.5)\n",
    "        \n",
    "        #학습률\n",
    "        self.lr = learningrate\n",
    "        \n",
    "        #활성화 함수로 시그모이드 함수를 이용s\n",
    "        self.activation_function = lambda x: scipy.special.expit(x)\n",
    "        pass\n",
    "    \n",
    "    #신경망 학습시키기\n",
    "    def train(self, input_list, target_list):\n",
    "        #입력리스트들\n",
    "        inputs = np.array(input_list, ndmin=2).T\n",
    "        targets = np.array(target_list, ndmin=2).T\n",
    "    \n",
    "        #계층간 전달\n",
    "        hidden_inputs1 = np.dot(self.wih1, inputs)\n",
    "        hidden_outputs1 = self.activation_function(hidden_inputs1)\n",
    "        hidden_inputs2 = np.dot(self.wh1h2, hidden_outputs1)\n",
    "        hidden_outputs2 = self.activation_function(hidden_inputs2)\n",
    "        final_inputs = np.dot(self.wh2o, hidden_outputs2)\n",
    "        final_outputs  = self.activation_function(final_inputs)\n",
    "        \n",
    "        # (실제 값 - 계산값) 오차\n",
    "        output_errors = targets - final_outputs\n",
    "        hidden_errors2 = np.dot(self.wh2o.T, output_errors)\n",
    "        hidden_errors1 = np.dot(self.wh1h2.T, hidden_errors2)\n",
    "        \n",
    "        self.wh2o += self.lr * np.dot((output_errors * final_outputs * (1.0 -final_outputs)), np.transpose(hidden_outputs2))\n",
    "        self.wh1h2 += self.lr * np.dot((hidden_errors2 * hidden_outputs2 * (1.0 -hidden_outputs2)), np.transpose(hidden_outputs1))\n",
    "        self.wih1 += self.lr * np.dot((hidden_errors1 * hidden_outputs1 * (1.0 -hidden_outputs1)), np.transpose(inputs))\n",
    "        pass\n",
    "    \n",
    "    #신경망에 질의하기\n",
    "    def query(self, input_list):\n",
    "        inputs = np.array(input_list, ndmin=2).T\n",
    "    \n",
    "        hidden_inputs1 = np.dot(self.wih1, inputs)\n",
    "        hidden_outputs1 = self.activation_function(hidden_inputs1)\n",
    "        hidden_inputs2 = np.dot(self.wh1h2, hidden_outputs1)\n",
    "        hidden_outputs2 = self.activation_function(hidden_inputs2)\n",
    "        final_inputs = np.dot(self.wh2o, hidden_outputs2)\n",
    "        final_outputs  = self.activation_function(final_inputs)\n",
    "        return  final_outputs"
   ]
  },
  {
   "cell_type": "code",
   "execution_count": 4,
   "metadata": {},
   "outputs": [],
   "source": [
    "def testAllNeuralNet(e):\n",
    "    test_data_file = open(\"mnist_dataset/mnist_test.csv\",\"r\")\n",
    "    test_data_list = test_data_file.readlines()\n",
    "    test_data_file.close()\n",
    "\n",
    "    scorecard1 = []\n",
    "    scorecard2 = []\n",
    "    predict2 = []\n",
    "    \n",
    "    for record in test_data_list:\n",
    "        all_values = record.split(',')\n",
    "        correct_label = int(all_values[0])\n",
    "        inputs = (np.asfarray(all_values[1:]) / 255.0 * 0.99) + 0.01\n",
    "        outputs = n.query(inputs)\n",
    "        label = np.argmax(outputs)\n",
    "\n",
    "        if(label == correct_label):\n",
    "            scorecard1.append(1)\n",
    "        else:\n",
    "            scorecard1.append(0)\n",
    "            pass\n",
    "        pass\n",
    "    \n",
    "    for image_file_name in glob.glob('my_own_images/my_id_?_?.png'):\n",
    "        correct_label= int(image_file_name[-5:-4])\n",
    "        image_array = imageio.imread(image_file_name)\n",
    "        image_array = image_array[:,:,0]\n",
    "        image_data = 255.0 - image_array.reshape(784)\n",
    "        image_data = (image_data/255.0 *0.99) +0.01\n",
    "\n",
    "        outputs = n.query(image_data)\n",
    "        label = np.argmax(outputs)\n",
    "        predict2.append(label)\n",
    "        if(label == correct_label):\n",
    "            scorecard2.append(1)\n",
    "        else:\n",
    "            scorecard2.append(0)\n",
    "            pass\n",
    "        pass\n",
    "\n",
    "    scorecard_array1 = np.asarray(scorecard1)\n",
    "    scorecard_array2 = np.asarray(scorecard2)\n",
    "    print(predict2)\n",
    "    print(scorecard_array2)\n",
    "    print(\"epochs =\", e,\n",
    "     \"h_nodes1 = \", hidden_nodes1, \" h_nodes2 = \", hidden_nodes2,\n",
    "     \" learn_rate = \", learning_rate, \" perform = \",scorecard_array1.sum() / scorecard_array1.size, \n",
    "     \" my_perfrom = \",scorecard_array2.sum() / scorecard_array2.size)"
   ]
  },
  {
   "cell_type": "markdown",
   "metadata": {},
   "source": [
    "# 하이퍼 파라미터"
   ]
  },
  {
   "cell_type": "code",
   "execution_count": 5,
   "metadata": {},
   "outputs": [],
   "source": [
    "input_nodes = 784\n",
    "hidden_nodes1 = 400\n",
    "hidden_nodes2 = 200\n",
    "output_nodes = 10\n",
    "learning_rate = 0.005\n",
    "epochs = 10\n",
    "\n",
    "n = neuralNetwork2(input_nodes, hidden_nodes1, hidden_nodes2, output_nodes, learning_rate)\n",
    "\n",
    "#100~200\n",
    "#0.3~0.03\n",
    "#5~10"
   ]
  },
  {
   "cell_type": "markdown",
   "metadata": {},
   "source": [
    "# 학습 시작"
   ]
  },
  {
   "cell_type": "code",
   "execution_count": 69,
   "metadata": {
    "scrolled": false
   },
   "outputs": [
    {
     "name": "stdout",
     "output_type": "stream",
     "text": [
      "[2, 0, 1, 6, 0, 1, 7, 0, 1]\n",
      "[1 1 1 1 1 1 1 0 0]\n",
      "epochs = 1 h_nodes1 =  400  h_nodes2 =  200  learn_rate =  0.005  perform =  0.9429  my_perfrom =  0.7777777777777778\n",
      "[2, 0, 1, 6, 0, 1, 7, 6, 1]\n",
      "[1 1 1 1 1 1 1 1 0]\n",
      "epochs = 2 h_nodes1 =  400  h_nodes2 =  200  learn_rate =  0.005  perform =  0.9561  my_perfrom =  0.8888888888888888\n",
      "[2, 0, 1, 6, 9, 1, 7, 6, 1]\n",
      "[1 1 1 1 0 1 1 1 0]\n",
      "epochs = 3 h_nodes1 =  400  h_nodes2 =  200  learn_rate =  0.005  perform =  0.9637  my_perfrom =  0.7777777777777778\n",
      "[2, 0, 1, 6, 9, 1, 0, 6, 1]\n",
      "[1 1 1 1 0 1 0 1 0]\n",
      "epochs = 4 h_nodes1 =  400  h_nodes2 =  200  learn_rate =  0.005  perform =  0.9673  my_perfrom =  0.6666666666666666\n",
      "[2, 0, 1, 6, 9, 1, 0, 6, 1]\n",
      "[1 1 1 1 0 1 0 1 0]\n",
      "epochs = 5 h_nodes1 =  400  h_nodes2 =  200  learn_rate =  0.005  perform =  0.9709  my_perfrom =  0.6666666666666666\n",
      "[2, 0, 1, 6, 9, 1, 0, 6, 1]\n",
      "[1 1 1 1 0 1 0 1 0]\n",
      "epochs = 6 h_nodes1 =  400  h_nodes2 =  200  learn_rate =  0.005  perform =  0.9728  my_perfrom =  0.6666666666666666\n",
      "[2, 0, 1, 6, 9, 1, 9, 6, 7]\n",
      "[1 1 1 1 0 1 0 1 0]\n",
      "epochs = 7 h_nodes1 =  400  h_nodes2 =  200  learn_rate =  0.005  perform =  0.9746  my_perfrom =  0.6666666666666666\n",
      "[2, 0, 1, 6, 9, 1, 9, 6, 7]\n",
      "[1 1 1 1 0 1 0 1 0]\n",
      "epochs = 8 h_nodes1 =  400  h_nodes2 =  200  learn_rate =  0.005  perform =  0.9771  my_perfrom =  0.6666666666666666\n",
      "[2, 0, 1, 6, 9, 1, 0, 6, 7]\n",
      "[1 1 1 1 0 1 0 1 0]\n",
      "epochs = 9 h_nodes1 =  400  h_nodes2 =  200  learn_rate =  0.005  perform =  0.9769  my_perfrom =  0.6666666666666666\n",
      "[2, 0, 1, 6, 9, 1, 9, 6, 7]\n",
      "[1 1 1 1 0 1 0 1 0]\n",
      "epochs = 10 h_nodes1 =  400  h_nodes2 =  200  learn_rate =  0.005  perform =  0.9768  my_perfrom =  0.6666666666666666\n"
     ]
    }
   ],
   "source": [
    "train_data_file = open(\"mnist_dataset/mnist_train.csv\",\"r\")\n",
    "train_data_list = train_data_file.readlines()\n",
    "train_data_file.close()\n",
    "    \n",
    "for e in range(epochs):\n",
    "    for record in train_data_list:\n",
    "        all_values = record.split(',')\n",
    "        inputs = (np.asfarray(all_values[1:]) / 255.0 * 0.99) + 0.01 #0~255값 -> 0.01~1사이의 값\n",
    "        targets = np.zeros(output_nodes) + 0.01 #결과값중 아닌것들은 0.01\n",
    "        targets[int(all_values[0])] = 0.99      #결과값중 맞는것은 0.99\n",
    "        n.train(inputs, targets)\n",
    "    testAllNeuralNet(e+1)\n",
    "pass"
   ]
  },
  {
   "cell_type": "markdown",
   "metadata": {},
   "source": [
    "# 회전이전의 결과 "
   ]
  },
  {
   "cell_type": "code",
   "execution_count": 62,
   "metadata": {
    "scrolled": false
   },
   "outputs": [
    {
     "data": {
      "image/png": "[encoded data removed]",
      "text/plain": [
       "<Figure size 432x288 with 9 Axes>"
      ]
     },
     "metadata": {
      "needs_background": "light"
     },
     "output_type": "display_data"
    },
    {
     "name": "stdout",
     "output_type": "stream",
     "text": [
      "[2, 0, 1, 6, 2, 1, 2, 6, 3]\n",
      "[1 1 1 1 0 1 0 1 0]\n",
      "epochs = 2 h_nodes1 =  400  h_nodes2 =  200  learn_rate =  0.1  perform =  0.9374  my_perfrom =  0.6666666666666666\n"
     ]
    }
   ],
   "source": [
    "show_image_label()\n",
    "testAllNeuralNet(e+1)"
   ]
  },
  {
   "cell_type": "code",
   "execution_count": 67,
   "metadata": {},
   "outputs": [
    {
     "data": {
      "image/png": "[encoded data removed]",
      "text/plain": [
       "<Figure size 432x288 with 9 Axes>"
      ]
     },
     "metadata": {
      "needs_background": "light"
     },
     "output_type": "display_data"
    },
    {
     "name": "stdout",
     "output_type": "stream",
     "text": [
      "[2, 0, 1, 6, 9, 1, 8, 6, 3]\n",
      "[1 1 1 1 0 1 0 1 0]\n",
      "epochs = 10 h_nodes1 =  400  h_nodes2 =  200  learn_rate =  0.05  perform =  0.9577  my_perfrom =  0.6666666666666666\n"
     ]
    }
   ],
   "source": [
    "show_image_label()\n",
    "testAllNeuralNet(e+1)"
   ]
  },
  {
   "cell_type": "code",
   "execution_count": 70,
   "metadata": {
    "scrolled": false
   },
   "outputs": [
    {
     "data": {
      "image/png": "[encoded data removed]",
      "text/plain": [
       "<Figure size 432x288 with 9 Axes>"
      ]
     },
     "metadata": {
      "needs_background": "light"
     },
     "output_type": "display_data"
    },
    {
     "name": "stdout",
     "output_type": "stream",
     "text": [
      "[2, 0, 1, 6, 9, 1, 9, 6, 7]\n",
      "[1 1 1 1 0 1 0 1 0]\n",
      "epochs = 10 h_nodes1 =  400  h_nodes2 =  200  learn_rate =  0.005  perform =  0.9768  my_perfrom =  0.6666666666666666\n"
     ]
    }
   ],
   "source": [
    "show_image_label()\n",
    "testAllNeuralNet(e+1)"
   ]
  },
  {
   "cell_type": "code",
   "execution_count": null,
   "metadata": {},
   "outputs": [],
   "source": [
    "epochs =  1 hidden_nodes1 =  200  hidden_nodes2 =  100 learning_rate =  0.01 performance =  0.7777777777777778\n",
    "epochs =  2 hidden_nodes1 =  200  hidden_nodes2 =  100 learning_rate =  0.01 performance =  0.5555555555555556\n",
    "epochs =  3 hidden_nodes1 =  200  hidden_nodes2 =  100 learning_rate =  0.01 performance =  0.6666666666666666\n",
    "epochs =  4 hidden_nodes1 =  200  hidden_nodes2 =  100 learning_rate =  0.01 performance =  0.5555555555555556\n",
    "epochs =  5 hidden_nodes1 =  200  hidden_nodes2 =  100 learning_rate =  0.01 performance =  0.5555555555555556\n",
    "epochs =  6 hidden_nodes1 =  200  hidden_nodes2 =  100 learning_rate =  0.01 performance =  0.5555555555555556"
   ]
  },
  {
   "cell_type": "code",
   "execution_count": null,
   "metadata": {},
   "outputs": [],
   "source": [
    "epochs = 1 h_nodes1 =  400  h_nodes2 =  200  learn_rate =  0.005  perform =  0.9372  my_perfrom =  0.7777777777777778\n",
    "epochs = 2 h_nodes1 =  400  h_nodes2 =  200  learn_rate =  0.005  perform =  0.9531  my_perfrom =  0.5555555555555556\n",
    "epochs = 3 h_nodes1 =  400  h_nodes2 =  200  learn_rate =  0.005  perform =  0.962  my_perfrom =  0.6666666666666666\n",
    "epochs = 4 h_nodes1 =  400  h_nodes2 =  200  learn_rate =  0.005  perform =  0.9669  my_perfrom =  0.5555555555555556\n",
    "epochs = 5 h_nodes1 =  400  h_nodes2 =  200  learn_rate =  0.005  perform =  0.971  my_perfrom =  0.6666666666666666\n",
    "epochs = 6 h_nodes1 =  400  h_nodes2 =  200  learn_rate =  0.005  perform =  0.9721  my_perfrom =  0.6666666666666666\n",
    "epochs = 7 h_nodes1 =  400  h_nodes2 =  200  learn_rate =  0.005  perform =  0.9741  my_perfrom =  0.5555555555555556\n",
    "epochs = 8 h_nodes1 =  400  h_nodes2 =  200  learn_rate =  0.005  perform =  0.9754  my_perfrom =  0.5555555555555556\n",
    "epochs = 9 h_nodes1 =  400  h_nodes2 =  200  learn_rate =  0.005  perform =  0.9767  my_perfrom =  0.5555555555555556\n",
    "epochs = 10 h_nodes1 =  400  h_nodes2 =  200  learn_rate =  0.005  perform =  0.9766  my_perfrom =  0.5555555555555556"
   ]
  },
  {
   "cell_type": "code",
   "execution_count": null,
   "metadata": {},
   "outputs": [],
   "source": [
    "[2, 0, 1, 6, 0, 1, 7, 0, 1]\n",
    "[1 1 1 1 1 1 1 0 0]\n",
    "epochs = 1 h_nodes1 =  400  h_nodes2 =  200  learn_rate =  0.005  perform =  0.9429  my_perfrom =  0.7777777777777778\n",
    "[2, 0, 1, 6, 0, 1, 7, 6, 1]\n",
    "[1 1 1 1 1 1 1 1 0]\n",
    "epochs = 2 h_nodes1 =  400  h_nodes2 =  200  learn_rate =  0.005  perform =  0.9561  my_perfrom =  0.8888888888888888\n",
    "[2, 0, 1, 6, 9, 1, 7, 6, 1]\n",
    "[1 1 1 1 0 1 1 1 0]\n",
    "epochs = 3 h_nodes1 =  400  h_nodes2 =  200  learn_rate =  0.005  perform =  0.9637  my_perfrom =  0.7777777777777778\n",
    "[2, 0, 1, 6, 9, 1, 0, 6, 1]\n",
    "[1 1 1 1 0 1 0 1 0]\n",
    "epochs = 4 h_nodes1 =  400  h_nodes2 =  200  learn_rate =  0.005  perform =  0.9673  my_perfrom =  0.6666666666666666\n",
    "[2, 0, 1, 6, 9, 1, 0, 6, 1]\n",
    "[1 1 1 1 0 1 0 1 0]\n",
    "epochs = 5 h_nodes1 =  400  h_nodes2 =  200  learn_rate =  0.005  perform =  0.9709  my_perfrom =  0.6666666666666666\n",
    "[2, 0, 1, 6, 9, 1, 0, 6, 1]\n",
    "[1 1 1 1 0 1 0 1 0]"
   ]
  },
  {
   "cell_type": "markdown",
   "metadata": {},
   "source": [
    "아무리해도 실제 정확도가 0.88888이상으로 나오는 상황을 찾기 힘들었으며, 실제로 더욱더 길게 훈련시킬수록 내 손글씨에 대한 예측정답률이 떨어지는 것을 확인할 수 있었음. 아무래도 MNIST의 특성에 맞춰 학습이 되어간다고 판단함.\n",
    "따라서 교수님께서 말씀해주신 회전까지 추가하여 학습을 진행해보았음."
   ]
  },
  {
   "cell_type": "markdown",
   "metadata": {},
   "source": [
    "# 회전을 추가하여 학습 "
   ]
  },
  {
   "cell_type": "code",
   "execution_count": 15,
   "metadata": {},
   "outputs": [],
   "source": [
    "input_nodes = 784\n",
    "hidden_nodes1 = 400\n",
    "hidden_nodes2 = 200\n",
    "output_nodes = 10\n",
    "learning_rate = 0.01\n",
    "epochs = 20"
   ]
  },
  {
   "cell_type": "code",
   "execution_count": 16,
   "metadata": {},
   "outputs": [
    {
     "name": "stdout",
     "output_type": "stream",
     "text": [
      "[2, 9, 1, 6, 9, 1, 2, 5, 7]\n",
      "[1 0 1 1 0 1 0 0 0]\n",
      "epochs = 1 h_nodes1 =  400  h_nodes2 =  200  learn_rate =  0.01  perform =  0.9676  my_perfrom =  0.4444444444444444\n",
      "[2, 9, 1, 6, 9, 1, 2, 6, 7]\n",
      "[1 0 1 1 0 1 0 1 0]\n",
      "epochs = 2 h_nodes1 =  400  h_nodes2 =  200  learn_rate =  0.01  perform =  0.9702  my_perfrom =  0.5555555555555556\n",
      "[2, 9, 1, 6, 9, 1, 2, 6, 7]\n",
      "[1 0 1 1 0 1 0 1 0]\n",
      "epochs = 3 h_nodes1 =  400  h_nodes2 =  200  learn_rate =  0.01  perform =  0.9717  my_perfrom =  0.5555555555555556\n",
      "[2, 9, 1, 6, 9, 1, 2, 6, 7]\n",
      "[1 0 1 1 0 1 0 1 0]\n",
      "epochs = 4 h_nodes1 =  400  h_nodes2 =  200  learn_rate =  0.01  perform =  0.973  my_perfrom =  0.5555555555555556\n",
      "[2, 9, 1, 6, 0, 1, 2, 6, 7]\n",
      "[1 0 1 1 1 1 0 1 0]\n",
      "epochs = 5 h_nodes1 =  400  h_nodes2 =  200  learn_rate =  0.01  perform =  0.9725  my_perfrom =  0.6666666666666666\n",
      "[2, 0, 1, 6, 0, 1, 0, 6, 7]\n",
      "[1 1 1 1 1 1 0 1 0]\n",
      "epochs = 6 h_nodes1 =  400  h_nodes2 =  200  learn_rate =  0.01  perform =  0.9726  my_perfrom =  0.7777777777777778\n",
      "[2, 0, 1, 6, 0, 1, 0, 5, 7]\n",
      "[1 1 1 1 1 1 0 0 0]\n",
      "epochs = 7 h_nodes1 =  400  h_nodes2 =  200  learn_rate =  0.01  perform =  0.9706  my_perfrom =  0.6666666666666666\n",
      "[2, 9, 1, 6, 9, 1, 2, 5, 7]\n",
      "[1 0 1 1 0 1 0 0 0]\n",
      "epochs = 8 h_nodes1 =  400  h_nodes2 =  200  learn_rate =  0.01  perform =  0.9735  my_perfrom =  0.4444444444444444\n",
      "[2, 0, 1, 6, 9, 1, 2, 5, 7]\n",
      "[1 1 1 1 0 1 0 0 0]\n",
      "epochs = 9 h_nodes1 =  400  h_nodes2 =  200  learn_rate =  0.01  perform =  0.9732  my_perfrom =  0.5555555555555556\n"
     ]
    },
    {
     "ename": "KeyboardInterrupt",
     "evalue": "",
     "output_type": "error",
     "traceback": [
      "\u001b[1;31m---------------------------------------------------------------------------\u001b[0m",
      "\u001b[1;31mKeyboardInterrupt\u001b[0m                         Traceback (most recent call last)",
      "\u001b[1;32m<ipython-input-16-29258f6af9da>\u001b[0m in \u001b[0;36m<module>\u001b[1;34m\u001b[0m\n\u001b[0;32m     15\u001b[0m             \u001b[0mtargets\u001b[0m \u001b[1;33m=\u001b[0m \u001b[0mnp\u001b[0m\u001b[1;33m.\u001b[0m\u001b[0mzeros\u001b[0m\u001b[1;33m(\u001b[0m\u001b[0moutput_nodes\u001b[0m\u001b[1;33m)\u001b[0m \u001b[1;33m+\u001b[0m \u001b[1;36m0.01\u001b[0m \u001b[1;31m#결과값중 아닌것들은 0.01\u001b[0m\u001b[1;33m\u001b[0m\u001b[1;33m\u001b[0m\u001b[0m\n\u001b[0;32m     16\u001b[0m             \u001b[0mtargets\u001b[0m\u001b[1;33m[\u001b[0m\u001b[0mint\u001b[0m\u001b[1;33m(\u001b[0m\u001b[0mall_values\u001b[0m\u001b[1;33m[\u001b[0m\u001b[1;36m0\u001b[0m\u001b[1;33m]\u001b[0m\u001b[1;33m)\u001b[0m\u001b[1;33m]\u001b[0m \u001b[1;33m=\u001b[0m \u001b[1;36m0.99\u001b[0m      \u001b[1;31m#결과값중 맞는것은 0.99\u001b[0m\u001b[1;33m\u001b[0m\u001b[1;33m\u001b[0m\u001b[0m\n\u001b[1;32m---> 17\u001b[1;33m             \u001b[0mn\u001b[0m\u001b[1;33m.\u001b[0m\u001b[0mtrain\u001b[0m\u001b[1;33m(\u001b[0m\u001b[0minputs\u001b[0m\u001b[1;33m,\u001b[0m \u001b[0mtargets\u001b[0m\u001b[1;33m)\u001b[0m\u001b[1;33m\u001b[0m\u001b[1;33m\u001b[0m\u001b[0m\n\u001b[0m\u001b[0;32m     18\u001b[0m     \u001b[0mtestAllNeuralNet\u001b[0m\u001b[1;33m(\u001b[0m\u001b[0me\u001b[0m\u001b[1;33m+\u001b[0m\u001b[1;36m1\u001b[0m\u001b[1;33m)\u001b[0m\u001b[1;33m\u001b[0m\u001b[1;33m\u001b[0m\u001b[0m\n\u001b[0;32m     19\u001b[0m \u001b[1;32mpass\u001b[0m\u001b[1;33m\u001b[0m\u001b[1;33m\u001b[0m\u001b[0m\n",
      "\u001b[1;32m<ipython-input-3-8720a3b01c57>\u001b[0m in \u001b[0;36mtrain\u001b[1;34m(self, input_list, target_list)\u001b[0m\n\u001b[0;32m     44\u001b[0m         \u001b[0mself\u001b[0m\u001b[1;33m.\u001b[0m\u001b[0mwh2o\u001b[0m \u001b[1;33m+=\u001b[0m \u001b[0mself\u001b[0m\u001b[1;33m.\u001b[0m\u001b[0mlr\u001b[0m \u001b[1;33m*\u001b[0m \u001b[0mnp\u001b[0m\u001b[1;33m.\u001b[0m\u001b[0mdot\u001b[0m\u001b[1;33m(\u001b[0m\u001b[1;33m(\u001b[0m\u001b[0moutput_errors\u001b[0m \u001b[1;33m*\u001b[0m \u001b[0mfinal_outputs\u001b[0m \u001b[1;33m*\u001b[0m \u001b[1;33m(\u001b[0m\u001b[1;36m1.0\u001b[0m \u001b[1;33m-\u001b[0m\u001b[0mfinal_outputs\u001b[0m\u001b[1;33m)\u001b[0m\u001b[1;33m)\u001b[0m\u001b[1;33m,\u001b[0m \u001b[0mnp\u001b[0m\u001b[1;33m.\u001b[0m\u001b[0mtranspose\u001b[0m\u001b[1;33m(\u001b[0m\u001b[0mhidden_outputs2\u001b[0m\u001b[1;33m)\u001b[0m\u001b[1;33m)\u001b[0m\u001b[1;33m\u001b[0m\u001b[1;33m\u001b[0m\u001b[0m\n\u001b[0;32m     45\u001b[0m         \u001b[0mself\u001b[0m\u001b[1;33m.\u001b[0m\u001b[0mwh1h2\u001b[0m \u001b[1;33m+=\u001b[0m \u001b[0mself\u001b[0m\u001b[1;33m.\u001b[0m\u001b[0mlr\u001b[0m \u001b[1;33m*\u001b[0m \u001b[0mnp\u001b[0m\u001b[1;33m.\u001b[0m\u001b[0mdot\u001b[0m\u001b[1;33m(\u001b[0m\u001b[1;33m(\u001b[0m\u001b[0mhidden_errors2\u001b[0m \u001b[1;33m*\u001b[0m \u001b[0mhidden_outputs2\u001b[0m \u001b[1;33m*\u001b[0m \u001b[1;33m(\u001b[0m\u001b[1;36m1.0\u001b[0m \u001b[1;33m-\u001b[0m\u001b[0mhidden_outputs2\u001b[0m\u001b[1;33m)\u001b[0m\u001b[1;33m)\u001b[0m\u001b[1;33m,\u001b[0m \u001b[0mnp\u001b[0m\u001b[1;33m.\u001b[0m\u001b[0mtranspose\u001b[0m\u001b[1;33m(\u001b[0m\u001b[0mhidden_outputs1\u001b[0m\u001b[1;33m)\u001b[0m\u001b[1;33m)\u001b[0m\u001b[1;33m\u001b[0m\u001b[1;33m\u001b[0m\u001b[0m\n\u001b[1;32m---> 46\u001b[1;33m         \u001b[0mself\u001b[0m\u001b[1;33m.\u001b[0m\u001b[0mwih1\u001b[0m \u001b[1;33m+=\u001b[0m \u001b[0mself\u001b[0m\u001b[1;33m.\u001b[0m\u001b[0mlr\u001b[0m \u001b[1;33m*\u001b[0m \u001b[0mnp\u001b[0m\u001b[1;33m.\u001b[0m\u001b[0mdot\u001b[0m\u001b[1;33m(\u001b[0m\u001b[1;33m(\u001b[0m\u001b[0mhidden_errors1\u001b[0m \u001b[1;33m*\u001b[0m \u001b[0mhidden_outputs1\u001b[0m \u001b[1;33m*\u001b[0m \u001b[1;33m(\u001b[0m\u001b[1;36m1.0\u001b[0m \u001b[1;33m-\u001b[0m\u001b[0mhidden_outputs1\u001b[0m\u001b[1;33m)\u001b[0m\u001b[1;33m)\u001b[0m\u001b[1;33m,\u001b[0m \u001b[0mnp\u001b[0m\u001b[1;33m.\u001b[0m\u001b[0mtranspose\u001b[0m\u001b[1;33m(\u001b[0m\u001b[0minputs\u001b[0m\u001b[1;33m)\u001b[0m\u001b[1;33m)\u001b[0m\u001b[1;33m\u001b[0m\u001b[1;33m\u001b[0m\u001b[0m\n\u001b[0m\u001b[0;32m     47\u001b[0m         \u001b[1;32mpass\u001b[0m\u001b[1;33m\u001b[0m\u001b[1;33m\u001b[0m\u001b[0m\n\u001b[0;32m     48\u001b[0m \u001b[1;33m\u001b[0m\u001b[0m\n",
      "\u001b[1;31mKeyboardInterrupt\u001b[0m: "
     ]
    }
   ],
   "source": [
    "train_data_file = open(\"mnist_dataset/mnist_train.csv\",\"r\")\n",
    "train_data_list = train_data_file.readlines()\n",
    "train_data_file.close()\n",
    "    \n",
    "for e in range(epochs):\n",
    "    for record in train_data_list:\n",
    "        for angle in np.arange(-30, 30, 10):\n",
    "            all_values = record.split(',')\n",
    "            inputs = (np.asfarray(all_values[1:]) / 255.0 * 0.99) + 0.01 #0~255값 -> 0.01~1사이의 값\n",
    "            \n",
    "            pixels = inputs.reshape((28,28))\n",
    "            inputs = imutils.rotate(pixels, angle) #회전\n",
    "            inputs = inputs.reshape((784,))\n",
    "            \n",
    "            targets = np.zeros(output_nodes) + 0.01 #결과값중 아닌것들은 0.01\n",
    "            targets[int(all_values[0])] = 0.99      #결과값중 맞는것은 0.99\n",
    "            n.train(inputs, targets)\n",
    "    testAllNeuralNet(e+1)\n",
    "pass"
   ]
  },
  {
   "cell_type": "code",
   "execution_count": 13,
   "metadata": {},
   "outputs": [
    {
     "data": {
      "image/png": "[encoded data removed]",
      "text/plain": [
       "<Figure size 432x288 with 9 Axes>"
      ]
     },
     "metadata": {
      "needs_background": "light"
     },
     "output_type": "display_data"
    },
    {
     "name": "stdout",
     "output_type": "stream",
     "text": [
      "[2, 9, 1, 6, 9, 1, 2, 6, 2]\n",
      "[1 0 1 1 0 1 0 1 0]\n",
      "epochs = 1 h_nodes1 =  400  h_nodes2 =  100  learn_rate =  0.005  perform =  0.9638  my_perfrom =  0.5555555555555556\n"
     ]
    }
   ],
   "source": [
    "show_image_label()\n",
    "testAllNeuralNet(e+1)"
   ]
  },
  {
   "cell_type": "code",
   "execution_count": 17,
   "metadata": {},
   "outputs": [
    {
     "data": {
      "image/png": "[encoded data removed]",
      "text/plain": [
       "<Figure size 432x288 with 9 Axes>"
      ]
     },
     "metadata": {
      "needs_background": "light"
     },
     "output_type": "display_data"
    },
    {
     "name": "stdout",
     "output_type": "stream",
     "text": [
      "[2, 0, 1, 6, 9, 1, 2, 5, 1]\n",
      "[1 1 1 1 0 1 0 0 0]\n",
      "epochs = 10 h_nodes1 =  400  h_nodes2 =  200  learn_rate =  0.01  perform =  0.9695  my_perfrom =  0.5555555555555556\n"
     ]
    }
   ],
   "source": [
    "show_image_label()\n",
    "testAllNeuralNet(e+1)"
   ]
  },
  {
   "cell_type": "markdown",
   "metadata": {},
   "source": [
    "##### 회전을 하였음에도 불구하고 성능에서는 그렇게 올라가지 않는 것을 확인 할수 있었는데, 비록 학습데이터는 회전을 통해 약 6배가 증가하였지만 실제 내가쓴 손글씨의 데이터를 이해하는데에는 조금 연관성이 없는 데이터가 아니었나 하는 생각이 들었다.\n",
    "\n",
    "##### 실제 내 손글씨의 데이터가 정확도가 1이 나오게 하려면  내가 직접 데이터를 손으로 생성하여 학습데이터를 추가해야  아무래도 높은 정확도에 올라가지 않을까 하는 생각이 들었다."
   ]
  },
  {
   "cell_type": "markdown",
   "metadata": {},
   "source": [
    "# 201601769 나요한"
   ]
  },
  {
   "cell_type": "code",
   "execution_count": null,
   "metadata": {},
   "outputs": [],
   "source": [
    "[2, 9, 1, 6, 9, 1, 2, 5, 7]\n",
    "[1 0 1 1 0 1 0 0 0]\n",
    "epochs = 1 h_nodes1 =  400  h_nodes2 =  200  learn_rate =  0.01  perform =  0.9676  my_perfrom =  0.4444444444444444\n",
    "[2, 9, 1, 6, 9, 1, 2, 6, 7]\n",
    "[1 0 1 1 0 1 0 1 0]\n",
    "epochs = 2 h_nodes1 =  400  h_nodes2 =  200  learn_rate =  0.01  perform =  0.9702  my_perfrom =  0.5555555555555556\n",
    "[2, 9, 1, 6, 9, 1, 2, 6, 7]\n",
    "[1 0 1 1 0 1 0 1 0]\n",
    "epochs = 3 h_nodes1 =  400  h_nodes2 =  200  learn_rate =  0.01  perform =  0.9717  my_perfrom =  0.5555555555555556\n",
    "[2, 9, 1, 6, 9, 1, 2, 6, 7]\n",
    "[1 0 1 1 0 1 0 1 0]\n",
    "epochs = 4 h_nodes1 =  400  h_nodes2 =  200  learn_rate =  0.01  perform =  0.973  my_perfrom =  0.5555555555555556\n",
    "[2, 9, 1, 6, 0, 1, 2, 6, 7]\n",
    "[1 0 1 1 1 1 0 1 0]\n",
    "epochs = 5 h_nodes1 =  400  h_nodes2 =  200  learn_rate =  0.01  perform =  0.9725  my_perfrom =  0.6666666666666666\n",
    "[2, 0, 1, 6, 0, 1, 0, 6, 7]\n",
    "[1 1 1 1 1 1 0 1 0]\n",
    "epochs = 6 h_nodes1 =  400  h_nodes2 =  200  learn_rate =  0.01  perform =  0.9726  my_perfrom =  0.7777777777777778\n",
    "[2, 0, 1, 6, 0, 1, 0, 5, 7]\n",
    "[1 1 1 1 1 1 0 0 0]\n",
    "epochs = 7 h_nodes1 =  400  h_nodes2 =  200  learn_rate =  0.01  perform =  0.9706  my_perfrom =  0.6666666666666666\n",
    "[2, 9, 1, 6, 9, 1, 2, 5, 7]\n",
    "[1 0 1 1 0 1 0 0 0]\n",
    "epochs = 8 h_nodes1 =  400  h_nodes2 =  200  learn_rate =  0.01  perform =  0.9735  my_perfrom =  0.4444444444444444\n",
    "[2, 0, 1, 6, 9, 1, 2, 5, 7]\n",
    "[1 1 1 1 0 1 0 0 0]\n",
    "epochs = 9 h_nodes1 =  400  h_nodes2 =  200  learn_rate =  0.01  perform =  0.9732  my_perfrom =  0.5555555555555556"
   ]
  }
 ],
 "metadata": {
  "kernelspec": {
   "display_name": "Python 3",
   "language": "python",
   "name": "python3"
  },
  "language_info": {
   "codemirror_mode": {
    "name": "ipython",
    "version": 3
   },
   "file_extension": ".py",
   "mimetype": "text/x-python",
   "name": "python",
   "nbconvert_exporter": "python",
   "pygments_lexer": "ipython3",
   "version": "3.7.6"
  }
 },
 "nbformat": 4,
 "nbformat_minor": 4
}
